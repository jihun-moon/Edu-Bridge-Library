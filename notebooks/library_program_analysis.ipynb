{
  "nbformat": 4,
  "nbformat_minor": 0,
  "metadata": {
    "colab": {
      "provenance": []
    },
    "kernelspec": {
      "name": "python3",
      "display_name": "Python 3"
    },
    "language_info": {
      "name": "python"
    }
  },
  "cells": [
    {
      "cell_type": "code",
      "execution_count": null,
      "metadata": {
        "id": "HojEqsKRvMIF"
      },
      "outputs": [],
      "source": [
        "import pandas as pd\n",
        "import matplotlib.pyplot as plt\n",
        "import seaborn as sns"
      ]
    },
    {
      "cell_type": "markdown",
      "source": [
        "#데이터 분석\n"
      ],
      "metadata": {
        "id": "BRyCPmCmeogP"
      }
    },
    {
      "cell_type": "code",
      "source": [
        "display(df_grouped)"
      ],
      "metadata": {
        "colab": {
          "base_uri": "https://localhost:8080/",
          "height": 331
        },
        "id": "9Aw78DpHerLQ",
        "outputId": "84ba9e71-5f72-4194-fcbb-37ae58cfa3d4"
      },
      "execution_count": null,
      "outputs": [
        {
          "output_type": "display_data",
          "data": {
            "text/plain": [
              "  주제분류_bin     대출건수\n",
              "0     0-99   194436\n",
              "1  100-199   234175\n",
              "2  200-299   121540\n",
              "3  300-399   674048\n",
              "4  400-499   552651\n",
              "5  500-599   359328\n",
              "6  600-699   218383\n",
              "7  700-799   246471\n",
              "8  800-899  3426255"
            ],
            "text/html": [
              "\n",
              "  <div id=\"df-e0e8b490-ad22-49b9-8a52-a7b8579367e8\" class=\"colab-df-container\">\n",
              "    <div>\n",
              "<style scoped>\n",
              "    .dataframe tbody tr th:only-of-type {\n",
              "        vertical-align: middle;\n",
              "    }\n",
              "\n",
              "    .dataframe tbody tr th {\n",
              "        vertical-align: top;\n",
              "    }\n",
              "\n",
              "    .dataframe thead th {\n",
              "        text-align: right;\n",
              "    }\n",
              "</style>\n",
              "<table border=\"1\" class=\"dataframe\">\n",
              "  <thead>\n",
              "    <tr style=\"text-align: right;\">\n",
              "      <th></th>\n",
              "      <th>주제분류_bin</th>\n",
              "      <th>대출건수</th>\n",
              "    </tr>\n",
              "  </thead>\n",
              "  <tbody>\n",
              "    <tr>\n",
              "      <th>0</th>\n",
              "      <td>0-99</td>\n",
              "      <td>194436</td>\n",
              "    </tr>\n",
              "    <tr>\n",
              "      <th>1</th>\n",
              "      <td>100-199</td>\n",
              "      <td>234175</td>\n",
              "    </tr>\n",
              "    <tr>\n",
              "      <th>2</th>\n",
              "      <td>200-299</td>\n",
              "      <td>121540</td>\n",
              "    </tr>\n",
              "    <tr>\n",
              "      <th>3</th>\n",
              "      <td>300-399</td>\n",
              "      <td>674048</td>\n",
              "    </tr>\n",
              "    <tr>\n",
              "      <th>4</th>\n",
              "      <td>400-499</td>\n",
              "      <td>552651</td>\n",
              "    </tr>\n",
              "    <tr>\n",
              "      <th>5</th>\n",
              "      <td>500-599</td>\n",
              "      <td>359328</td>\n",
              "    </tr>\n",
              "    <tr>\n",
              "      <th>6</th>\n",
              "      <td>600-699</td>\n",
              "      <td>218383</td>\n",
              "    </tr>\n",
              "    <tr>\n",
              "      <th>7</th>\n",
              "      <td>700-799</td>\n",
              "      <td>246471</td>\n",
              "    </tr>\n",
              "    <tr>\n",
              "      <th>8</th>\n",
              "      <td>800-899</td>\n",
              "      <td>3426255</td>\n",
              "    </tr>\n",
              "  </tbody>\n",
              "</table>\n",
              "</div>\n",
              "    <div class=\"colab-df-buttons\">\n",
              "\n",
              "  <div class=\"colab-df-container\">\n",
              "    <button class=\"colab-df-convert\" onclick=\"convertToInteractive('df-e0e8b490-ad22-49b9-8a52-a7b8579367e8')\"\n",
              "            title=\"Convert this dataframe to an interactive table.\"\n",
              "            style=\"display:none;\">\n",
              "\n",
              "  <svg xmlns=\"http://www.w3.org/2000/svg\" height=\"24px\" viewBox=\"0 -960 960 960\">\n",
              "    <path d=\"M120-120v-720h720v720H120Zm60-500h600v-160H180v160Zm220 220h160v-160H400v160Zm0 220h160v-160H400v160ZM180-400h160v-160H180v160Zm440 0h160v-160H620v160ZM180-180h160v-160H180v160Zm440 0h160v-160H620v160Z\"/>\n",
              "  </svg>\n",
              "    </button>\n",
              "\n",
              "  <style>\n",
              "    .colab-df-container {\n",
              "      display:flex;\n",
              "      gap: 12px;\n",
              "    }\n",
              "\n",
              "    .colab-df-convert {\n",
              "      background-color: #E8F0FE;\n",
              "      border: none;\n",
              "      border-radius: 50%;\n",
              "      cursor: pointer;\n",
              "      display: none;\n",
              "      fill: #1967D2;\n",
              "      height: 32px;\n",
              "      padding: 0 0 0 0;\n",
              "      width: 32px;\n",
              "    }\n",
              "\n",
              "    .colab-df-convert:hover {\n",
              "      background-color: #E2EBFA;\n",
              "      box-shadow: 0px 1px 2px rgba(60, 64, 67, 0.3), 0px 1px 3px 1px rgba(60, 64, 67, 0.15);\n",
              "      fill: #174EA6;\n",
              "    }\n",
              "\n",
              "    .colab-df-buttons div {\n",
              "      margin-bottom: 4px;\n",
              "    }\n",
              "\n",
              "    [theme=dark] .colab-df-convert {\n",
              "      background-color: #3B4455;\n",
              "      fill: #D2E3FC;\n",
              "    }\n",
              "\n",
              "    [theme=dark] .colab-df-convert:hover {\n",
              "      background-color: #434B5C;\n",
              "      box-shadow: 0px 1px 3px 1px rgba(0, 0, 0, 0.15);\n",
              "      filter: drop-shadow(0px 1px 2px rgba(0, 0, 0, 0.3));\n",
              "      fill: #FFFFFF;\n",
              "    }\n",
              "  </style>\n",
              "\n",
              "    <script>\n",
              "      const buttonEl =\n",
              "        document.querySelector('#df-e0e8b490-ad22-49b9-8a52-a7b8579367e8 button.colab-df-convert');\n",
              "      buttonEl.style.display =\n",
              "        google.colab.kernel.accessAllowed ? 'block' : 'none';\n",
              "\n",
              "      async function convertToInteractive(key) {\n",
              "        const element = document.querySelector('#df-e0e8b490-ad22-49b9-8a52-a7b8579367e8');\n",
              "        const dataTable =\n",
              "          await google.colab.kernel.invokeFunction('convertToInteractive',\n",
              "                                                    [key], {});\n",
              "        if (!dataTable) return;\n",
              "\n",
              "        const docLinkHtml = 'Like what you see? Visit the ' +\n",
              "          '<a target=\"_blank\" href=https://colab.research.google.com/notebooks/data_table.ipynb>data table notebook</a>'\n",
              "          + ' to learn more about interactive tables.';\n",
              "        element.innerHTML = '';\n",
              "        dataTable['output_type'] = 'display_data';\n",
              "        await google.colab.output.renderOutput(dataTable, element);\n",
              "        const docLink = document.createElement('div');\n",
              "        docLink.innerHTML = docLinkHtml;\n",
              "        element.appendChild(docLink);\n",
              "      }\n",
              "    </script>\n",
              "  </div>\n",
              "\n",
              "\n",
              "    <div id=\"df-ad7365f0-b8b4-4200-a3b7-c7c5383085df\">\n",
              "      <button class=\"colab-df-quickchart\" onclick=\"quickchart('df-ad7365f0-b8b4-4200-a3b7-c7c5383085df')\"\n",
              "                title=\"Suggest charts\"\n",
              "                style=\"display:none;\">\n",
              "\n",
              "<svg xmlns=\"http://www.w3.org/2000/svg\" height=\"24px\"viewBox=\"0 0 24 24\"\n",
              "     width=\"24px\">\n",
              "    <g>\n",
              "        <path d=\"M19 3H5c-1.1 0-2 .9-2 2v14c0 1.1.9 2 2 2h14c1.1 0 2-.9 2-2V5c0-1.1-.9-2-2-2zM9 17H7v-7h2v7zm4 0h-2V7h2v10zm4 0h-2v-4h2v4z\"/>\n",
              "    </g>\n",
              "</svg>\n",
              "      </button>\n",
              "\n",
              "<style>\n",
              "  .colab-df-quickchart {\n",
              "      --bg-color: #E8F0FE;\n",
              "      --fill-color: #1967D2;\n",
              "      --hover-bg-color: #E2EBFA;\n",
              "      --hover-fill-color: #174EA6;\n",
              "      --disabled-fill-color: #AAA;\n",
              "      --disabled-bg-color: #DDD;\n",
              "  }\n",
              "\n",
              "  [theme=dark] .colab-df-quickchart {\n",
              "      --bg-color: #3B4455;\n",
              "      --fill-color: #D2E3FC;\n",
              "      --hover-bg-color: #434B5C;\n",
              "      --hover-fill-color: #FFFFFF;\n",
              "      --disabled-bg-color: #3B4455;\n",
              "      --disabled-fill-color: #666;\n",
              "  }\n",
              "\n",
              "  .colab-df-quickchart {\n",
              "    background-color: var(--bg-color);\n",
              "    border: none;\n",
              "    border-radius: 50%;\n",
              "    cursor: pointer;\n",
              "    display: none;\n",
              "    fill: var(--fill-color);\n",
              "    height: 32px;\n",
              "    padding: 0;\n",
              "    width: 32px;\n",
              "  }\n",
              "\n",
              "  .colab-df-quickchart:hover {\n",
              "    background-color: var(--hover-bg-color);\n",
              "    box-shadow: 0 1px 2px rgba(60, 64, 67, 0.3), 0 1px 3px 1px rgba(60, 64, 67, 0.15);\n",
              "    fill: var(--button-hover-fill-color);\n",
              "  }\n",
              "\n",
              "  .colab-df-quickchart-complete:disabled,\n",
              "  .colab-df-quickchart-complete:disabled:hover {\n",
              "    background-color: var(--disabled-bg-color);\n",
              "    fill: var(--disabled-fill-color);\n",
              "    box-shadow: none;\n",
              "  }\n",
              "\n",
              "  .colab-df-spinner {\n",
              "    border: 2px solid var(--fill-color);\n",
              "    border-color: transparent;\n",
              "    border-bottom-color: var(--fill-color);\n",
              "    animation:\n",
              "      spin 1s steps(1) infinite;\n",
              "  }\n",
              "\n",
              "  @keyframes spin {\n",
              "    0% {\n",
              "      border-color: transparent;\n",
              "      border-bottom-color: var(--fill-color);\n",
              "      border-left-color: var(--fill-color);\n",
              "    }\n",
              "    20% {\n",
              "      border-color: transparent;\n",
              "      border-left-color: var(--fill-color);\n",
              "      border-top-color: var(--fill-color);\n",
              "    }\n",
              "    30% {\n",
              "      border-color: transparent;\n",
              "      border-left-color: var(--fill-color);\n",
              "      border-top-color: var(--fill-color);\n",
              "      border-right-color: var(--fill-color);\n",
              "    }\n",
              "    40% {\n",
              "      border-color: transparent;\n",
              "      border-right-color: var(--fill-color);\n",
              "      border-top-color: var(--fill-color);\n",
              "    }\n",
              "    60% {\n",
              "      border-color: transparent;\n",
              "      border-right-color: var(--fill-color);\n",
              "    }\n",
              "    80% {\n",
              "      border-color: transparent;\n",
              "      border-right-color: var(--fill-color);\n",
              "      border-bottom-color: var(--fill-color);\n",
              "    }\n",
              "    90% {\n",
              "      border-color: transparent;\n",
              "      border-bottom-color: var(--fill-color);\n",
              "    }\n",
              "  }\n",
              "</style>\n",
              "\n",
              "      <script>\n",
              "        async function quickchart(key) {\n",
              "          const quickchartButtonEl =\n",
              "            document.querySelector('#' + key + ' button');\n",
              "          quickchartButtonEl.disabled = true;  // To prevent multiple clicks.\n",
              "          quickchartButtonEl.classList.add('colab-df-spinner');\n",
              "          try {\n",
              "            const charts = await google.colab.kernel.invokeFunction(\n",
              "                'suggestCharts', [key], {});\n",
              "          } catch (error) {\n",
              "            console.error('Error during call to suggestCharts:', error);\n",
              "          }\n",
              "          quickchartButtonEl.classList.remove('colab-df-spinner');\n",
              "          quickchartButtonEl.classList.add('colab-df-quickchart-complete');\n",
              "        }\n",
              "        (() => {\n",
              "          let quickchartButtonEl =\n",
              "            document.querySelector('#df-ad7365f0-b8b4-4200-a3b7-c7c5383085df button');\n",
              "          quickchartButtonEl.style.display =\n",
              "            google.colab.kernel.accessAllowed ? 'block' : 'none';\n",
              "        })();\n",
              "      </script>\n",
              "    </div>\n",
              "\n",
              "  <div id=\"id_5347eb12-28a7-4dc9-8f0b-08eecd75b244\">\n",
              "    <style>\n",
              "      .colab-df-generate {\n",
              "        background-color: #E8F0FE;\n",
              "        border: none;\n",
              "        border-radius: 50%;\n",
              "        cursor: pointer;\n",
              "        display: none;\n",
              "        fill: #1967D2;\n",
              "        height: 32px;\n",
              "        padding: 0 0 0 0;\n",
              "        width: 32px;\n",
              "      }\n",
              "\n",
              "      .colab-df-generate:hover {\n",
              "        background-color: #E2EBFA;\n",
              "        box-shadow: 0px 1px 2px rgba(60, 64, 67, 0.3), 0px 1px 3px 1px rgba(60, 64, 67, 0.15);\n",
              "        fill: #174EA6;\n",
              "      }\n",
              "\n",
              "      [theme=dark] .colab-df-generate {\n",
              "        background-color: #3B4455;\n",
              "        fill: #D2E3FC;\n",
              "      }\n",
              "\n",
              "      [theme=dark] .colab-df-generate:hover {\n",
              "        background-color: #434B5C;\n",
              "        box-shadow: 0px 1px 3px 1px rgba(0, 0, 0, 0.15);\n",
              "        filter: drop-shadow(0px 1px 2px rgba(0, 0, 0, 0.3));\n",
              "        fill: #FFFFFF;\n",
              "      }\n",
              "    </style>\n",
              "    <button class=\"colab-df-generate\" onclick=\"generateWithVariable('df_grouped')\"\n",
              "            title=\"Generate code using this dataframe.\"\n",
              "            style=\"display:none;\">\n",
              "\n",
              "  <svg xmlns=\"http://www.w3.org/2000/svg\" height=\"24px\"viewBox=\"0 0 24 24\"\n",
              "       width=\"24px\">\n",
              "    <path d=\"M7,19H8.4L18.45,9,17,7.55,7,17.6ZM5,21V16.75L18.45,3.32a2,2,0,0,1,2.83,0l1.4,1.43a1.91,1.91,0,0,1,.58,1.4,1.91,1.91,0,0,1-.58,1.4L9.25,21ZM18.45,9,17,7.55Zm-12,3A5.31,5.31,0,0,0,4.9,8.1,5.31,5.31,0,0,0,1,6.5,5.31,5.31,0,0,0,4.9,4.9,5.31,5.31,0,0,0,6.5,1,5.31,5.31,0,0,0,8.1,4.9,5.31,5.31,0,0,0,12,6.5,5.46,5.46,0,0,0,6.5,12Z\"/>\n",
              "  </svg>\n",
              "    </button>\n",
              "    <script>\n",
              "      (() => {\n",
              "      const buttonEl =\n",
              "        document.querySelector('#id_5347eb12-28a7-4dc9-8f0b-08eecd75b244 button.colab-df-generate');\n",
              "      buttonEl.style.display =\n",
              "        google.colab.kernel.accessAllowed ? 'block' : 'none';\n",
              "\n",
              "      buttonEl.onclick = () => {\n",
              "        google.colab.notebook.generateWithVariable('df_grouped');\n",
              "      }\n",
              "      })();\n",
              "    </script>\n",
              "  </div>\n",
              "\n",
              "    </div>\n",
              "  </div>\n"
            ],
            "application/vnd.google.colaboratory.intrinsic+json": {
              "type": "dataframe",
              "variable_name": "df_grouped",
              "summary": "{\n  \"name\": \"df_grouped\",\n  \"rows\": 9,\n  \"fields\": [\n    {\n      \"column\": \"\\uc8fc\\uc81c\\ubd84\\ub958_bin\",\n      \"properties\": {\n        \"dtype\": \"category\",\n        \"num_unique_values\": 9,\n        \"samples\": [\n          \"700-799\",\n          \"100-199\",\n          \"500-599\"\n        ],\n        \"semantic_type\": \"\",\n        \"description\": \"\"\n      }\n    },\n    {\n      \"column\": \"\\ub300\\ucd9c\\uac74\\uc218\",\n      \"properties\": {\n        \"dtype\": \"number\",\n        \"std\": 1049255,\n        \"min\": 121540,\n        \"max\": 3426255,\n        \"num_unique_values\": 9,\n        \"samples\": [\n          246471,\n          234175,\n          359328\n        ],\n        \"semantic_type\": \"\",\n        \"description\": \"\"\n      }\n    }\n  ]\n}"
            }
          },
          "metadata": {}
        }
      ]
    },
    {
      "cell_type": "code",
      "source": [
        "plt.figure(figsize=(12, 6))\n",
        "sns.barplot(x='주제분류_bin', y='대출건수', data=df_grouped, palette='viridis')\n",
        "plt.title('Total Loan Count by Subject Category Bin (Bar Chart)')\n",
        "plt.xlabel('Subject Category Bin')\n",
        "plt.ylabel('Total Loan Count')\n",
        "plt.xticks(rotation=45, ha='right')\n",
        "plt.tight_layout()\n",
        "plt.show()"
      ],
      "metadata": {
        "colab": {
          "base_uri": "https://localhost:8080/",
          "height": 633
        },
        "id": "oYPIq2-WeqCf",
        "outputId": "dc4e80f2-fabd-49b3-e187-be2afb08e2bc"
      },
      "execution_count": null,
      "outputs": [
        {
          "output_type": "stream",
          "name": "stderr",
          "text": [
            "/tmp/ipython-input-1245211158.py:2: FutureWarning: \n",
            "\n",
            "Passing `palette` without assigning `hue` is deprecated and will be removed in v0.14.0. Assign the `x` variable to `hue` and set `legend=False` for the same effect.\n",
            "\n",
            "  sns.barplot(x='주제분류_bin', y='대출건수', data=df_grouped, palette='viridis')\n"
          ]
        },
        {
          "output_type": "display_data",
          "data": {
            "text/plain": [
              "<Figure size 1200x600 with 1 Axes>"
            ],
            "image/png": "[encoded data removed]"
          },
          "metadata": {}
        }
      ]
    },
    {
      "cell_type": "markdown",
      "source": [
        "이프로그램을 통해서 도서관 사람들이 더 유입될수 있다.라는것에 근거를 가지기 위해 유의미한 데이터 추출 및 분석 필요\n"
      ],
      "metadata": {
        "id": "Td4iahJY0koA"
      }
    },
    {
      "cell_type": "markdown",
      "source": [
        "#데이터 전처리 및 파이프라인"
      ],
      "metadata": {
        "id": "SQ6pXRLEwY8Y"
      }
    },
    {
      "cell_type": "markdown",
      "source": [
        "필요한 데이터를 어느정도 전처리과정만하고\n",
        "전처리한 데이터로 LLM 검색 api사용해서 그걸로 카테고리화를 한다."
      ],
      "metadata": {
        "id": "YiUp6phK8wql"
      }
    },
    {
      "cell_type": "code",
      "source": [
        "!pip install pandas langchain langchain-openai langchain-community tavily-python"
      ],
      "metadata": {
        "colab": {
          "base_uri": "https://localhost:8080/"
        },
        "id": "yA0WAZt9ow5y",
        "outputId": "c378df95-a287-465f-8ea7-c19748d2f53e"
      },
      "execution_count": null,
      "outputs": [
        {
          "output_type": "stream",
          "name": "stdout",
          "text": [
            "Requirement already satisfied: pandas in /usr/local/lib/python3.11/dist-packages (2.2.2)\n",
            "Requirement already satisfied: langchain in /usr/local/lib/python3.11/dist-packages (0.3.27)\n",
            "Requirement already satisfied: langchain-openai in /usr/local/lib/python3.11/dist-packages (0.3.28)\n",
            "Requirement already satisfied: langchain-community in /usr/local/lib/python3.11/dist-packages (0.3.27)\n",
            "Requirement already satisfied: tavily-python in /usr/local/lib/python3.11/dist-packages (0.7.10)\n",
            "Requirement already satisfied: numpy>=1.23.2 in /usr/local/lib/python3.11/dist-packages (from pandas) (2.0.2)\n",
            "Requirement already satisfied: python-dateutil>=2.8.2 in /usr/local/lib/python3.11/dist-packages (from pandas) (2.9.0.post0)\n",
            "Requirement already satisfied: pytz>=2020.1 in /usr/local/lib/python3.11/dist-packages (from pandas) (2025.2)\n",
            "Requirement already satisfied: tzdata>=2022.7 in /usr/local/lib/python3.11/dist-packages (from pandas) (2025.2)\n",
            "Requirement already satisfied: langchain-core<1.0.0,>=0.3.72 in /usr/local/lib/python3.11/dist-packages (from langchain) (0.3.72)\n",
            "Requirement already satisfied: langchain-text-splitters<1.0.0,>=0.3.9 in /usr/local/lib/python3.11/dist-packages (from langchain) (0.3.9)\n",
            "Requirement already satisfied: langsmith>=0.1.17 in /usr/local/lib/python3.11/dist-packages (from langchain) (0.4.9)\n",
            "Requirement already satisfied: pydantic<3.0.0,>=2.7.4 in /usr/local/lib/python3.11/dist-packages (from langchain) (2.11.7)\n",
            "Requirement already satisfied: SQLAlchemy<3,>=1.4 in /usr/local/lib/python3.11/dist-packages (from langchain) (2.0.42)\n",
            "Requirement already satisfied: requests<3,>=2 in /usr/local/lib/python3.11/dist-packages (from langchain) (2.32.3)\n",
            "Requirement already satisfied: PyYAML>=5.3 in /usr/local/lib/python3.11/dist-packages (from langchain) (6.0.2)\n",
            "Requirement already satisfied: openai<2.0.0,>=1.86.0 in /usr/local/lib/python3.11/dist-packages (from langchain-openai) (1.98.0)\n",
            "Requirement already satisfied: tiktoken<1,>=0.7 in /usr/local/lib/python3.11/dist-packages (from langchain-openai) (0.9.0)\n",
            "Requirement already satisfied: aiohttp<4.0.0,>=3.8.3 in /usr/local/lib/python3.11/dist-packages (from langchain-community) (3.12.15)\n",
            "Requirement already satisfied: tenacity!=8.4.0,<10,>=8.1.0 in /usr/local/lib/python3.11/dist-packages (from langchain-community) (8.5.0)\n",
            "Requirement already satisfied: dataclasses-json<0.7,>=0.5.7 in /usr/local/lib/python3.11/dist-packages (from langchain-community) (0.6.7)\n",
            "Requirement already satisfied: pydantic-settings<3.0.0,>=2.4.0 in /usr/local/lib/python3.11/dist-packages (from langchain-community) (2.10.1)\n",
            "Requirement already satisfied: httpx-sse<1.0.0,>=0.4.0 in /usr/local/lib/python3.11/dist-packages (from langchain-community) (0.4.1)\n",
            "Requirement already satisfied: httpx in /usr/local/lib/python3.11/dist-packages (from tavily-python) (0.28.1)\n",
            "Requirement already satisfied: aiohappyeyeballs>=2.5.0 in /usr/local/lib/python3.11/dist-packages (from aiohttp<4.0.0,>=3.8.3->langchain-community) (2.6.1)\n",
            "Requirement already satisfied: aiosignal>=1.4.0 in /usr/local/lib/python3.11/dist-packages (from aiohttp<4.0.0,>=3.8.3->langchain-community) (1.4.0)\n",
            "Requirement already satisfied: attrs>=17.3.0 in /usr/local/lib/python3.11/dist-packages (from aiohttp<4.0.0,>=3.8.3->langchain-community) (25.3.0)\n",
            "Requirement already satisfied: frozenlist>=1.1.1 in /usr/local/lib/python3.11/dist-packages (from aiohttp<4.0.0,>=3.8.3->langchain-community) (1.7.0)\n",
            "Requirement already satisfied: multidict<7.0,>=4.5 in /usr/local/lib/python3.11/dist-packages (from aiohttp<4.0.0,>=3.8.3->langchain-community) (6.6.3)\n",
            "Requirement already satisfied: propcache>=0.2.0 in /usr/local/lib/python3.11/dist-packages (from aiohttp<4.0.0,>=3.8.3->langchain-community) (0.3.2)\n",
            "Requirement already satisfied: yarl<2.0,>=1.17.0 in /usr/local/lib/python3.11/dist-packages (from aiohttp<4.0.0,>=3.8.3->langchain-community) (1.20.1)\n",
            "Requirement already satisfied: marshmallow<4.0.0,>=3.18.0 in /usr/local/lib/python3.11/dist-packages (from dataclasses-json<0.7,>=0.5.7->langchain-community) (3.26.1)\n",
            "Requirement already satisfied: typing-inspect<1,>=0.4.0 in /usr/local/lib/python3.11/dist-packages (from dataclasses-json<0.7,>=0.5.7->langchain-community) (0.9.0)\n",
            "Requirement already satisfied: jsonpatch<2.0,>=1.33 in /usr/local/lib/python3.11/dist-packages (from langchain-core<1.0.0,>=0.3.72->langchain) (1.33)\n",
            "Requirement already satisfied: typing-extensions>=4.7 in /usr/local/lib/python3.11/dist-packages (from langchain-core<1.0.0,>=0.3.72->langchain) (4.14.1)\n",
            "Requirement already satisfied: packaging>=23.2 in /usr/local/lib/python3.11/dist-packages (from langchain-core<1.0.0,>=0.3.72->langchain) (25.0)\n",
            "Requirement already satisfied: orjson<4.0.0,>=3.9.14 in /usr/local/lib/python3.11/dist-packages (from langsmith>=0.1.17->langchain) (3.11.1)\n",
            "Requirement already satisfied: requests-toolbelt<2.0.0,>=1.0.0 in /usr/local/lib/python3.11/dist-packages (from langsmith>=0.1.17->langchain) (1.0.0)\n",
            "Requirement already satisfied: zstandard<0.24.0,>=0.23.0 in /usr/local/lib/python3.11/dist-packages (from langsmith>=0.1.17->langchain) (0.23.0)\n",
            "Requirement already satisfied: anyio in /usr/local/lib/python3.11/dist-packages (from httpx->tavily-python) (4.9.0)\n",
            "Requirement already satisfied: certifi in /usr/local/lib/python3.11/dist-packages (from httpx->tavily-python) (2025.7.14)\n",
            "Requirement already satisfied: httpcore==1.* in /usr/local/lib/python3.11/dist-packages (from httpx->tavily-python) (1.0.9)\n",
            "Requirement already satisfied: idna in /usr/local/lib/python3.11/dist-packages (from httpx->tavily-python) (3.10)\n",
            "Requirement already satisfied: h11>=0.16 in /usr/local/lib/python3.11/dist-packages (from httpcore==1.*->httpx->tavily-python) (0.16.0)\n",
            "Requirement already satisfied: distro<2,>=1.7.0 in /usr/local/lib/python3.11/dist-packages (from openai<2.0.0,>=1.86.0->langchain-openai) (1.9.0)\n",
            "Requirement already satisfied: jiter<1,>=0.4.0 in /usr/local/lib/python3.11/dist-packages (from openai<2.0.0,>=1.86.0->langchain-openai) (0.10.0)\n",
            "Requirement already satisfied: sniffio in /usr/local/lib/python3.11/dist-packages (from openai<2.0.0,>=1.86.0->langchain-openai) (1.3.1)\n",
            "Requirement already satisfied: tqdm>4 in /usr/local/lib/python3.11/dist-packages (from openai<2.0.0,>=1.86.0->langchain-openai) (4.67.1)\n",
            "Requirement already satisfied: annotated-types>=0.6.0 in /usr/local/lib/python3.11/dist-packages (from pydantic<3.0.0,>=2.7.4->langchain) (0.7.0)\n",
            "Requirement already satisfied: pydantic-core==2.33.2 in /usr/local/lib/python3.11/dist-packages (from pydantic<3.0.0,>=2.7.4->langchain) (2.33.2)\n",
            "Requirement already satisfied: typing-inspection>=0.4.0 in /usr/local/lib/python3.11/dist-packages (from pydantic<3.0.0,>=2.7.4->langchain) (0.4.1)\n",
            "Requirement already satisfied: python-dotenv>=0.21.0 in /usr/local/lib/python3.11/dist-packages (from pydantic-settings<3.0.0,>=2.4.0->langchain-community) (1.1.1)\n",
            "Requirement already satisfied: six>=1.5 in /usr/local/lib/python3.11/dist-packages (from python-dateutil>=2.8.2->pandas) (1.17.0)\n",
            "Requirement already satisfied: charset-normalizer<4,>=2 in /usr/local/lib/python3.11/dist-packages (from requests<3,>=2->langchain) (3.4.2)\n",
            "Requirement already satisfied: urllib3<3,>=1.21.1 in /usr/local/lib/python3.11/dist-packages (from requests<3,>=2->langchain) (2.5.0)\n",
            "Requirement already satisfied: greenlet>=1 in /usr/local/lib/python3.11/dist-packages (from SQLAlchemy<3,>=1.4->langchain) (3.2.3)\n",
            "Requirement already satisfied: regex>=2022.1.18 in /usr/local/lib/python3.11/dist-packages (from tiktoken<1,>=0.7->langchain-openai) (2024.11.6)\n",
            "Requirement already satisfied: jsonpointer>=1.9 in /usr/local/lib/python3.11/dist-packages (from jsonpatch<2.0,>=1.33->langchain-core<1.0.0,>=0.3.72->langchain) (3.0.0)\n",
            "Requirement already satisfied: mypy-extensions>=0.3.0 in /usr/local/lib/python3.11/dist-packages (from typing-inspect<1,>=0.4.0->dataclasses-json<0.7,>=0.5.7->langchain-community) (1.1.0)\n"
          ]
        }
      ]
    },
    {
      "cell_type": "code",
      "source": [
        "!pip install langchain-tavily"
      ],
      "metadata": {
        "colab": {
          "base_uri": "https://localhost:8080/"
        },
        "id": "lvyZI5crqrf6",
        "outputId": "7214f337-34dc-4543-a489-20f3792a7fa3"
      },
      "execution_count": null,
      "outputs": [
        {
          "output_type": "stream",
          "name": "stdout",
          "text": [
            "Requirement already satisfied: langchain-tavily in /usr/local/lib/python3.11/dist-packages (0.2.11)\n",
            "Requirement already satisfied: aiohttp<4.0.0,>=3.11.14 in /usr/local/lib/python3.11/dist-packages (from langchain-tavily) (3.12.15)\n",
            "Requirement already satisfied: langchain<0.4.0,>=0.3.20 in /usr/local/lib/python3.11/dist-packages (from langchain-tavily) (0.3.27)\n",
            "Requirement already satisfied: langchain-core<0.4.0,>=0.3.15 in /usr/local/lib/python3.11/dist-packages (from langchain-tavily) (0.3.72)\n",
            "Requirement already satisfied: requests<3.0.0,>=2.32.3 in /usr/local/lib/python3.11/dist-packages (from langchain-tavily) (2.32.3)\n",
            "Requirement already satisfied: aiohappyeyeballs>=2.5.0 in /usr/local/lib/python3.11/dist-packages (from aiohttp<4.0.0,>=3.11.14->langchain-tavily) (2.6.1)\n",
            "Requirement already satisfied: aiosignal>=1.4.0 in /usr/local/lib/python3.11/dist-packages (from aiohttp<4.0.0,>=3.11.14->langchain-tavily) (1.4.0)\n",
            "Requirement already satisfied: attrs>=17.3.0 in /usr/local/lib/python3.11/dist-packages (from aiohttp<4.0.0,>=3.11.14->langchain-tavily) (25.3.0)\n",
            "Requirement already satisfied: frozenlist>=1.1.1 in /usr/local/lib/python3.11/dist-packages (from aiohttp<4.0.0,>=3.11.14->langchain-tavily) (1.7.0)\n",
            "Requirement already satisfied: multidict<7.0,>=4.5 in /usr/local/lib/python3.11/dist-packages (from aiohttp<4.0.0,>=3.11.14->langchain-tavily) (6.6.3)\n",
            "Requirement already satisfied: propcache>=0.2.0 in /usr/local/lib/python3.11/dist-packages (from aiohttp<4.0.0,>=3.11.14->langchain-tavily) (0.3.2)\n",
            "Requirement already satisfied: yarl<2.0,>=1.17.0 in /usr/local/lib/python3.11/dist-packages (from aiohttp<4.0.0,>=3.11.14->langchain-tavily) (1.20.1)\n",
            "Requirement already satisfied: langchain-text-splitters<1.0.0,>=0.3.9 in /usr/local/lib/python3.11/dist-packages (from langchain<0.4.0,>=0.3.20->langchain-tavily) (0.3.9)\n",
            "Requirement already satisfied: langsmith>=0.1.17 in /usr/local/lib/python3.11/dist-packages (from langchain<0.4.0,>=0.3.20->langchain-tavily) (0.4.9)\n",
            "Requirement already satisfied: pydantic<3.0.0,>=2.7.4 in /usr/local/lib/python3.11/dist-packages (from langchain<0.4.0,>=0.3.20->langchain-tavily) (2.11.7)\n",
            "Requirement already satisfied: SQLAlchemy<3,>=1.4 in /usr/local/lib/python3.11/dist-packages (from langchain<0.4.0,>=0.3.20->langchain-tavily) (2.0.42)\n",
            "Requirement already satisfied: PyYAML>=5.3 in /usr/local/lib/python3.11/dist-packages (from langchain<0.4.0,>=0.3.20->langchain-tavily) (6.0.2)\n",
            "Requirement already satisfied: tenacity!=8.4.0,<10.0.0,>=8.1.0 in /usr/local/lib/python3.11/dist-packages (from langchain-core<0.4.0,>=0.3.15->langchain-tavily) (8.5.0)\n",
            "Requirement already satisfied: jsonpatch<2.0,>=1.33 in /usr/local/lib/python3.11/dist-packages (from langchain-core<0.4.0,>=0.3.15->langchain-tavily) (1.33)\n",
            "Requirement already satisfied: typing-extensions>=4.7 in /usr/local/lib/python3.11/dist-packages (from langchain-core<0.4.0,>=0.3.15->langchain-tavily) (4.14.1)\n",
            "Requirement already satisfied: packaging>=23.2 in /usr/local/lib/python3.11/dist-packages (from langchain-core<0.4.0,>=0.3.15->langchain-tavily) (25.0)\n",
            "Requirement already satisfied: charset-normalizer<4,>=2 in /usr/local/lib/python3.11/dist-packages (from requests<3.0.0,>=2.32.3->langchain-tavily) (3.4.2)\n",
            "Requirement already satisfied: idna<4,>=2.5 in /usr/local/lib/python3.11/dist-packages (from requests<3.0.0,>=2.32.3->langchain-tavily) (3.10)\n",
            "Requirement already satisfied: urllib3<3,>=1.21.1 in /usr/local/lib/python3.11/dist-packages (from requests<3.0.0,>=2.32.3->langchain-tavily) (2.5.0)\n",
            "Requirement already satisfied: certifi>=2017.4.17 in /usr/local/lib/python3.11/dist-packages (from requests<3.0.0,>=2.32.3->langchain-tavily) (2025.7.14)\n",
            "Requirement already satisfied: jsonpointer>=1.9 in /usr/local/lib/python3.11/dist-packages (from jsonpatch<2.0,>=1.33->langchain-core<0.4.0,>=0.3.15->langchain-tavily) (3.0.0)\n",
            "Requirement already satisfied: httpx<1,>=0.23.0 in /usr/local/lib/python3.11/dist-packages (from langsmith>=0.1.17->langchain<0.4.0,>=0.3.20->langchain-tavily) (0.28.1)\n",
            "Requirement already satisfied: orjson<4.0.0,>=3.9.14 in /usr/local/lib/python3.11/dist-packages (from langsmith>=0.1.17->langchain<0.4.0,>=0.3.20->langchain-tavily) (3.11.1)\n",
            "Requirement already satisfied: requests-toolbelt<2.0.0,>=1.0.0 in /usr/local/lib/python3.11/dist-packages (from langsmith>=0.1.17->langchain<0.4.0,>=0.3.20->langchain-tavily) (1.0.0)\n",
            "Requirement already satisfied: zstandard<0.24.0,>=0.23.0 in /usr/local/lib/python3.11/dist-packages (from langsmith>=0.1.17->langchain<0.4.0,>=0.3.20->langchain-tavily) (0.23.0)\n",
            "Requirement already satisfied: annotated-types>=0.6.0 in /usr/local/lib/python3.11/dist-packages (from pydantic<3.0.0,>=2.7.4->langchain<0.4.0,>=0.3.20->langchain-tavily) (0.7.0)\n",
            "Requirement already satisfied: pydantic-core==2.33.2 in /usr/local/lib/python3.11/dist-packages (from pydantic<3.0.0,>=2.7.4->langchain<0.4.0,>=0.3.20->langchain-tavily) (2.33.2)\n",
            "Requirement already satisfied: typing-inspection>=0.4.0 in /usr/local/lib/python3.11/dist-packages (from pydantic<3.0.0,>=2.7.4->langchain<0.4.0,>=0.3.20->langchain-tavily) (0.4.1)\n",
            "Requirement already satisfied: greenlet>=1 in /usr/local/lib/python3.11/dist-packages (from SQLAlchemy<3,>=1.4->langchain<0.4.0,>=0.3.20->langchain-tavily) (3.2.3)\n",
            "Requirement already satisfied: anyio in /usr/local/lib/python3.11/dist-packages (from httpx<1,>=0.23.0->langsmith>=0.1.17->langchain<0.4.0,>=0.3.20->langchain-tavily) (4.9.0)\n",
            "Requirement already satisfied: httpcore==1.* in /usr/local/lib/python3.11/dist-packages (from httpx<1,>=0.23.0->langsmith>=0.1.17->langchain<0.4.0,>=0.3.20->langchain-tavily) (1.0.9)\n",
            "Requirement already satisfied: h11>=0.16 in /usr/local/lib/python3.11/dist-packages (from httpcore==1.*->httpx<1,>=0.23.0->langsmith>=0.1.17->langchain<0.4.0,>=0.3.20->langchain-tavily) (0.16.0)\n",
            "Requirement already satisfied: sniffio>=1.1 in /usr/local/lib/python3.11/dist-packages (from anyio->httpx<1,>=0.23.0->langsmith>=0.1.17->langchain<0.4.0,>=0.3.20->langchain-tavily) (1.3.1)\n"
          ]
        }
      ]
    },
    {
      "cell_type": "code",
      "source": [
        "!pip install pandas langchain langchain-google-genai langchain-tavily"
      ],
      "metadata": {
        "colab": {
          "base_uri": "https://localhost:8080/"
        },
        "id": "dTlmwWY3rypq",
        "outputId": "cec81f82-253e-4a8e-e4dc-e9ad196589c2"
      },
      "execution_count": null,
      "outputs": [
        {
          "output_type": "stream",
          "name": "stdout",
          "text": [
            "Requirement already satisfied: pandas in /usr/local/lib/python3.11/dist-packages (2.2.2)\n",
            "Requirement already satisfied: langchain in /usr/local/lib/python3.11/dist-packages (0.3.27)\n",
            "Requirement already satisfied: langchain-google-genai in /usr/local/lib/python3.11/dist-packages (2.1.9)\n",
            "Requirement already satisfied: langchain-tavily in /usr/local/lib/python3.11/dist-packages (0.2.11)\n",
            "Requirement already satisfied: numpy>=1.23.2 in /usr/local/lib/python3.11/dist-packages (from pandas) (2.0.2)\n",
            "Requirement already satisfied: python-dateutil>=2.8.2 in /usr/local/lib/python3.11/dist-packages (from pandas) (2.9.0.post0)\n",
            "Requirement already satisfied: pytz>=2020.1 in /usr/local/lib/python3.11/dist-packages (from pandas) (2025.2)\n",
            "Requirement already satisfied: tzdata>=2022.7 in /usr/local/lib/python3.11/dist-packages (from pandas) (2025.2)\n",
            "Requirement already satisfied: langchain-core<1.0.0,>=0.3.72 in /usr/local/lib/python3.11/dist-packages (from langchain) (0.3.72)\n",
            "Requirement already satisfied: langchain-text-splitters<1.0.0,>=0.3.9 in /usr/local/lib/python3.11/dist-packages (from langchain) (0.3.9)\n",
            "Requirement already satisfied: langsmith>=0.1.17 in /usr/local/lib/python3.11/dist-packages (from langchain) (0.4.9)\n",
            "Requirement already satisfied: pydantic<3.0.0,>=2.7.4 in /usr/local/lib/python3.11/dist-packages (from langchain) (2.11.7)\n",
            "Requirement already satisfied: SQLAlchemy<3,>=1.4 in /usr/local/lib/python3.11/dist-packages (from langchain) (2.0.42)\n",
            "Requirement already satisfied: requests<3,>=2 in /usr/local/lib/python3.11/dist-packages (from langchain) (2.32.3)\n",
            "Requirement already satisfied: PyYAML>=5.3 in /usr/local/lib/python3.11/dist-packages (from langchain) (6.0.2)\n",
            "Requirement already satisfied: filetype<2.0.0,>=1.2.0 in /usr/local/lib/python3.11/dist-packages (from langchain-google-genai) (1.2.0)\n",
            "Requirement already satisfied: google-ai-generativelanguage<0.7.0,>=0.6.18 in /usr/local/lib/python3.11/dist-packages (from langchain-google-genai) (0.6.18)\n",
            "Requirement already satisfied: aiohttp<4.0.0,>=3.11.14 in /usr/local/lib/python3.11/dist-packages (from langchain-tavily) (3.12.15)\n",
            "Requirement already satisfied: aiohappyeyeballs>=2.5.0 in /usr/local/lib/python3.11/dist-packages (from aiohttp<4.0.0,>=3.11.14->langchain-tavily) (2.6.1)\n",
            "Requirement already satisfied: aiosignal>=1.4.0 in /usr/local/lib/python3.11/dist-packages (from aiohttp<4.0.0,>=3.11.14->langchain-tavily) (1.4.0)\n",
            "Requirement already satisfied: attrs>=17.3.0 in /usr/local/lib/python3.11/dist-packages (from aiohttp<4.0.0,>=3.11.14->langchain-tavily) (25.3.0)\n",
            "Requirement already satisfied: frozenlist>=1.1.1 in /usr/local/lib/python3.11/dist-packages (from aiohttp<4.0.0,>=3.11.14->langchain-tavily) (1.7.0)\n",
            "Requirement already satisfied: multidict<7.0,>=4.5 in /usr/local/lib/python3.11/dist-packages (from aiohttp<4.0.0,>=3.11.14->langchain-tavily) (6.6.3)\n",
            "Requirement already satisfied: propcache>=0.2.0 in /usr/local/lib/python3.11/dist-packages (from aiohttp<4.0.0,>=3.11.14->langchain-tavily) (0.3.2)\n",
            "Requirement already satisfied: yarl<2.0,>=1.17.0 in /usr/local/lib/python3.11/dist-packages (from aiohttp<4.0.0,>=3.11.14->langchain-tavily) (1.20.1)\n",
            "Requirement already satisfied: google-api-core!=2.0.*,!=2.1.*,!=2.10.*,!=2.2.*,!=2.3.*,!=2.4.*,!=2.5.*,!=2.6.*,!=2.7.*,!=2.8.*,!=2.9.*,<3.0.0,>=1.34.1 in /usr/local/lib/python3.11/dist-packages (from google-api-core[grpc]!=2.0.*,!=2.1.*,!=2.10.*,!=2.2.*,!=2.3.*,!=2.4.*,!=2.5.*,!=2.6.*,!=2.7.*,!=2.8.*,!=2.9.*,<3.0.0,>=1.34.1->google-ai-generativelanguage<0.7.0,>=0.6.18->langchain-google-genai) (2.25.1)\n",
            "Requirement already satisfied: google-auth!=2.24.0,!=2.25.0,<3.0.0,>=2.14.1 in /usr/local/lib/python3.11/dist-packages (from google-ai-generativelanguage<0.7.0,>=0.6.18->langchain-google-genai) (2.38.0)\n",
            "Requirement already satisfied: proto-plus<2.0.0,>=1.22.3 in /usr/local/lib/python3.11/dist-packages (from google-ai-generativelanguage<0.7.0,>=0.6.18->langchain-google-genai) (1.26.1)\n",
            "Requirement already satisfied: protobuf!=4.21.0,!=4.21.1,!=4.21.2,!=4.21.3,!=4.21.4,!=4.21.5,<7.0.0,>=3.20.2 in /usr/local/lib/python3.11/dist-packages (from google-ai-generativelanguage<0.7.0,>=0.6.18->langchain-google-genai) (5.29.5)\n",
            "Requirement already satisfied: tenacity!=8.4.0,<10.0.0,>=8.1.0 in /usr/local/lib/python3.11/dist-packages (from langchain-core<1.0.0,>=0.3.72->langchain) (8.5.0)\n",
            "Requirement already satisfied: jsonpatch<2.0,>=1.33 in /usr/local/lib/python3.11/dist-packages (from langchain-core<1.0.0,>=0.3.72->langchain) (1.33)\n",
            "Requirement already satisfied: typing-extensions>=4.7 in /usr/local/lib/python3.11/dist-packages (from langchain-core<1.0.0,>=0.3.72->langchain) (4.14.1)\n",
            "Requirement already satisfied: packaging>=23.2 in /usr/local/lib/python3.11/dist-packages (from langchain-core<1.0.0,>=0.3.72->langchain) (25.0)\n",
            "Requirement already satisfied: httpx<1,>=0.23.0 in /usr/local/lib/python3.11/dist-packages (from langsmith>=0.1.17->langchain) (0.28.1)\n",
            "Requirement already satisfied: orjson<4.0.0,>=3.9.14 in /usr/local/lib/python3.11/dist-packages (from langsmith>=0.1.17->langchain) (3.11.1)\n",
            "Requirement already satisfied: requests-toolbelt<2.0.0,>=1.0.0 in /usr/local/lib/python3.11/dist-packages (from langsmith>=0.1.17->langchain) (1.0.0)\n",
            "Requirement already satisfied: zstandard<0.24.0,>=0.23.0 in /usr/local/lib/python3.11/dist-packages (from langsmith>=0.1.17->langchain) (0.23.0)\n",
            "Requirement already satisfied: annotated-types>=0.6.0 in /usr/local/lib/python3.11/dist-packages (from pydantic<3.0.0,>=2.7.4->langchain) (0.7.0)\n",
            "Requirement already satisfied: pydantic-core==2.33.2 in /usr/local/lib/python3.11/dist-packages (from pydantic<3.0.0,>=2.7.4->langchain) (2.33.2)\n",
            "Requirement already satisfied: typing-inspection>=0.4.0 in /usr/local/lib/python3.11/dist-packages (from pydantic<3.0.0,>=2.7.4->langchain) (0.4.1)\n",
            "Requirement already satisfied: six>=1.5 in /usr/local/lib/python3.11/dist-packages (from python-dateutil>=2.8.2->pandas) (1.17.0)\n",
            "Requirement already satisfied: charset-normalizer<4,>=2 in /usr/local/lib/python3.11/dist-packages (from requests<3,>=2->langchain) (3.4.2)\n",
            "Requirement already satisfied: idna<4,>=2.5 in /usr/local/lib/python3.11/dist-packages (from requests<3,>=2->langchain) (3.10)\n",
            "Requirement already satisfied: urllib3<3,>=1.21.1 in /usr/local/lib/python3.11/dist-packages (from requests<3,>=2->langchain) (2.5.0)\n",
            "Requirement already satisfied: certifi>=2017.4.17 in /usr/local/lib/python3.11/dist-packages (from requests<3,>=2->langchain) (2025.7.14)\n",
            "Requirement already satisfied: greenlet>=1 in /usr/local/lib/python3.11/dist-packages (from SQLAlchemy<3,>=1.4->langchain) (3.2.3)\n",
            "Requirement already satisfied: googleapis-common-protos<2.0.0,>=1.56.2 in /usr/local/lib/python3.11/dist-packages (from google-api-core!=2.0.*,!=2.1.*,!=2.10.*,!=2.2.*,!=2.3.*,!=2.4.*,!=2.5.*,!=2.6.*,!=2.7.*,!=2.8.*,!=2.9.*,<3.0.0,>=1.34.1->google-api-core[grpc]!=2.0.*,!=2.1.*,!=2.10.*,!=2.2.*,!=2.3.*,!=2.4.*,!=2.5.*,!=2.6.*,!=2.7.*,!=2.8.*,!=2.9.*,<3.0.0,>=1.34.1->google-ai-generativelanguage<0.7.0,>=0.6.18->langchain-google-genai) (1.70.0)\n",
            "Requirement already satisfied: grpcio<2.0.0,>=1.33.2 in /usr/local/lib/python3.11/dist-packages (from google-api-core[grpc]!=2.0.*,!=2.1.*,!=2.10.*,!=2.2.*,!=2.3.*,!=2.4.*,!=2.5.*,!=2.6.*,!=2.7.*,!=2.8.*,!=2.9.*,<3.0.0,>=1.34.1->google-ai-generativelanguage<0.7.0,>=0.6.18->langchain-google-genai) (1.74.0)\n",
            "Requirement already satisfied: grpcio-status<2.0.0,>=1.33.2 in /usr/local/lib/python3.11/dist-packages (from google-api-core[grpc]!=2.0.*,!=2.1.*,!=2.10.*,!=2.2.*,!=2.3.*,!=2.4.*,!=2.5.*,!=2.6.*,!=2.7.*,!=2.8.*,!=2.9.*,<3.0.0,>=1.34.1->google-ai-generativelanguage<0.7.0,>=0.6.18->langchain-google-genai) (1.71.2)\n",
            "Requirement already satisfied: cachetools<6.0,>=2.0.0 in /usr/local/lib/python3.11/dist-packages (from google-auth!=2.24.0,!=2.25.0,<3.0.0,>=2.14.1->google-ai-generativelanguage<0.7.0,>=0.6.18->langchain-google-genai) (5.5.2)\n",
            "Requirement already satisfied: pyasn1-modules>=0.2.1 in /usr/local/lib/python3.11/dist-packages (from google-auth!=2.24.0,!=2.25.0,<3.0.0,>=2.14.1->google-ai-generativelanguage<0.7.0,>=0.6.18->langchain-google-genai) (0.4.2)\n",
            "Requirement already satisfied: rsa<5,>=3.1.4 in /usr/local/lib/python3.11/dist-packages (from google-auth!=2.24.0,!=2.25.0,<3.0.0,>=2.14.1->google-ai-generativelanguage<0.7.0,>=0.6.18->langchain-google-genai) (4.9.1)\n",
            "Requirement already satisfied: anyio in /usr/local/lib/python3.11/dist-packages (from httpx<1,>=0.23.0->langsmith>=0.1.17->langchain) (4.9.0)\n",
            "Requirement already satisfied: httpcore==1.* in /usr/local/lib/python3.11/dist-packages (from httpx<1,>=0.23.0->langsmith>=0.1.17->langchain) (1.0.9)\n",
            "Requirement already satisfied: h11>=0.16 in /usr/local/lib/python3.11/dist-packages (from httpcore==1.*->httpx<1,>=0.23.0->langsmith>=0.1.17->langchain) (0.16.0)\n",
            "Requirement already satisfied: jsonpointer>=1.9 in /usr/local/lib/python3.11/dist-packages (from jsonpatch<2.0,>=1.33->langchain-core<1.0.0,>=0.3.72->langchain) (3.0.0)\n",
            "Requirement already satisfied: pyasn1<0.7.0,>=0.6.1 in /usr/local/lib/python3.11/dist-packages (from pyasn1-modules>=0.2.1->google-auth!=2.24.0,!=2.25.0,<3.0.0,>=2.14.1->google-ai-generativelanguage<0.7.0,>=0.6.18->langchain-google-genai) (0.6.1)\n",
            "Requirement already satisfied: sniffio>=1.1 in /usr/local/lib/python3.11/dist-packages (from anyio->httpx<1,>=0.23.0->langsmith>=0.1.17->langchain) (1.3.1)\n"
          ]
        }
      ]
    },
    {
      "cell_type": "code",
      "source": [
        "import os\n",
        "import getpass\n",
        "import pandas as pd\n",
        "import time\n",
        "import logging\n",
        "\n",
        "# LangChain 및 TQDM 라이브러리\n",
        "# !pip install -U pandas langchain langchain-openai langchain-tavily tqdm\n",
        "from langchain_openai import ChatOpenAI\n",
        "from langchain_tavily import TavilySearch\n",
        "from langchain.agents import AgentExecutor, create_react_agent\n",
        "from langchain_core.prompts import PromptTemplate\n",
        "from tqdm import tqdm\n",
        "\n",
        "# --- 1. 로깅 설정 ---\n",
        "logging.basicConfig(\n",
        "    level=logging.INFO,\n",
        "    format='%(asctime)s - %(levelname)s - %(message)s',\n",
        "    handlers=[\n",
        "        logging.FileHandler(\"book_categorization.log\", mode='w', encoding='utf-8'),\n",
        "        logging.StreamHandler()\n",
        "    ]\n",
        ")\n",
        "\n",
        "# --- 2. API 키 설정 ---\n",
        "if \"OPENAI_API_KEY\" not in os.environ:\n",
        "    os.environ[\"OPENAI_API_KEY\"] = getpass.getpass(\"OpenAI API 키를 입력하세요: \")\n",
        "if \"TAVILY_API_KEY\" not in os.environ:\n",
        "    os.environ[\"TAVILY_API_KEY\"] = getpass.getpass(\"Tavily API 키를 입력하세요: \")\n",
        "\n",
        "# --- 3. 데이터 불러오기 및 필터링 ---\n",
        "try:\n",
        "    logging.info(\"데이터 파일 로딩을 시작합니다...\")\n",
        "    df = pd.read_csv(\"daegu_2.28_lib_07.csv\", encoding='cp949', low_memory=False)\n",
        "    df.dropna(subset=['도서명', '대출건수', '주제분류번호'], inplace=True)\n",
        "\n",
        "    df['주제분류번호'] = pd.to_numeric(df['주제분류번호'], errors='coerce')\n",
        "    df.dropna(subset=['주제분류번호'], inplace=True)\n",
        "\n",
        "    # 주제분류번호 300 이상으로 수정\n",
        "    df_filtered = df[\n",
        "        ((df['주제분류번호'] >= 300) & (df['주제분류번호'] < 700)) |\n",
        "        ((df['주제분류번호'] >= 800) & (df['주제분류번호'] < 1000))\n",
        "    ].copy()\n",
        "\n",
        "    df_filtered['대출건수'] = pd.to_numeric(df_filtered['대출건수'], errors='coerce').astype('Int64')\n",
        "    df_filtered.dropna(subset=['대출건수'], inplace=True)\n",
        "\n",
        "    top_books = df_filtered.groupby('도서명')['대출건수'].sum().sort_values(ascending=False).head(100)\n",
        "    top_books_df = top_books.reset_index()\n",
        "    logging.info(\"데이터 로딩 및 필터링 완료. 인기 도서 TOP 100을 선정했습니다.\")\n",
        "    logging.info(f\"분석 대상 상위 5개 도서:\\n{top_books_df.head().to_string()}\")\n",
        "\n",
        "except FileNotFoundError:\n",
        "    logging.error(\"⚠️ 오류: 'daegu_2.28_lib_07.csv' 파일을 찾을 수 없습니다.\")\n",
        "    top_books_df = None\n",
        "\n",
        "# --- 4. AI 에이전트 설정 ---\n",
        "if top_books_df is not None:\n",
        "    llm = ChatOpenAI(model=\"gpt-4o-mini\", temperature=0)\n",
        "    tools = [TavilySearch(max_results=3)]\n",
        "\n",
        "    # AI 에이전트의 최종 답변이 될 수 있는 유효한 카테고리 목록 정의\n",
        "    valid_categories = [\"문학\", \"역사\", \"과학\", \"수학\", \"자연\", \"예술\", \"교육\", \"기술\"]\n",
        "\n",
        "    # --- 프롬프트 수정 (한 번의 검색으로 최종 답변을 도출하도록 지시) ---\n",
        "    prompt_template = \"\"\"\n",
        "    You are an expert Korean librarian AI agent. Your goal is to categorize books accurately.\n",
        "\n",
        "    You have access to the following tools:\n",
        "    {tools}\n",
        "\n",
        "    Use the following format for your thought process and final answer.\n",
        "    **IMPORTANT**: You MUST use this exact format. Do not deviate.\n",
        "\n",
        "    Thought: You should always think about what to do.\n",
        "    Action: The action to take, should be one of [{tool_names}].\n",
        "    Action Input: The input to the action.\n",
        "    Observation: The result of the action.\n",
        "    Thought: Based on the Observation, I now know the final answer.\n",
        "    Final Answer: [The final category name here, and nothing else. Choose from the list below.]\n",
        "\n",
        "    # Available Categories (The Final Answer must be one of these):\n",
        "    - 문학\n",
        "    - 역사\n",
        "    - 과학\n",
        "    - 수학\n",
        "    - 자연\n",
        "    - 예술\n",
        "    - 교육\n",
        "    - 기술\n",
        "\n",
        "    **IMPORTANT**: You must choose one of the categories listed above. Do not output a different category name.\n",
        "\n",
        "    Begin!\n",
        "\n",
        "    User Input: {input}\n",
        "    Thought Process:\n",
        "    {agent_scratchpad}\n",
        "    \"\"\"\n",
        "    prompt = PromptTemplate.from_template(prompt_template).partial(\n",
        "        tools=str(tools),\n",
        "        tool_names=\", \".join([t.name for t in tools])\n",
        "    )\n",
        "\n",
        "    # --- 5. 에이전트 생성 및 실행 ---\n",
        "    agent = create_react_agent(llm=llm, tools=tools, prompt=prompt)\n",
        "\n",
        "    agent_executor = AgentExecutor(\n",
        "        agent=agent,\n",
        "        tools=tools,\n",
        "        verbose=True,\n",
        "        handle_parsing_errors=True,\n",
        "        max_iterations=2, # 최대 시도 횟수를 2로 변경\n",
        "        max_execution_time=300\n",
        "    )\n",
        "    logging.info(\"OpenAI AI 에이전트가 준비되었습니다. 카테고리 분류를 시작합니다.\")\n",
        "\n",
        "    results = []\n",
        "    for index, row in tqdm(top_books_df.iterrows(), total=len(top_books_df), desc=\"카테고리 분류 진행 중\"):\n",
        "        book_title = row['도서명']\n",
        "        loan_count = row['대출건수']\n",
        "\n",
        "        try:\n",
        "            time.sleep(1)\n",
        "            response = agent_executor.invoke({\"input\": f\"{book_title} 책\"})\n",
        "            category = response['output']\n",
        "\n",
        "            # 추가된 로직: AI 에이전트의 답변이 유효한 카테고리 목록에 없으면 '분류 실패'로 처리\n",
        "            if category not in valid_categories:\n",
        "                tqdm.write(f\"⚠️ '{book_title}'에 대한 AI 답변이 유효하지 않습니다: '{category}'. '분류 실패'로 처리합니다.\")\n",
        "                category = \"분류 실패\"\n",
        "\n",
        "        except Exception as e:\n",
        "            tqdm.write(f\"⚠️ '{book_title}' 분류 중 오류 발생: {e}\")\n",
        "            category = \"분류 실패\"\n",
        "\n",
        "        results.append({\n",
        "            '순위': index + 1,\n",
        "            '도서명': book_title,\n",
        "            '총 대출건수': loan_count,\n",
        "            'AI 분류 카테고리': category\n",
        "        })\n",
        "\n",
        "        if (index + 1) % 10 == 0:\n",
        "            temp_df = pd.DataFrame(results)\n",
        "            temp_df.to_csv(\"categorization_results.csv\", index=False, encoding='utf-8-sig')\n",
        "            tqdm.write(f\"--- 중간 결과 저장 완료 ({index + 1}/{len(top_books_df)}) ---\")\n",
        "\n",
        "    # --- 6. 최종 결과 출력 및 저장 ---\n",
        "    final_df = pd.DataFrame(results)\n",
        "    final_df.to_csv(\"categorization_results.csv\", index=False, encoding='utf-8-sig')\n",
        "    logging.info(\"모든 작업 완료. 최종 결과가 'categorization_results.csv' 파일에 저장되었습니다.\")\n",
        "\n",
        "    print(\"\\n\\n--- [ 🏆 최종 분석 결과 ] ---\")\n",
        "    print(\"인기 도서 TOP 100 목록 및 AI 자동 분류 결과입니다.\")\n",
        "    print(final_df.to_string())\n"
      ],
      "metadata": {
        "colab": {
          "base_uri": "https://localhost:8080/"
        },
        "id": "F6QPIXTAoWYH",
        "outputId": "5ac9f6c7-554c-40dc-e297-6e57e7908370"
      },
      "execution_count": null,
      "outputs": [
        {
          "name": "stdout",
          "output_type": "stream",
          "text": [
            "OpenAI API 키를 입력하세요: ··········\n",
            "Tavily API 키를 입력하세요: ··········\n"
          ]
        },
        {
          "output_type": "stream",
          "name": "stderr",
          "text": [
            "\r카테고리 분류 진행 중:   0%|          | 0/100 [00:00<?, ?it/s]"
          ]
        },
        {
          "output_type": "stream",
          "name": "stdout",
          "text": [
            "\n",
            "\n",
            "\u001b[1m> Entering new AgentExecutor chain...\u001b[0m\n",
            "\u001b[32;1m\u001b[1;3mThought: I need to find information about the book \"식객\" to determine its appropriate category. \n",
            "Action: tavily_search\n",
            "Action Input: \"식객 책\"\u001b[0m\u001b[36;1m\u001b[1;3m{'query': '식객 책', 'follow_up_questions': None, 'answer': None, 'images': [], 'results': [{'url': 'https://namu.wiki/w/%EC%8B%9D%EA%B0%9D(%EB%A7%8C%ED%99%94)', 'title': '식객(만화)', 'content': '식객은 드라마적 방법론을 취하지만 기본적으로 음식이 주인공인 만화다. 음식 자체의 재료, 조리법, 역사적 배경 등에 할애하는 지면이 크다. 전체', 'score': 0.98571, 'raw_content': None}, {'url': 'https://series.naver.com/comic/detail.series?productNo=5404891', 'title': '식객1부 [독점] - 시리즈 - NAVER', 'content': '작품 소개: 만화가 허영만이 2년간의 취재와 준비 끝에 탄생시킨 본격 음식만화. 한국인의 정서와 살냄새를 가장 잘 그려내는 만화가로 뽑히는 저자는 이 작품에서', 'score': 0.984, 'raw_content': None}, {'url': 'https://search.kyobobook.co.kr/search?keyword=%ED%97%88%EC%98%81%EB%A7%8C', 'title': '허영만 검색결과', 'content': '식객이 4년 동안 까다롭게 고른 전국 최고의 맛집. 허영만 저자(글) | TV조선 제작팀 저자(글) 외 | 가디언. 44,100 원 10% (2,450p). 10.0 / 도움돼요.', 'score': 0.97637, 'raw_content': None}], 'response_time': 1.34}\u001b[0m"
          ]
        },
        {
          "output_type": "stream",
          "name": "stderr",
          "text": [
            "\r카테고리 분류 진행 중:   1%|          | 1/100 [00:05<08:56,  5.42s/it]"
          ]
        },
        {
          "output_type": "stream",
          "name": "stdout",
          "text": [
            "\u001b[32;1m\u001b[1;3mBased on the information retrieved, \"식객\" is a comic that focuses on food, including its ingredients, cooking methods, and historical background. This indicates that the book is primarily about culinary arts and culture.\n",
            "\n",
            "Final Answer: 예술\u001b[0m\n",
            "\n",
            "\u001b[1m> Finished chain.\u001b[0m\n",
            "\n",
            "\n",
            "\u001b[1m> Entering new AgentExecutor chain...\u001b[0m\n",
            "\u001b[32;1m\u001b[1;3mThought: I need to find information about the book \"마법의 시간여행\" to determine its category. \n",
            "Action: tavily_search\n",
            "Action Input: \"마법의 시간여행 책\"\u001b[0m\u001b[36;1m\u001b[1;3m{'query': '마법의 시간여행 책', 'follow_up_questions': None, 'answer': None, 'images': [], 'results': [{'url': 'https://namu.wiki/w/%EB%A7%88%EB%B2%95%EC%9D%98%20%EC%8B%9C%EA%B0%84%EC%97%AC%ED%96%89', 'title': '마법의 시간여행 - 나무위키', 'content': '메리 포프 오스본이 지은 아동 역사 챕터 북. 미국의 아동용 도서로 주인공은 잭 스미스와 그의 여동생 애니 스미스. 그 외에도 아서 왕 전설에 나오는 인물들[1]', 'score': 0.98597, 'raw_content': None}, {'url': 'https://bir.co.kr/book_series/%EB%A7%88%EB%B2%95%EC%9D%98-%EC%8B%9C%EA%B0%84%EC%97%AC%ED%96%89-%EA%B0%9C%EC%A0%95%ED%8C%90/', 'title': '마법의 시간여행(개정판) | 도서 시리즈 - 비룡소', 'content': '25년간 전 세계 어린이를 사로잡은 어린이 베스트셀러! 어린이를 책의 마법에 빠져 들게 하는 지식 교양 어드벤처 「마법의 시간여행 Magic Tree House」 시리즈의 개정판', 'score': 0.98243, 'raw_content': None}, {'url': 'https://m.blog.naver.com/roqur21/222109391206', 'title': '아이들에게 읽어주기 좋은 <마법의 시간여행>, Magic Tree House ...', 'content': '《뉴욕타임스》 베스트셀러 1위에도 오른 대표 작품 「마법의 시간 여행」 시리즈는 본격 어린이 교양서로, 전 세계 35개국에 출간되었고 25년 동안 어린', 'score': 0.97714, 'raw_content': None}], 'response_time': 1.44}\u001b[0m"
          ]
        },
        {
          "output_type": "stream",
          "name": "stderr",
          "text": [
            "\r카테고리 분류 진행 중:   2%|▏         | 2/100 [00:10<08:09,  4.99s/it]"
          ]
        },
        {
          "output_type": "stream",
          "name": "stdout",
          "text": [
            "\u001b[32;1m\u001b[1;3mBased on the observation, \"마법의 시간여행\" is a children's book series that combines elements of adventure and education, focusing on historical themes. It is categorized as a children's educational book that provides knowledge through storytelling.\n",
            "\n",
            "Final Answer: 교육\u001b[0m\n",
            "\n",
            "\u001b[1m> Finished chain.\u001b[0m\n",
            "\n",
            "\n",
            "\u001b[1m> Entering new AgentExecutor chain...\u001b[0m\n",
            "\u001b[32;1m\u001b[1;3mThought: The user is looking for a book related to scientific knowledge, which suggests it falls under the category of science. However, I will confirm this by searching for more specific information about \"퀴즈! 과학상식 책\" to ensure accurate categorization.  \n",
            "Action: tavily_search  \n",
            "Action Input: \"퀴즈! 과학상식 책\"  \u001b[0m\u001b[36;1m\u001b[1;3m{'query': '퀴즈! 과학상식 책', 'follow_up_questions': None, 'answer': None, 'images': [], 'results': [{'url': 'https://ibookpark.com/product/%ED%80%B4%EC%A6%88-%EA%B3%BC%ED%95%99%EC%83%81%EC%8B%9D-%EC%8B%9C%EB%A6%AC%EC%A6%88-85%EA%B6%8C-%EC%84%B8%ED%8A%B8/', 'title': '퀴즈! 과학상식 시리즈 85권 세트 - IBOOKPARK INC.', 'content': '퀴즈! 과학상식 시리즈 85권 세트 · 영역: 과학학습만화 · 연령: 초등 3학년 이상 · 구성: 전 85권 · 배송: 미국내 무료배송 · 출판사: 글송이.', 'score': 0.7471924, 'raw_content': None}, {'url': 'https://namu.wiki/w/%ED%80%B4%EC%A6%88!%20%EA%B3%BC%ED%95%99%EC%83%81%EC%8B%9D', 'title': '퀴즈! 과학상식 - 나무위키', 'content': '글송이에서 2001년부터 출판한 학습만화. 2003년까지 1년 간격으로 동물편, 인체편, 우주편 3권이 출간되었다. 이때까지는 퀴즈! 과학상식이 하나의 시리즈물이 아니', 'score': 0.6959795, 'raw_content': None}, {'url': 'https://www.aladin.co.kr/shop/wproduct.aspx?ItemId=7745443', 'title': '퀴즈! 과학상식 : 세계 최고.최초 - 알라딘', 'content': '퀴즈!', 'score': 0.608897, 'raw_content': None}], 'response_time': 1.15}\u001b[0m"
          ]
        },
        {
          "output_type": "stream",
          "name": "stderr",
          "text": [
            "\r카테고리 분류 진행 중:   3%|▎         | 3/100 [00:15<08:33,  5.29s/it]"
          ]
        },
        {
          "output_type": "stream",
          "name": "stdout",
          "text": [
            "\u001b[32;1m\u001b[1;3mBased on the search results, the book \"퀴즈! 과학상식 책\" is part of a series focused on scientific knowledge and is categorized as a science learning comic for elementary school students. This confirms that the book indeed falls under the category of science.\n",
            "\n",
            "Final Answer: 과학\u001b[0m\n",
            "\n",
            "\u001b[1m> Finished chain.\u001b[0m\n",
            "\n",
            "\n",
            "\u001b[1m> Entering new AgentExecutor chain...\u001b[0m\n",
            "\u001b[32;1m\u001b[1;3mThought: I need to find information about the book \"수학도둑\" to determine its appropriate category. \n",
            "Action: tavily_search\n",
            "Action Input: \"수학도둑 책\"\u001b[0m\u001b[36;1m\u001b[1;3m{'query': '수학도둑 책', 'follow_up_questions': None, 'answer': None, 'images': [], 'results': [{'url': 'https://namu.wiki/w/%EC%88%98%ED%95%99%EB%8F%84%EB%91%91', 'title': '수학도둑 - 나무위키', 'content': '대한민국의 수학 학습만화. 코믹 메이플스토리를 원작으로 한 서울문화사 도둑시리즈의 첫 번째 주자다. 스토리는 코믹 메이플스토리의 작가인 송도수', 'score': 0.98537, 'raw_content': None}, {'url': 'https://m.yes24.com/goods/detail/126535600', 'title': '수학도둑 100 - 예스24', 'content': '생활, 역사, 타 교과 속에서 응용ㆍ적용ㆍ활용되었던 수학적 개념ㆍ원리와 흥미로운 이야기! ... 1~100권의 수학도둑을 빛낸 명장면과 인물들을 뽑아 소개하는 특별한 공간!', 'score': 0.98116, 'raw_content': None}, {'url': 'https://page.kakao.com/content/47391946?tab_type=about', 'title': '수학도둑_코믹 메이플스토리 - 책 - 카카오페이지', 'content': '수학도둑은 수학과 논술을 접목시킨 만화로서 아이들이 좋아하는 메이플스토리의 주인공들이 수학적 계산을 이용하여 사건을 해결해나가는 이야기가 들어 있습니다.', 'score': 0.97788, 'raw_content': None}], 'response_time': 0.8}\u001b[0m"
          ]
        },
        {
          "output_type": "stream",
          "name": "stderr",
          "text": [
            "\r카테고리 분류 진행 중:   4%|▍         | 4/100 [00:19<07:47,  4.87s/it]"
          ]
        },
        {
          "output_type": "stream",
          "name": "stdout",
          "text": [
            "\u001b[32;1m\u001b[1;3mBased on the observation, I now know that \"수학도둑\" is a comic series that combines mathematics with storytelling, aimed at helping children learn math concepts through engaging narratives. This indicates that the book falls under the educational category, specifically focusing on mathematics.\n",
            "\n",
            "Final Answer: 교육\u001b[0m\n",
            "\n",
            "\u001b[1m> Finished chain.\u001b[0m\n",
            "\n",
            "\n",
            "\u001b[1m> Entering new AgentExecutor chain...\u001b[0m\n",
            "\u001b[32;1m\u001b[1;3mThought: I need to determine the appropriate category for the book titled \"세계의 명작 그림동화\" which translates to \"Masterpieces of World Picture Fairy Tales\" and includes the term \"오페라\" meaning \"opera.\" This suggests a focus on literature, particularly fairy tales and possibly their adaptations in opera. \n",
            "Action: tavily_search\n",
            "Action Input: \"세계의 명작 그림동화 오페라 책\"\u001b[0m\u001b[36;1m\u001b[1;3m{'query': '세계의 명작 그림동화 오페라 책', 'follow_up_questions': None, 'answer': None, 'images': [], 'results': [{'url': 'https://www.yes24.com/Product/Goods/56324164', 'title': '슈바이처)세계의 명작그림동화 오페라 - 중고샵 - 예스24', 'content': '슈바이처)세계의 명작그림동화 오페라. 36권 지침서 시디17장/권수부족,한장내용흠외 새책수준/ㅁ5/당일빠른배송 도와드립니다~', 'score': 0.8170061, 'raw_content': None}, {'url': 'https://m.yes24.com/goods/detail/2695768', 'title': '슈바이처]세계의 명작그림동화 오페라 (본책80권,미니북20권 ... - 예스24', 'content': '소득공제. 전집 슈바이처]세계의 명작그림동화 오페라 (본책80권,미니북20권,부모지침서4권,논리지침서2권+구연동화CD20장) · 연령 4~7세□북마켓 무료배송.', 'score': 0.8058924, 'raw_content': None}, {'url': 'https://www.aladin.co.kr/shop/wproduct.aspx?ItemId=434315&srsltid=AfmBOorcBNnMVmE86Oh_Lh11FYpydkQ0W_g90nhUGjP54OgjS4Z8EFaG', 'title': '세계 명작 오페라 1 - 알라딘', 'content': \"가난하지만 활기차게 살아가는 젊은이들의 모습을 그린 '라 보엠', 이집트 장군과 에티오피아 공주의 비극적인 사랑을 다룬 '아이다', 죽은 아내를 살리기 위해 지옥까지\", 'score': 0.5363378, 'raw_content': None}], 'response_time': 0.85}\u001b[0m"
          ]
        },
        {
          "output_type": "stream",
          "name": "stderr",
          "text": [
            "\r카테고리 분류 진행 중:   5%|▌         | 5/100 [00:25<08:13,  5.20s/it]"
          ]
        },
        {
          "output_type": "stream",
          "name": "stdout",
          "text": [
            "\u001b[32;1m\u001b[1;3mBased on the observation, the book \"세계의 명작 그림동화 오페라\" is a collection that includes fairy tales and their adaptations, likely focusing on literature. The presence of \"오페라\" indicates a connection to storytelling through music and performance, which aligns with literary themes. Therefore, the most appropriate category for this book is literature.\n",
            "\n",
            "Final Answer: 문학\u001b[0m\n",
            "\n",
            "\u001b[1m> Finished chain.\u001b[0m\n",
            "\n",
            "\n",
            "\u001b[1m> Entering new AgentExecutor chain...\u001b[0m\n",
            "\u001b[32;1m\u001b[1;3mThought: I need to find information about the book \"위기탈출 넘버원\" to determine its category. \n",
            "Action: tavily_search\n",
            "Action Input: \"위기탈출 넘버원 책\"\u001b[0m\u001b[36;1m\u001b[1;3m{'query': '위기탈출 넘버원 책', 'follow_up_questions': None, 'answer': None, 'images': [], 'results': [{'url': 'https://namu.wiki/w/%EC%9C%84%EA%B8%B0%ED%83%88%EC%B6%9C%20%EB%84%98%EB%B2%84%EC%9B%90(%EB%A7%8C%ED%99%94)', 'title': '위기탈출 넘버원(만화) - 나무위키', 'content': '위기탈출 넘버원(방송)을 원작으로 하는 밝은미래 사의 서바이벌 과학 학습 만화책 시리즈로, 2006년에 1권이 나왔으며, 34권까지 발행되었다. 한 10권', 'score': 0.80625874, 'raw_content': None}, {'url': 'https://www.yes24.com/product/category/series/001001016?SeriesNumber=99611', 'title': '위기탈출 넘버원 - 예스24', 'content': '이 책은 현재 KBS 2TV에서 인기리에 방영 중인 「위기탈출 넘버원」 프로그램의 내용을 밑바탕으로 한 서바이벌 과학 학습 만화입니다. 과학 문명이 발달하고 사회가', 'score': 0.79215926, 'raw_content': None}, {'url': 'https://www.aladin.co.kr/shop/wproduct.aspx?ItemId=646161&srsltid=AfmBOor9_la_cvmkDaIfn098iYHOrVyxfnH_2xyZfdpGx9eRTkTUPCSD', 'title': '위기탈출 넘버원 1 - 알라딘', 'content': '이 책은 현재 KBS 2TV에서 인기리에 방영 중인 [위기탈출 넘버원] 프로그램의 내용을 밑바탕으로 한 서바이벌 과학 학습 만화입니다. 과학 문명이 발달하고 사회가', 'score': 0.75421005, 'raw_content': None}], 'response_time': 1.14}\u001b[0m"
          ]
        },
        {
          "output_type": "stream",
          "name": "stderr",
          "text": [
            "\r카테고리 분류 진행 중:   6%|▌         | 6/100 [00:30<07:49,  4.99s/it]"
          ]
        },
        {
          "output_type": "stream",
          "name": "stdout",
          "text": [
            "\u001b[32;1m\u001b[1;3mBased on the search results, \"위기탈출 넘버원\" is a survival science learning comic series that is based on a popular TV program. It focuses on scientific concepts and is categorized as educational material. \n",
            "\n",
            "Final Answer: 교육\u001b[0m\n",
            "\n",
            "\u001b[1m> Finished chain.\u001b[0m\n",
            "\n",
            "\n",
            "\u001b[1m> Entering new AgentExecutor chain...\u001b[0m\n",
            "\u001b[32;1m\u001b[1;3mThought: I need to determine the appropriate category for the book \"삼국지\" (Romance of the Three Kingdoms). This book is a historical novel that deals with the events and figures of the Three Kingdoms period in China. \n",
            "Action: tavily_search\n",
            "Action Input: \"삼국지 책\"\u001b[0m\u001b[36;1m\u001b[1;3m{'query': '삼국지 책', 'follow_up_questions': None, 'answer': None, 'images': [], 'results': [{'url': 'http://hotdeal.koreadaily.com/product_detail.html?prd_idx=1472', 'title': '삼국지(전10권 세트)', 'content': '삼국지(전10권 세트). 저자:나관중 / 옮긴이:이문열 / 출판사: 알에이치코리아 ... 그러나 이 책을 시험 준비용 책이라고만 한다면 잘못된 평가다. 93년 한국출판', 'score': 0.6638657, 'raw_content': None}, {'url': 'https://namu.wiki/w/%EC%82%BC%EA%B5%AD%EC%A7%80/%EA%B4%80%EB%A0%A8%20%EC%9E%91%ED%92%88', 'title': '삼국지/관련 작품', 'content': '김홍신 평역 삼국지(1997): 국회의원이자 『인간시장』의 작가 김홍신이 엮은 10권짜리 삼국지. 재미 자체는 무난한 편으로, 다른 삼국지를 읽지 않은', 'score': 0.5826579, 'raw_content': None}, {'url': 'https://search.kyobobook.co.kr/search?keyword=%EC%82%BC%EA%B5%AD%EC%A7%80', 'title': '삼국지 검색결과', 'content': '[연재] 삼국지 - 간신전 · [웹소설] [연재] 삼국지 - 간신전 · 삼국지 역대급 재벌. [웹소설] 삼국지 역대급 재벌. · 삼국지: 흑산적 두령네 천재 아들. [웹소설] 삼국지:', 'score': 0.5035894, 'raw_content': None}], 'response_time': 1.33}\u001b[0m"
          ]
        },
        {
          "output_type": "stream",
          "name": "stderr",
          "text": [
            "\r카테고리 분류 진행 중:   7%|▋         | 7/100 [00:35<07:34,  4.89s/it]"
          ]
        },
        {
          "output_type": "stream",
          "name": "stdout",
          "text": [
            "\u001b[32;1m\u001b[1;3mBased on the Observation, I now know the final answer. \n",
            "Final Answer: 역사\u001b[0m\n",
            "\n",
            "\u001b[1m> Finished chain.\u001b[0m\n",
            "\n",
            "\n",
            "\u001b[1m> Entering new AgentExecutor chain...\u001b[0m\n",
            "\u001b[32;1m\u001b[1;3mThought: I need to find information about the book \"토지\" to determine its category. \n",
            "Action: tavily_search\n",
            "Action Input: \"토지 책\"\u001b[0m\u001b[36;1m\u001b[1;3m{'query': '토지 책', 'follow_up_questions': None, 'answer': None, 'images': [], 'results': [{'url': 'https://product.kyobobook.co.kr/detail/S000202282261', 'title': '토지 1-20권 세트(반 고흐 에디션) | 박경리 - 교보문고', 'content': '『토지』는 한말로부터 식민지 시대를 꿰뚫으며 민족사의 변전을 그리는 한국 문학의 걸작으로, 이 소설을 통해 한국 문학사에 뚜렷한 족적을 남긴 거장', 'score': 0.6959795, 'raw_content': None}, {'url': 'https://namu.wiki/w/%ED%86%A0%EC%A7%80(%EC%86%8C%EC%84%A4)', 'title': '토지(소설) - 나무위키', 'content': \"1. 개요[편집] ... 박경리의 대하소설. 작가 필생의 역작으로 1969년 6월부터 집필을 시작하여[2] 1994년에야 완성된 '집필'[3]에만 25년이 걸린 소설로, 그에 걸맞게 상당히\", 'score': 0.560566, 'raw_content': None}, {'url': 'https://blog.naver.com/mumin113/223344452692?viewType=pc', 'title': '소설 토지(박경리) 리뷰, 대하소설을 읽는 의미에 대해서 : 네이버 블로그', 'content': '첫 2권 정도는 익숙하지 않은 전라도 지방의 방언이 활자화되어 책을 가득 채우고 있어서 무슨 말인지 이해할 수가 없어 직접 입으로 읽어보며 뜻을 파악', 'score': 0.3966996, 'raw_content': None}], 'response_time': 1.03}\u001b[0m"
          ]
        },
        {
          "output_type": "stream",
          "name": "stderr",
          "text": [
            "\r카테고리 분류 진행 중:   8%|▊         | 8/100 [00:39<07:24,  4.83s/it]"
          ]
        },
        {
          "output_type": "stream",
          "name": "stdout",
          "text": [
            "\u001b[32;1m\u001b[1;3mBased on the observation, I found that \"토지\" is a significant work of Korean literature, described as a masterpiece that explores the history and changes of the Korean nation from the late Joseon period to the colonial era. This indicates that the book falls under the category of literature.\n",
            "\n",
            "Final Answer: 문학\u001b[0m\n",
            "\n",
            "\u001b[1m> Finished chain.\u001b[0m\n",
            "\n",
            "\n",
            "\u001b[1m> Entering new AgentExecutor chain...\u001b[0m\n",
            "\u001b[32;1m\u001b[1;3mThought: I need to find information about the book \"엄마는 단짝친구\" to determine its category. \n",
            "Action: tavily_search\n",
            "Action Input: \"엄마는 단짝친구 책\"\u001b[0m\u001b[36;1m\u001b[1;3m{'query': '엄마는 단짝친구 책', 'follow_up_questions': None, 'answer': None, 'images': [], 'results': [{'url': 'https://product.kyobobook.co.kr/detail/S000000488509', 'title': '엄마는 단짝친구 1 | 이빈 - 교보문고', 'content': '이빈의 만화 『엄마는 단짝친구』 제1권. 엄마, 아빠의 어린 시절을 만나게 해주는 가족 만화다. 자두네 가족의 소소한 일상을 엿보면서 가족의 소중함도 되새길 수', 'score': 0.8036831, 'raw_content': None}, {'url': 'https://m.yes24.com/Goods/Detail/57242709', 'title': '엄마는 단짝친구 16~20권 묶음세트(전5권) - 예스24', 'content': '엄마, 아빠의 어린 시절을 만나게 해 주는 마음이 따뜻해지는 가족 만화. 잠시 잊고 살았던 시절의 즐거움과 슬픔. 그리고 진한 감동의 이야기를 진솔하게 담아', 'score': 0.74363416, 'raw_content': None}, {'url': 'https://www.aladin.co.kr/shop/wproduct.aspx?ItemId=107837094&srsltid=AfmBOoqx7BFpXw4x03lMIj1RG0SWR1qxVdf6yIeZMdIoqbsWfe5OViyT', 'title': '엄마는 단짝친구 1 - 알라딘', 'content': '엄마, 아빠의 어린 시절을 만나게 해 주는 마음이 따뜻해지는 가족 만화. 잠시 잊고 살았던 시절의 즐거움과 슬픔, 그리고 진한 감동의 이야기를 진솔하게 담아냈다.', 'score': 0.6932451, 'raw_content': None}], 'response_time': 1.17}\u001b[0m"
          ]
        },
        {
          "output_type": "stream",
          "name": "stderr",
          "text": [
            "\r카테고리 분류 진행 중:   9%|▉         | 9/100 [00:44<07:19,  4.83s/it]"
          ]
        },
        {
          "output_type": "stream",
          "name": "stdout",
          "text": [
            "\u001b[32;1m\u001b[1;3mBased on the search results, \"엄마는 단짝친구\" is a family comic that reflects on the childhood of parents and emphasizes the importance of family. This suggests that the book falls under the category of literature, as it deals with storytelling and emotional themes related to family life.\n",
            "\n",
            "Final Answer: 문학\u001b[0m\n",
            "\n",
            "\u001b[1m> Finished chain.\u001b[0m\n",
            "\n",
            "\n",
            "\u001b[1m> Entering new AgentExecutor chain...\u001b[0m\n",
            "\u001b[32;1m\u001b[1;3mThought: I need to categorize a book that is about survival comics and scientific knowledge. This suggests a blend of entertainment (comics) and educational content (science). \n",
            "Action: tavily_search\n",
            "Action Input: \"서바이벌 만화 과학상식 책\"\u001b[0m\u001b[36;1m\u001b[1;3m{'query': '서바이벌 만화 과학상식 책', 'follow_up_questions': None, 'answer': None, 'images': [], 'results': [{'url': 'https://www.yes24.com/product/category/series/001?SeriesNumber=80233', 'title': '서바이벌 만화 과학상식 시리즈 - 예스24', 'content': '특색있는 자연 환경을 소재로 한 서바이벌 시리즈. 어린이들에게는 재미와 과학 상식까지 전해주는 에듀테인먼트 만화이다. 단원 사이에 서바이벌 상식을 삽입해 과학 상식', 'score': 0.98551, 'raw_content': None}, {'url': 'https://www.aladin.co.kr/m/mseriesitem.aspx?SRID=4023&srsltid=AfmBOoq0Q7Fm81u42JlsSqUXbKvLB6quvVym2vxKOyeM7ziqduiwu2ee', 'title': '서바이벌 만화 과학상식 : 알라딘', 'content': '피너츠 투톤 쥬트백(택1, 대상도서 15,000원 이상 구매 시); AI 로봇 세계에서 살아남기 2 - 서바이벌 만화 과학상식 67 · 곰돌이 co. (지은이), 한현동 (그림),', 'score': 0.98232, 'raw_content': None}, {'url': 'https://ibookpark.com/product/%EC%8B%AC%ED%95%B4%EC%97%90%EC%84%9C-%EC%82%B4%EC%95%84%EB%82%A8%EA%B8%B0-%EC%84%9C%EB%B0%94%EC%9D%B4%EB%B2%8C-%EB%A7%8C%ED%99%94-%EA%B3%BC%ED%95%99%EC%83%81%EC%8B%9D-30/', 'title': '심해에서 살아남기- 서바이벌 만화 과학상식 30 - IBOOKPARK INC.', 'content': \"아슬아슬한 모험을 통해 과학상식을 배우는 학습만화 <서바이벌 만화 과학상식> 시리즈. 30권 '심해에서 살아남기' 편에서는 잠수정 암모나이트호를 타고 심해 깊숙이\", 'score': 0.97996, 'raw_content': None}], 'response_time': 0.67}\u001b[0m"
          ]
        },
        {
          "output_type": "stream",
          "name": "stderr",
          "text": [
            "카테고리 분류 진행 중:  10%|█         | 10/100 [00:48<06:47,  4.53s/it]"
          ]
        },
        {
          "output_type": "stream",
          "name": "stdout",
          "text": [
            "\u001b[32;1m\u001b[1;3mBased on the Observation, I now know the final answer. \n",
            "Final Answer: 과학\u001b[0m\n",
            "\n",
            "\u001b[1m> Finished chain.\u001b[0m\n",
            "--- 중간 결과 저장 완료 (10/100) ---\n",
            "\n",
            "\n",
            "\u001b[1m> Entering new AgentExecutor chain...\u001b[0m\n",
            "\u001b[32;1m\u001b[1;3mThought: I need to find information about the book \"흔한남매\" to determine its appropriate category.\n",
            "Action: tavily_search\n",
            "Action Input: 흔한남매 책\u001b[0m\u001b[36;1m\u001b[1;3m{'query': '흔한남매 책', 'follow_up_questions': None, 'answer': None, 'images': [], 'results': [{'url': 'https://ibookpark.com/product/%ED%9D%94%ED%95%9C%EB%82%A8%EB%A7%A4-118%EA%B6%8C-%EC%84%B8%ED%8A%B8/', 'title': '흔한남매 1~18권 세트', 'content': '영역: 학습만화; 연령: 초등전학년; 구성: 전 18권; 출판사: 미래엔아이세움; 배송: 미국내 무료배송. Available on backorder. If you purchase this product you', 'score': 0.9852, 'raw_content': None}, {'url': 'https://kmarket365.com/m/prod_detail.asp?prod_code=orce200128b', 'title': '흔한남매 3', 'content': \"흔한남매가 선사하는 유쾌한 우애와 순수한 웃음! 『흔한남매 3』은 '흔한남매' 유튜브 영상의 스토리를 앙증맞고 유머러스한 만화로 풀어 낸 코믹북입니다. 하루도\", 'score': 0.9825, 'raw_content': None}, {'url': 'https://search.kyobobook.co.kr/search?keyword=%ED%9D%94%ED%95%9C%EB%82%A8%EB%A7%A4&chrcCode=1113471301', 'title': '흔한남매 검색결과 - 교보문고', 'content': '이종혁 저자(글) | 도니패밀리 그림/만화 | 흔한컴퍼니 감수 | 흔한남매 원작 외 | 미래엔아이세움. 14,220 원 10% (790p). 9.65 / 좋아해요. 8/5(화) 도착 팝업 열기.', 'score': 0.97782, 'raw_content': None}], 'response_time': 1.35}\u001b[0m"
          ]
        },
        {
          "output_type": "stream",
          "name": "stderr",
          "text": [
            "\r카테고리 분류 진행 중:  11%|█         | 11/100 [00:53<06:57,  4.69s/it]"
          ]
        },
        {
          "output_type": "stream",
          "name": "stdout",
          "text": [
            "\u001b[32;1m\u001b[1;3mBased on the search results, \"흔한남매\" appears to be a comic book series that is aimed at elementary school students and is based on a popular YouTube series. The content is humorous and focuses on the themes of sibling relationships and fun stories. Given that it is a comic book and is intended for educational purposes, it fits best under the category of \"교육.\"\n",
            "\n",
            "Final Answer: 교육\u001b[0m\n",
            "\n",
            "\u001b[1m> Finished chain.\u001b[0m\n",
            "\n",
            "\n",
            "\u001b[1m> Entering new AgentExecutor chain...\u001b[0m\n",
            "\u001b[32;1m\u001b[1;3mThought: I need to determine the category for the book \"쿠키런 어드벤처.\" This title suggests it may relate to a game or adventure theme, possibly involving elements of storytelling or creativity. \n",
            "Action: tavily_search\n",
            "Action Input: \"쿠키런 어드벤처 책\"\u001b[0m\u001b[36;1m\u001b[1;3m{'query': '쿠키런 어드벤처 책', 'follow_up_questions': None, 'answer': None, 'images': [], 'results': [{'url': 'https://m.yes24.com/goods/detail/119512738', 'title': '쿠키런 어드벤처 1~10권 세트 - 예스24', 'content': '[쿠키런 어드벤처]는 세계 여러 나라의 명소에 대한 상식과 정보를 생생하고 실감 나는 그림으로 전달하는 세계문화학습만화입니다. OX 퀴즈, 방대한 사진', 'score': 0.82254606, 'raw_content': None}, {'url': 'https://namu.wiki/w/%EC%BF%A0%ED%82%A4%EB%9F%B0%20%EC%96%B4%EB%93%9C%EB%B2%A4%EC%B2%98', 'title': '쿠키런 어드벤처 - 나무위키', 'content': '서울문화사에서 출간했던 아동 만화책. 작가는 코믹 메이플스토리로 유명한 송도수와 서정은. 쿠키런 역사상 최초의 만화책 시리즈이다. 격월 연재. 제목', 'score': 0.769306, 'raw_content': None}, {'url': 'https://www.aladin.co.kr/m/mseriesitem.aspx?SRID=72394&srsltid=AfmBOornAa7YtUAiyN1mztCvrai-GNIEcwY4iGST357TRaKebH730YiC', 'title': '쿠키런 어드벤처 : 알라딘', 'content': '쿠키런 어드벤처 43 : 알래스카 - 되살아난 괴물, 쿠키들의 신통방통 지리 여행 - 쿠키런 어드벤처 43 · 송도수 (지은이), 서정은 (그림) · 서울문화사 | 2024년 08월 | 2024', 'score': 0.56517935, 'raw_content': None}], 'response_time': 0.99}\u001b[0m"
          ]
        },
        {
          "output_type": "stream",
          "name": "stderr",
          "text": [
            "\r카테고리 분류 진행 중:  12%|█▏        | 12/100 [00:58<07:01,  4.79s/it]"
          ]
        },
        {
          "output_type": "stream",
          "name": "stdout",
          "text": [
            "\u001b[32;1m\u001b[1;3mBased on the observation, \"쿠키런 어드벤처\" is a children's comic book series that provides information about various cultural landmarks around the world through engaging illustrations. This suggests that the book falls under the category of education, as it aims to teach readers about geography and culture in a fun and interactive way.\n",
            "\n",
            "Final Answer: 교육\u001b[0m\n",
            "\n",
            "\u001b[1m> Finished chain.\u001b[0m\n",
            "\n",
            "\n",
            "\u001b[1m> Entering new AgentExecutor chain...\u001b[0m\n",
            "\u001b[32;1m\u001b[1;3mThought: I need to determine the appropriate category for the book titled \"(판타지)수학대전.\" Since it includes \"수학\" in the title, it likely relates to mathematics, but I should confirm this by searching for more information about the book.  \n",
            "Action: tavily_search  \n",
            "Action Input: \"(판타지)수학대전 책\"  \u001b[0m\u001b[36;1m\u001b[1;3m{'query': '(판타지)수학대전 책', 'follow_up_questions': None, 'answer': None, 'images': [], 'results': [{'url': 'https://page.kakao.com/content/47605151?tab_type=about', 'title': '판타지 수학대전 - 책', 'content': '천년 전 비밀에 쌓인 이야기를 수학으로 풀어낸다! 흥미진진한 수학 학습만화 판타지 수학대전 책에 등장하는 수학을 싫어하는 평범한 초등학생 지수가 수학 문제를 해결해', 'score': 0.77751994, 'raw_content': None}, {'url': 'https://search.kyobobook.co.kr/search;jsessionid=1627CA77E3E3C9E3B783088F44B6751B?gbCode=TOT&target=total&keyword=%ED%8C%90%ED%83%80%EC%A7%80%EC%88%98%ED%95%99%EB%8C%80%EC%A0%84', 'title': '판타지수학대전 검색결과', 'content': '판타지 수학대전 1~10권 세트 (전10권, 개정판) · [국내도서] 판타지 수학대전 1~10권 세트 (전10권, 개정판) · 90,000 ; 판타지 수학대전 11~20권 세트 (전10권, 개정판). [', 'score': 0.7482976, 'raw_content': None}, {'url': 'https://namu.wiki/w/%ED%8C%90%ED%83%80%EC%A7%80%20%EC%88%98%ED%95%99%EB%8C%80%EC%A0%84', 'title': '판타지 수학대전', 'content': '판타지에 수학이 매우 자연스럽게 녹아들었으며 연출도 좋은 편이고 작화도 좋다. 학습만화라는 점을 신경 안 쓰고 그냥 판타지 만화로 봐도 수준급이다.', 'score': 0.5674818, 'raw_content': None}], 'response_time': 1.52}\u001b[0m"
          ]
        },
        {
          "output_type": "stream",
          "name": "stderr",
          "text": [
            "\r카테고리 분류 진행 중:  13%|█▎        | 13/100 [01:03<07:09,  4.94s/it]"
          ]
        },
        {
          "output_type": "stream",
          "name": "stdout",
          "text": [
            "\u001b[32;1m\u001b[1;3mBased on the observation, the book \"(판타지)수학대전\" is a fantasy-themed educational comic that incorporates mathematics into its storyline. This indicates that the primary focus of the book is on mathematics, despite its fantasy elements. \n",
            "\n",
            "Final Answer: 수학\u001b[0m\n",
            "\n",
            "\u001b[1m> Finished chain.\u001b[0m\n",
            "\n",
            "\n",
            "\u001b[1m> Entering new AgentExecutor chain...\u001b[0m\n",
            "\u001b[32;1m\u001b[1;3mThought: I need to determine the category of the book \"쿠키런 서바이벌 대작전.\" This title suggests it may be related to a game or entertainment, but I need to confirm its content and context to categorize it accurately. \n",
            "Action: tavily_search\n",
            "Action Input: \"쿠키런 서바이벌 대작전 책 내용\"\u001b[0m\u001b[36;1m\u001b[1;3m{'query': '쿠키런 서바이벌 대작전 책 내용', 'follow_up_questions': None, 'answer': None, 'images': [], 'results': [{'url': 'https://blog.naver.com/tjsaudgml123/223292790264', 'title': '(도서리뷰) 쿠키런 서바이벌 대작전-50 모두의 마음이 하나로 편', 'content': '... 책 중에 하나인. 쿠키런 서바이벌 대작전!! \\u200b. 50권이 발간되었다는 기쁜 ... 내다보지 못한 미래가 발생하고! \\u200b. 위기에 처한 용감한 쿠키 일행들에게.', 'score': 0.7559439, 'raw_content': None}, {'url': 'https://namu.wiki/w/%EC%BF%A0%ED%82%A4%EB%9F%B0%20%EC%84%9C%EB%B0%94%EC%9D%B4%EB%B2%8C%20%EB%8C%80%EC%9E%91%EC%A0%84', 'title': '쿠키런 서바이벌 대작전 - 나무위키', 'content': '김강현 글, 김기수 그림.[1] 2015년 2월 26일 첫 출간되었다. 쿠키들이 정글이나 바다 등 온갖 곳을 탐험한다. 원작의 스토리 라인이나 지역을 어느', 'score': 0.6991933, 'raw_content': None}, {'url': 'https://product.kyobobook.co.kr/detail/S000203681800', 'title': '쿠키런 서바이벌 대작전 49: 쿠키들의 반격 편 | 김강현 - 교보문고', 'content': '이상한 점을 눈치챈 용감한 쿠키는 망고스틴맛 쿠키의 비밀을 알게 된다! 친구들과 용안 드래곤 쿠키의 무시무시한 계획을 막기로 하지만 쉽지 않은데', 'score': 0.55565286, 'raw_content': None}], 'response_time': 1.04}\u001b[0m"
          ]
        },
        {
          "output_type": "stream",
          "name": "stderr",
          "text": [
            "\r카테고리 분류 진행 중:  14%|█▍        | 14/100 [01:08<07:00,  4.89s/it]"
          ]
        },
        {
          "output_type": "stream",
          "name": "stdout",
          "text": [
            "\u001b[32;1m\u001b[1;3mBased on the search results, \"쿠키런 서바이벌 대작전\" appears to be a book series related to the popular game \"Cookie Run,\" featuring adventures of cookie characters in various settings. The content suggests it is primarily aimed at children and focuses on storytelling and entertainment rather than educational or scientific themes.\n",
            "\n",
            "Final Answer: 예술\u001b[0m\n",
            "\n",
            "\u001b[1m> Finished chain.\u001b[0m\n",
            "\n",
            "\n",
            "\u001b[1m> Entering new AgentExecutor chain...\u001b[0m\n",
            "\u001b[32;1m\u001b[1;3mThought: I need to determine the category of the book \"쾌걸 조로리\" to accurately classify it. \n",
            "Action: tavily_search\n",
            "Action Input: \"쾌걸 조로리 책\"\u001b[0m\u001b[36;1m\u001b[1;3m{'query': '쾌걸 조로리 책', 'follow_up_questions': None, 'answer': None, 'images': [], 'results': [{'url': 'https://namu.wiki/w/%EC%BE%8C%EA%B1%B8%20%EC%A1%B0%EB%A1%9C%EB%A6%AC%20%EB%8F%84%EC%84%9C%20%EC%8B%9C%EB%A6%AC%EC%A6%88', 'title': '쾌걸 조로리 도서 시리즈 - 나무위키', 'content': '2.1. 1권: 드래곤 퇴치 대작전2.2. 2권: 공포의 저택2.3. 3권: 마법사의 제자2.4. 4권: 해적왕2.5. 5권: 유령선2.6. 6권: 초콜릿성', 'score': 0.76659125, 'raw_content': None}, {'url': 'https://www.yes24.com/product/category/series/?SeriesNumber=129669', 'title': '쾌걸 조로리 - 예스24', 'content': '『장난천재 쾌걸 조로리』 시리즈 최신판 11~20권이 발간되었습니다. 어린이들에게 독서의 재미를 알려주는 책으로 손꼽히는 이 시리', 'score': 0.75852895, 'raw_content': None}, {'url': 'https://www.aladin.co.kr/shop/wproduct.aspx?ItemId=8227348&srsltid=AfmBOoouhCoujoUVF9Cd5kxkOJ6S6VVAHNk8YL2MHVypt4Z7-Y-ulQPN', 'title': '쾌걸 조로리 1~10 세트 - 전10권 - 알라딘', 'content': '일본 어린이들을 독서 열풍에 빠지게 한 책! 쾌걸 조로리 시리즈는 1987년 일본에서 첫 권이 발간된 이후 지금까지 2400만 부 이상 판매된 베스트셀러 시리즈입니다. 장난', 'score': 0.7498395, 'raw_content': None}], 'response_time': 0.78}\u001b[0m"
          ]
        },
        {
          "output_type": "stream",
          "name": "stderr",
          "text": [
            "\r카테고리 분류 진행 중:  15%|█▌        | 15/100 [01:13<06:54,  4.87s/it]"
          ]
        },
        {
          "output_type": "stream",
          "name": "stdout",
          "text": [
            "\u001b[32;1m\u001b[1;3mBased on the observation, \"쾌걸 조로리\" is a children's book series that is known for engaging young readers and promoting the joy of reading. It is categorized as a work of literature aimed at children.\n",
            "\n",
            "Final Answer: 문학\u001b[0m\n",
            "\n",
            "\u001b[1m> Finished chain.\u001b[0m\n",
            "\n",
            "\n",
            "\u001b[1m> Entering new AgentExecutor chain...\u001b[0m\n",
            "\u001b[32;1m\u001b[1;3mThought: I need to determine the category of the book \"설민석의 한국사 대모험\" to accurately classify it. This book appears to be related to Korean history, so I will look for more information about it.  \n",
            "Action: tavily_search  \n",
            "Action Input: \"설민석의 한국사 대모험\"  \u001b[0m\u001b[36;1m\u001b[1;3m{'query': '설민석의 한국사 대모험', 'follow_up_questions': None, 'answer': None, 'images': [], 'results': [{'url': 'https://namu.wiki/w/%EC%84%A4%EB%AF%BC%EC%84%9D%EC%9D%98%20%ED%95%9C%EA%B5%AD%EC%82%AC%20%EB%8C%80%EB%AA%A8%ED%97%98', 'title': '설민석의 한국사 대모험 - 나무위키', 'content': '설민석, 스토리박스 글[1] / 정현희 그림의 어린이용 한국사 만화. 현재 33권까지 출간된 상태. 여기도 설민석이 소속한 태건역사연구소가 있는 세계관', 'score': 0.98508, 'raw_content': None}, {'url': 'https://www.dankkumi.com/Introduction/Project', 'title': '설민석의 한국사 대모험 시리즈 - 단꿈아이', 'content': '조선 정조 시대를 배경으로 한 K- 요괴 판타지 소설 이야기 속으로 초대합니다! 자세히 보기. 설민석의 첫 번째 장편소설. Sir Minsoek. 2020', 'score': 0.98177, 'raw_content': None}, {'url': 'https://www.youtube.com/watch?v=UjTwmyosfy8', 'title': '[한국사 만화 몰아보기] 시간순삭! 설쌤과 함께하는 한국사 대모험 1 ...', 'content': '설쌤 과 함께하는 #설민석 의 #한국사 대모험! 1권부터 10권까지~ 만화로 몰아보기! 00:00 [설민석의 한국사 대모험, 1권] 세종대왕 편 01:17 [설민석', 'score': 0.97853, 'raw_content': None}], 'response_time': 1.54}\u001b[0m"
          ]
        },
        {
          "output_type": "stream",
          "name": "stderr",
          "text": [
            "\r카테고리 분류 진행 중:  16%|█▌        | 16/100 [01:18<06:46,  4.84s/it]"
          ]
        },
        {
          "output_type": "stream",
          "name": "stdout",
          "text": [
            "\u001b[32;1m\u001b[1;3mBased on the observation, \"설민석의 한국사 대모험\" is a children's comic series about Korean history, indicating that it falls under the category of history. \n",
            "\n",
            "Final Answer: 역사\u001b[0m\n",
            "\n",
            "\u001b[1m> Finished chain.\u001b[0m\n",
            "\n",
            "\n",
            "\u001b[1m> Entering new AgentExecutor chain...\u001b[0m\n",
            "\u001b[32;1m\u001b[1;3mThought: I need to find information about the book \"비뢰도\" to determine its appropriate category. \n",
            "Action: tavily_search\n",
            "Action Input: \"비뢰도 책\"\u001b[0m\u001b[36;1m\u001b[1;3m{'query': '비뢰도 책', 'follow_up_questions': None, 'answer': None, 'images': [], 'results': [{'url': 'https://m.yes24.com/Goods/Detail/92565259', 'title': '[전자책] 비뢰도 - 예스24', 'content': '\"이십 세 초반의 괴짜 청년 비류연. 그가 고아가 된 열 살 무렵, 사부를 만나면서 무림의 세계와 접하게 된다. 우연히 천무학관 관 도들을 만나면서 비류연의 운명은', 'score': 0.638588, 'raw_content': None}, {'url': 'https://product.kyobobook.co.kr/detail/S000000463359', 'title': '비뢰도 29 | 검류혼 - 교보문고', 'content': '검류혼 장편 신무협 판타지 소설 『비뢰도 : 신마가의 남자들』 제29권. 이십 세 초반의 괴짜 청년 비류연. 그가 고아가 된 열 살 무렵,', 'score': 0.6244086, 'raw_content': None}, {'url': 'https://namu.wiki/w/%EB%B9%84%EB%A2%B0%EB%8F%84', 'title': '비뢰도 - 나무위키', 'content': '이십 세 초반의 괴짜 청년 비류연. 그가 고아가 된 열 살 무렵, 사부를 만나면서 무림의 세계와 접하게 된다. 우연히 천무학관 관도들을 만나면서 비류연의 운명은', 'score': 0.29637465, 'raw_content': None}], 'response_time': 1.43}\u001b[0m"
          ]
        },
        {
          "output_type": "stream",
          "name": "stderr",
          "text": [
            "\r카테고리 분류 진행 중:  17%|█▋        | 17/100 [01:22<06:26,  4.66s/it]"
          ]
        },
        {
          "output_type": "stream",
          "name": "stdout",
          "text": [
            "\u001b[32;1m\u001b[1;3mBased on the search results, \"비뢰도\" appears to be a fantasy novel that involves elements of martial arts and adventure, which aligns it with the genre of literature. \n",
            "\n",
            "Final Answer: 문학\u001b[0m\n",
            "\n",
            "\u001b[1m> Finished chain.\u001b[0m\n",
            "\n",
            "\n",
            "\u001b[1m> Entering new AgentExecutor chain...\u001b[0m\n",
            "\u001b[32;1m\u001b[1;3mThought: I need to find information about the book \"내일은 실험왕\" to determine its appropriate category. \n",
            "Action: tavily_search\n",
            "Action Input: \"내일은 실험왕 책\"\u001b[0m\u001b[36;1m\u001b[1;3m{'query': '내일은 실험왕 책', 'follow_up_questions': None, 'answer': None, 'images': [], 'results': [{'url': 'https://www.yes24.com/product/category/series/001001016?SeriesNumber=101143', 'title': '내일은 실험왕 - 예스24', 'content': '본격 대결 과학실험 만화 『내일은 실험왕』은 초등학생들의 신나는 실험 이야기를 통해 아이들에게 어려운 과학 원리와 용어를 쉽고 재미있게 전달하는 실험 대결 만화', 'score': 0.78631157, 'raw_content': None}, {'url': 'https://namu.wiki/w/%EB%82%B4%EC%9D%BC%EC%9D%80%20%EC%8B%A4%ED%97%98%EC%99%95', 'title': '내일은 실험왕 - 나무위키', 'content': '내일은 실험왕 ; 장르. 학습만화, 실험, 대결, 성장 ; 작가. 스토리: 곰돌이Co.[1] / 스토리a. · [2] 작화: 홍종현[3] ; 출판사. 미래엔 아이세움 ; 연재 기간.', 'score': 0.740494, 'raw_content': None}, {'url': 'https://ibookpark.com/product/%EB%82%B4%EC%9D%BC%EC%9D%80-%EC%8B%A4%ED%97%98%EC%99%95-%EC%84%B8%ED%8A%B8-%EC%A0%84-50%EA%B6%8C%EC%8B%A4%ED%97%98%ED%82%A4%ED%8A%B8-%EC%8B%9C%EC%A6%8C1%EC%99%84%EA%B0%84/', 'title': '내일은 실험왕 세트 (전 50권+실험키트)-시즌1완간 - IBOOKPARK INC.', 'content': '영역: 과학학습만화 · 연령: 초등학교 5~6학년 · 구성: 전 50권 (각권별 실험키트포함) · 배송: 미국내 무료배송 · 출판사: 미래엔아이세움.', 'score': 0.6947383, 'raw_content': None}], 'response_time': 0.96}\u001b[0m"
          ]
        },
        {
          "output_type": "stream",
          "name": "stderr",
          "text": [
            "\r카테고리 분류 진행 중:  18%|█▊        | 18/100 [01:27<06:22,  4.66s/it]"
          ]
        },
        {
          "output_type": "stream",
          "name": "stdout",
          "text": [
            "\u001b[32;1m\u001b[1;3mBased on the information retrieved, \"내일은 실험왕\" is a learning comic that focuses on science experiments aimed at elementary school students. It presents scientific principles and terms in an engaging and accessible manner through a competitive format. This aligns the book with educational content, particularly in the field of science.\n",
            "\n",
            "Final Answer: 과학\u001b[0m\n",
            "\n",
            "\u001b[1m> Finished chain.\u001b[0m\n",
            "\n",
            "\n",
            "\u001b[1m> Entering new AgentExecutor chain...\u001b[0m\n",
            "\u001b[32;1m\u001b[1;3mThought: I need to find information about the book \"묵향\" to determine its appropriate category.\n",
            "Action: tavily_search\n",
            "Action Input: 묵향 책\u001b[0m\u001b[36;1m\u001b[1;3m{'query': '묵향 책', 'follow_up_questions': None, 'answer': None, 'images': [], 'results': [{'url': 'https://namu.wiki/w/%EB%AC%B5%ED%96%A5', 'title': '묵향 - 나무위키', 'content': '네이버 책에 올라온 묵향 1권과 31권과 32권의 평가 비교샷. 평점도 바닥을 기고 독자들도 이미 등을 돌렸다. 31권에서 브로마네스의 검의 소재에 대한', 'score': 0.6030211, 'raw_content': None}, {'url': 'https://series.naver.com/novel/detail.series?productNo=1273622', 'title': '묵향 [단행본] - 시리즈', 'content': '총38화 연재중 · 2화 무료, #NOVEL, #무협, #먼치킨, #마교, #성장판무, #차원이동물, 줄거리: 1. 이 책은 무공의 끝을 보고자 했던 인간을 주변은 그냥 두지 않았고,', 'score': 0.53954184, 'raw_content': None}, {'url': 'https://www.yes24.com/24/Category/Series/001001046011003?SeriesNumber=104673', 'title': '묵향 시리즈 - 예스24', 'content': '전국 주요 14개 대학의 대출 도서 순위 1위 무공의 끝을 보고자 했던 인간을 주변은 그냥 두지 않았고, 필연적으로 얽히고설킨 은원의 굴레에서 사상 최악의 악마로 회자', 'score': 0.4866005, 'raw_content': None}], 'response_time': 0.99}\u001b[0m"
          ]
        },
        {
          "output_type": "stream",
          "name": "stderr",
          "text": [
            "\r카테고리 분류 진행 중:  19%|█▉        | 19/100 [01:31<06:15,  4.64s/it]"
          ]
        },
        {
          "output_type": "stream",
          "name": "stdout",
          "text": [
            "\u001b[32;1m\u001b[1;3mBased on the search results, \"묵향\" appears to be a novel that falls under the genre of martial arts fiction (무협). This genre typically involves themes of combat, personal growth, and often includes fantastical elements. Given that it is a work of fiction, it aligns best with the category of literature.\n",
            "\n",
            "Final Answer: 문학\u001b[0m\n",
            "\n",
            "\u001b[1m> Finished chain.\u001b[0m\n",
            "\n",
            "\n",
            "\u001b[1m> Entering new AgentExecutor chain...\u001b[0m\n",
            "\u001b[32;1m\u001b[1;3mThought: I need to determine the appropriate category for the book titled \"영재로 키우는 원리수학.\" The title suggests it is related to mathematics, particularly in the context of nurturing gifted children. \n",
            "Action: tavily_search\n",
            "Action Input: \"영재로 키우는 원리수학 책\"\u001b[0m\u001b[36;1m\u001b[1;3m{'query': '영재로 키우는 원리수학 책', 'follow_up_questions': None, 'answer': None, 'images': [], 'results': [{'url': 'https://m.yes24.com/Goods/Detail/6700243', 'title': '[중고샵] [훈민] 영재로키우는 원리수학(52권)', 'content': '기초잡는 수학동화 시리즈 (전10권)초등1,2학년을 위해 자연스럽게 수학의 기초와 원리를 잡아주는 수학 이동. 이 책을 구입하신 분들이 산 분야 책. 중고품절. 첫구매', 'score': 0.8306082, 'raw_content': None}, {'url': 'https://m.yes24.com/goods/detail/2127349', 'title': '영재로 키우는 원리수학[책70권]', 'content': '상품정보1. 출판사 : 훈민출판사2. 구성 : 책70권3. 연령 : 4-7세4. 종류 : 수학동화5. 사이즈 : cm, page ◈ 상품설명.', 'score': 0.82761955, 'raw_content': None}, {'url': 'https://product.kyobobook.co.kr/detail/S000060329842', 'title': '[업체배송] [최신판]훈민출판사/영재로 키우는 원리수학 전52권 ...', 'content': '[업체배송] [최신판]훈민출판사/영재로 키우는 원리수학 전52권/수학동화/유치부터 초등저학년 ; 상품 소개. 이 상품이 속한 분야. 국내도서 > 유아(0~7세) > 유아학습 >', 'score': 0.78194773, 'raw_content': None}], 'response_time': 1.39}\u001b[0m"
          ]
        },
        {
          "output_type": "stream",
          "name": "stderr",
          "text": [
            "카테고리 분류 진행 중:  20%|██        | 20/100 [01:37<06:36,  4.96s/it]"
          ]
        },
        {
          "output_type": "stream",
          "name": "stdout",
          "text": [
            "\u001b[32;1m\u001b[1;3mBased on the search results, the book \"영재로 키우는 원리수학\" is part of a series focused on teaching mathematics to young children, particularly those aged 4-7. The content emphasizes foundational math principles through stories, indicating a strong educational focus on mathematics.\n",
            "\n",
            "Final Answer: 수학\u001b[0m\n",
            "\n",
            "\u001b[1m> Finished chain.\u001b[0m\n",
            "--- 중간 결과 저장 완료 (20/100) ---\n",
            "\n",
            "\n",
            "\u001b[1m> Entering new AgentExecutor chain...\u001b[0m\n",
            "\u001b[32;1m\u001b[1;3mThought: I need to determine the category of the book titled \"엄마는 단짝친구.\" This title suggests a focus on relationships, possibly within a family or friendship context, which may relate to literature or education. \n",
            "Action: tavily_search\n",
            "Action Input: \"엄마는 단짝친구 책\"\u001b[0m\u001b[36;1m\u001b[1;3m{'query': '엄마는 단짝친구 책', 'follow_up_questions': None, 'answer': None, 'images': [], 'results': [{'url': 'https://product.kyobobook.co.kr/detail/S000000488509', 'title': '엄마는 단짝친구 1 | 이빈 - 교보문고', 'content': '이빈의 만화 『엄마는 단짝친구』 제1권. 엄마, 아빠의 어린 시절을 만나게 해주는 가족 만화다. 자두네 가족의 소소한 일상을 엿보면서 가족의 소중함도 되새길 수', 'score': 0.8036831, 'raw_content': None}, {'url': 'https://m.yes24.com/Goods/Detail/57242709', 'title': '엄마는 단짝친구 16~20권 묶음세트(전5권) - 예스24', 'content': '엄마, 아빠의 어린 시절을 만나게 해 주는 마음이 따뜻해지는 가족 만화. 잠시 잊고 살았던 시절의 즐거움과 슬픔. 그리고 진한 감동의 이야기를 진솔하게 담아', 'score': 0.74363416, 'raw_content': None}, {'url': 'https://www.aladin.co.kr/shop/wproduct.aspx?ItemId=107837094&srsltid=AfmBOoqx7BFpXw4x03lMIj1RG0SWR1qxVdf6yIeZMdIoqbsWfe5OViyT', 'title': '엄마는 단짝친구 1 - 알라딘', 'content': '엄마, 아빠의 어린 시절을 만나게 해 주는 마음이 따뜻해지는 가족 만화. 잠시 잊고 살았던 시절의 즐거움과 슬픔, 그리고 진한 감동의 이야기를 진솔하게 담아냈다.', 'score': 0.6932451, 'raw_content': None}], 'response_time': 0.99}\u001b[0m"
          ]
        },
        {
          "output_type": "stream",
          "name": "stderr",
          "text": [
            "\r카테고리 분류 진행 중:  21%|██        | 21/100 [01:42<06:26,  4.90s/it]"
          ]
        },
        {
          "output_type": "stream",
          "name": "stdout",
          "text": [
            "\u001b[32;1m\u001b[1;3mBased on the observation, \"엄마는 단짝친구\" is a family comic that reflects on the childhood of parents and emphasizes the importance of family relationships. This aligns closely with themes found in literature, particularly in the context of storytelling and character development.\n",
            "\n",
            "Final Answer: 문학\u001b[0m\n",
            "\n",
            "\u001b[1m> Finished chain.\u001b[0m\n",
            "\n",
            "\n",
            "\u001b[1m> Entering new AgentExecutor chain...\u001b[0m\n",
            "\u001b[32;1m\u001b[1;3mThought: I need to find information about the book \"아리랑\" to determine its category. \n",
            "Action: tavily_search\n",
            "Action Input: \"아리랑 책\"\u001b[0m\u001b[36;1m\u001b[1;3m{'query': '아리랑 책', 'follow_up_questions': None, 'answer': None, 'images': [], 'results': [{'url': 'https://ko.wikipedia.org/wiki/%EC%95%84%EB%A6%AC%EB%9E%91_(%EC%B1%85)', 'title': '아리랑 (책) - 위키백과, 우리 모두의 백과사전', 'content': '아리랑(The Song of Ariran)은 미국의 여성 저널리스트 님 웨일즈가 1930년대 후반 중국공산당 본부가 있던 옌안에서 인터뷰한 조선인 독립운동가 김산(본명: 장지락)', 'score': 0.7938904, 'raw_content': None}, {'url': 'https://m.yes24.com/goods/detail/1774751', 'title': '아리랑 - 예스24', 'content': '책소개 일제강점기 식민지 조선청년의 고뇌와 투쟁을 통해 조선인 혁명가로 거듭난 김산(본명 장지락)의 삶을 벽안의 젊은 여성 님 웨일즈가 기록한 책 『아리랑』. · 목차', 'score': 0.76194656, 'raw_content': None}, {'url': 'https://namu.wiki/w/%EC%95%84%EB%A6%AC%EB%9E%91(%EA%B9%80%EC%82%B0)', 'title': '아리랑(김산) - 나무위키', 'content': '1. 개요[편집] ... 항일운동가인 김산의 생애를 회고한 자서전. 그가 직접 쓴 것은 아니고, 1937년 중국공산당이 있던 연안을 방문한 님 웨일스가 우연히 그를 만나 그와', 'score': 0.4746074, 'raw_content': None}], 'response_time': 1.09}\u001b[0m"
          ]
        },
        {
          "output_type": "stream",
          "name": "stderr",
          "text": [
            "\r카테고리 분류 진행 중:  22%|██▏       | 22/100 [01:46<06:11,  4.77s/it]"
          ]
        },
        {
          "output_type": "stream",
          "name": "stdout",
          "text": [
            "\u001b[32;1m\u001b[1;3mBased on the information retrieved, \"아리랑\" is a book that recounts the life of Kim San, a Korean independence activist during the Japanese colonial period, as documented by the journalist Nim Wales. This book focuses on historical events and figures related to Korea's struggle for independence.\n",
            "\n",
            "Final Answer: 역사\u001b[0m\n",
            "\n",
            "\u001b[1m> Finished chain.\u001b[0m\n",
            "\n",
            "\n",
            "\u001b[1m> Entering new AgentExecutor chain...\u001b[0m\n",
            "\u001b[32;1m\u001b[1;3mThought: I need to find information about the book \"퇴마록\" to determine its category. \n",
            "Action: tavily_search\n",
            "Action Input: 퇴마록 책\u001b[0m\u001b[36;1m\u001b[1;3m{'query': '퇴마록 책', 'follow_up_questions': None, 'answer': None, 'images': [], 'results': [{'url': 'https://namu.wiki/w/%ED%87%B4%EB%A7%88%EB%A1%9D', 'title': '퇴마록 - 나무위키', 'content': '장르. 오컬트, 어반 판타지, 다크 판타지 ; 작가. 이우혁 ; 출판사. 도서출판 들녘 (1994년 ~ ) 문학동네 (2011년 ~ ) 오팬하우스 (2025년 ~) ; 레이블. 들녘', 'score': 0.98586, 'raw_content': None}, {'url': 'https://search.kyobobook.co.kr/search?keyword=%ED%87%B4%EB%A7%88%EB%A1%9D', 'title': '퇴마록 검색결과 - 교보문고', 'content': '퇴마록 세계편3. MD의 선택 이벤트. [국내도서] 퇴마록 세계편3. 이우혁 저자(글) | 반타. 19,800 원 10% (1,100p). 10.0 / 재밌어요. 새벽배송 내일(8/7, 목 오전', 'score': 0.98431, 'raw_content': None}, {'url': 'https://www.yes24.com/product/goods/142972988', 'title': '퇴마록 소장판 전권 세트 - 예스24', 'content': \"퇴마록 소장판 전권 세트. 한국에서 가장 많이 팔린 장르소설 '퇴마록' 시리즈10여 년 만에 '신작' 최초 공개!《퇴마록》 개정 소장판, 17권 완전체로\", 'score': 0.97764, 'raw_content': None}], 'response_time': 0.87}\u001b[0m"
          ]
        },
        {
          "output_type": "stream",
          "name": "stderr",
          "text": [
            "\r카테고리 분류 진행 중:  23%|██▎       | 23/100 [01:51<06:10,  4.81s/it]"
          ]
        },
        {
          "output_type": "stream",
          "name": "stdout",
          "text": [
            "\u001b[32;1m\u001b[1;3mBased on the search results, \"퇴마록\" is categorized as a genre novel that falls under the categories of occult, urban fantasy, and dark fantasy. This indicates that it is primarily a work of fiction, which aligns it with the literary category.\n",
            "\n",
            "Final Answer: 문학\u001b[0m\n",
            "\n",
            "\u001b[1m> Finished chain.\u001b[0m\n",
            "\n",
            "\n",
            "\u001b[1m> Entering new AgentExecutor chain...\u001b[0m\n",
            "\u001b[32;1m\u001b[1;3mThought: I need to find information about the book titled \"Why?\" to determine its category. \n",
            "Action: tavily_search\n",
            "Action Input: \"Why? 책\"\u001b[0m\u001b[36;1m\u001b[1;3m{'query': 'Why? 책', 'follow_up_questions': None, 'answer': None, 'images': [], 'results': [{'url': 'https://namu.wiki/w/Why%3F', 'title': 'Why? - 나무위키', 'content': '모든 과학의 출발은 호기심과 궁금증에서 비롯됩니다. <Why? 과학>은 교과서와 연계된 학습 내용을 중심으로, 기초과학에서 자연과학, 응용과학에', 'score': 0.66308063, 'raw_content': None}, {'url': 'https://namu.wiki/w/Why%3F/%EC%8B%9C%EB%A6%AC%EC%A6%88', 'title': 'Why?/시리즈 - 나무위키', 'content': '이 책의 주인공 엄지, 꼼지와 함께 신비로운 우주의 세계로 여행을 떠나 보세요. 그러면 우주의 웅대하고도 엄숙한 질서에 대해 깊이 알게 될 것', 'score': 0.65966886, 'raw_content': None}, {'url': 'https://m.gmarket.co.kr/n/search?keyword=why+%EC%B1%85', 'title': 'why 책 검색결과 - G마켓', 'content': '상품명 WHY 와이 과학 시리즈 학습만화 전집 증보판 풀세트 (전100권) 예림당 최신개정판 + 워크북 100권 (총200권). 1,057,500원. 무료배송.', 'score': 0.6158511, 'raw_content': None}], 'response_time': 0.81}\u001b[0m"
          ]
        },
        {
          "output_type": "stream",
          "name": "stderr",
          "text": [
            "\r카테고리 분류 진행 중:  24%|██▍       | 24/100 [01:55<05:40,  4.48s/it]"
          ]
        },
        {
          "output_type": "stream",
          "name": "stdout",
          "text": [
            "\u001b[32;1m\u001b[1;3mBased on the search results, the book \"Why?\" appears to be related to science and education, particularly focusing on curiosity and learning about the universe and scientific concepts. \n",
            "\n",
            "Final Answer: 과학\u001b[0m\n",
            "\n",
            "\u001b[1m> Finished chain.\u001b[0m\n",
            "\n",
            "\n",
            "\u001b[1m> Entering new AgentExecutor chain...\u001b[0m\n",
            "\u001b[32;1m\u001b[1;3mThought: I need to determine the appropriate category for a book titled \"명품 플래티늄 테마 위인동화 책,\" which seems to involve themes related to notable figures or biographies, possibly with a focus on luxury or high-quality themes. \n",
            "Action: tavily_search\n",
            "Action Input: \"명품 플래티늄 테마 위인동화 책\"\u001b[0m\u001b[36;1m\u001b[1;3m{'query': '명품 플래티늄 테마 위인동화 책', 'follow_up_questions': None, 'answer': None, 'images': [], 'results': [{'url': 'https://www.yes24.com/Product/Goods/29085269', 'title': '명품 플래티늄 테마 위인동화(구연동화 CD, DVD, 가이드북 포함)', 'content': '명품 플래티늄 테마 위인동화(구연동화 CD, DVD, 가이드북 포함). 완전히 새 책과 같습니다!표지 및 내지에 오염도 없고 깨끗해요.구매했던 구성품(CD, DVD,', 'score': 0.8058924, 'raw_content': None}, {'url': 'https://web.joongna.com/product/209443555?srsltid=AfmBOooI7AkJalb5F8LccdR8uytGDzAYfQKsedy026ykUUMvFTosXS9q', 'title': '명품 플래티늄 테마 위인동화 전 70권(교연아카데미) | 중고나라 카페 ...', 'content': '깔끔합니다. 어린이가 읽기 좋은 위인전입니다. 아이 때 한번쯤 누구나 위인전을 읽지요. 직거래(구립상림도서관) 선호합니다. 택배는 착불원합니다.', 'score': 0.72207695, 'raw_content': None}, {'url': 'http://mobile.kyobobook.co.kr/showcase/book/KOR/7051874000288', 'title': '명품 테마 위인동화 (페이퍼북76권) | - 교보문고', 'content': '[업체배송] 명품 테마 위인동화 (페이퍼북76권) ... 품절되었습니다. 알립니다. 본 상품은 판매자가 직접', 'score': 0.6010557, 'raw_content': None}], 'response_time': 1.12}\u001b[0m"
          ]
        },
        {
          "output_type": "stream",
          "name": "stderr",
          "text": [
            "\r카테고리 분류 진행 중:  25%|██▌       | 25/100 [02:00<05:58,  4.78s/it]"
          ]
        },
        {
          "output_type": "stream",
          "name": "stdout",
          "text": [
            "\u001b[32;1m\u001b[1;3mBased on the observation, the book \"명품 플래티늄 테마 위인동화 책\" appears to be a collection of stories or biographies about notable figures, likely aimed at children. This aligns with themes of education and literature, particularly in the context of teaching children about important historical figures. \n",
            "\n",
            "Final Answer: 교육\u001b[0m\n",
            "\n",
            "\u001b[1m> Finished chain.\u001b[0m\n",
            "\n",
            "\n",
            "\u001b[1m> Entering new AgentExecutor chain...\u001b[0m\n",
            "\u001b[32;1m\u001b[1;3mThought: I need to determine the category of the book titled \"놓지 마 과학!\" to accurately classify it. \n",
            "Action: tavily_search\n",
            "Action Input: \"놓지 마 과학! 책\"\u001b[0m\u001b[36;1m\u001b[1;3m{'query': '놓지 마 과학! 책', 'follow_up_questions': None, 'answer': None, 'images': [], 'results': [{'url': 'https://www.aladin.co.kr/shop/wproduct.aspx?ItemId=258590291&srsltid=AfmBOorX3ej5gIrsWXgsE3Nf1IlKGv4tbscPIB1UcBv0TYDSjc4LGU2y', 'title': '놓지 마 과학! 1 - 알라딘', 'content': '<놓지 마 과학!>은 과학의 기본인 호기심과 관찰을 바탕으로 세상을 바라보게 만드는 책이다. 아이들에게 인기 있는 정신이네 가족들이 일상 속의 궁금증을 엉뚱하고 기발', 'score': 0.8851659, 'raw_content': None}, {'url': 'https://ibookpark.com/product/%EB%86%93%EC%A7%80-%EB%A7%88-%EA%B3%BC%ED%95%99-1-19%EA%B6%8C-%EC%84%B8%ED%8A%B8-%EC%A0%84-19%EA%B6%8C/', 'title': '놓지 마 과학! 1-19권 세트 (전 19권) - IBOOKPARK INC.', 'content': \"이번 〈놓지 마 과학!〉 개정판은 새로운 과학 교과서의 체계에 맞추어 교과 단원을 정리한 '교과 연계표', 심화 학습인 과학자의 인물 탐구와 상식을 담은\", 'score': 0.7837407, 'raw_content': None}, {'url': 'https://namu.wiki/w/%EB%86%93%EC%A7%80%20%EB%A7%88%20%EA%B3%BC%ED%95%99!', 'title': '놓지 마 과학! - 나무위키', 'content': '전작과 달리 웹툰이 아니라 학습만화 시리즈로 현재 19권까지 나왔다. 시즌 2에서 그림만 갖다 말풍선만 건전하게 바꾸는 경우가 많다.', 'score': 0.60805947, 'raw_content': None}], 'response_time': 2.17}\u001b[0m"
          ]
        },
        {
          "output_type": "stream",
          "name": "stderr",
          "text": [
            "\r카테고리 분류 진행 중:  26%|██▌       | 26/100 [02:06<06:17,  5.10s/it]"
          ]
        },
        {
          "output_type": "stream",
          "name": "stdout",
          "text": [
            "\u001b[32;1m\u001b[1;3mBased on the observation, \"놓지 마 과학!\" is a book that focuses on science, particularly aimed at children, encouraging curiosity and observation about the world. This aligns it with the category of science.\n",
            "\n",
            "Final Answer: 과학\u001b[0m\n",
            "\n",
            "\u001b[1m> Finished chain.\u001b[0m\n",
            "\n",
            "\n",
            "\u001b[1m> Entering new AgentExecutor chain...\u001b[0m\n",
            "\u001b[32;1m\u001b[1;3mThought: I need to categorize the book titled \"내일은 실험왕:본격 대결 과학실험 만화 책,\" which appears to be a comic book focused on science experiments. \n",
            "Action: tavily_search\n",
            "Action Input: \"내일은 실험왕:본격 대결 과학실험 만화 책\"\u001b[0m\u001b[36;1m\u001b[1;3m{'query': '내일은 실험왕:본격 대결 과학실험 만화 책', 'follow_up_questions': None, 'answer': None, 'images': [], 'results': [{'url': 'https://www.yes24.com/product/category/series/001001016?SeriesNumber=101143', 'title': '내일은 실험왕', 'content': '본격 대결 과학실험 만화 은 초등학생들의 신나는 실험 이야기를 통해 아이들에게 어려운 과학 원리와 용어를 쉽게 전달하는 최초의 실험 대결 만화입니다.', 'score': 0.86441374, 'raw_content': None}, {'url': 'https://gimssine.com/products/9788937842221?srsltid=AfmBOooj96fcVv91G9t1pjSU8KURURRJcy8p32vRuUi8hY4NA4oSz3t1', 'title': '내일은 실험왕 5: 전기의 대결 (본격 대결 과학실험 만화)', 'content': '본 시리즈는 초등학생들의 신나는 실험 이야기를 통해 아이들에게 어려운 과학 원리와 용어를 쉽게 전달하는 최초의 실험 대결 만화입니다. 5권에서는 전기, 전자와 전류,', 'score': 0.82048416, 'raw_content': None}, {'url': 'https://m.gmarket.co.kr/n/search?keyword=%EB%82%B4%EC%9D%BC%EC%9D%80%EC%8B%A4%ED%97%98%EC%99%95%EC%84%B8%ED%8A%B8', 'title': '내일은실험왕세트 검색결과', 'content': '상품명 아이세움 내일은 실험왕 발명왕 로봇왕 시리즈 1-50 권 시즌2 과학용어 초등어린이 과학 실험 학습 만화 책. 11,520원. 배송비 2,500원. 평점5.0구매 27건.', 'score': 0.6854659, 'raw_content': None}], 'response_time': 1.4}\u001b[0m"
          ]
        },
        {
          "output_type": "stream",
          "name": "stderr",
          "text": [
            "\r카테고리 분류 진행 중:  27%|██▋       | 27/100 [02:12<06:28,  5.32s/it]"
          ]
        },
        {
          "output_type": "stream",
          "name": "stdout",
          "text": [
            "\u001b[32;1m\u001b[1;3mBased on the Observation, I now know that the book \"내일은 실험왕:본격 대결 과학실험 만화 책\" is a comic that aims to teach children about science principles and terms through exciting experiments. This aligns it closely with the category of science.\n",
            "\n",
            "Final Answer: 과학\u001b[0m\n",
            "\n",
            "\u001b[1m> Finished chain.\u001b[0m\n",
            "\n",
            "\n",
            "\u001b[1m> Entering new AgentExecutor chain...\u001b[0m\n",
            "\u001b[32;1m\u001b[1;3mThought: I need to find information about the book \"이야기 꽃할망\" to determine its appropriate category.\n",
            "Action: tavily_search\n",
            "Action Input: 이야기 꽃할망 책\u001b[0m\u001b[36;1m\u001b[1;3m{'query': '이야기 꽃할망 책', 'follow_up_questions': None, 'answer': None, 'images': [], 'results': [{'url': 'https://ibookpark.com/product/%EC%9D%B4%EC%95%BC%EA%B8%B0-%EA%BD%83%ED%95%A0%EB%A7%9D/', 'title': '이야기 꽃할망', 'content': '영역: 전래동화; 대상: 4세~7세; 구성: 총 74종- 본책 67권 (세이펜 적용), 별책 5권, 오디오 CD 10장(전권 수록 + 전래동요), 이야기카드 세트(카드', 'score': 0.7300017, 'raw_content': None}, {'url': 'https://blog.naver.com/qormsrnr/222067024677', 'title': '이야기 꽃할망 / 그레이트북스 / 전래동화', 'content': '가장 많이 추천되어지는 책이 이야기 꽃할망 인 것 같아요. 기본적인 재원.. 이야기 꽃할망의 특징이나. 구성은 처음 나왔을 당시에 이미 충분히', 'score': 0.72559077, 'raw_content': None}, {'url': 'https://blog.naver.com/ahava96/222618071105', 'title': '이야기꽃할망, 어린이 한국전래동화 전집 추천', 'content': '할머니 목소리가 이야기를. 재미있게 들려주시고. 효과음도 신경써서 넣었기때문에. 실감나요. \\u200b. 이번주는 아이에게. 이야기꽃할망을 잠자리책으로. 읽어', 'score': 0.643173, 'raw_content': None}], 'response_time': 1.73}\u001b[0m"
          ]
        },
        {
          "output_type": "stream",
          "name": "stderr",
          "text": [
            "\r카테고리 분류 진행 중:  28%|██▊       | 28/100 [02:17<06:21,  5.30s/it]"
          ]
        },
        {
          "output_type": "stream",
          "name": "stdout",
          "text": [
            "\u001b[32;1m\u001b[1;3mBased on the observation, \"이야기 꽃할망\" is identified as a collection of traditional Korean folktales aimed at children aged 4 to 7. This indicates that the book falls under the category of literature, specifically children's literature and folktales.\n",
            "\n",
            "Final Answer: 문학\u001b[0m\n",
            "\n",
            "\u001b[1m> Finished chain.\u001b[0m\n",
            "\n",
            "\n",
            "\u001b[1m> Entering new AgentExecutor chain...\u001b[0m\n",
            "\u001b[32;1m\u001b[1;3mThought: I need to determine the appropriate category for the book titled \"(참 좋은 성격을 길러주는)테마 세계 명작 책.\" This title suggests a focus on character development and possibly moral lessons, which may relate to literature or education. \n",
            "Action: I will search for more information about this book to understand its content better.\n",
            "Action Input: \"(참 좋은 성격을 길러주는)테마 세계 명작 책\"\u001b[0mI will search for more information about this book to understand its content better. is not a valid tool, try one of [tavily_search]."
          ]
        },
        {
          "output_type": "stream",
          "name": "stderr",
          "text": [
            "카테고리 분류 진행 중:  29%|██▉       | 29/100 [02:22<06:10,  5.22s/it]"
          ]
        },
        {
          "output_type": "stream",
          "name": "stdout",
          "text": [
            "\u001b[32;1m\u001b[1;3mThought: I need to determine the appropriate category for the book titled \"(참 좋은 성격을 길러주는)테마 세계 명작 책.\" This title suggests a focus on character development and possibly moral lessons, which may relate to literature or education. \n",
            "Action: I will search for more information about this book to understand its content better.\n",
            "Action Input: \"(참 좋은 성격을 길러주는)테마 세계 명작 책\"\u001b[0mI will search for more information about this book to understand its content better. is not a valid tool, try one of [tavily_search].\u001b[32;1m\u001b[1;3m\u001b[0m\n",
            "\n",
            "\u001b[1m> Finished chain.\u001b[0m\n",
            "⚠️ '(참 좋은 성격을 길러주는)테마 세계 명작'에 대한 AI 답변이 유효하지 않습니다: 'Agent stopped due to iteration limit or time limit.'. '분류 실패'로 처리합니다.\n",
            "\n",
            "\n",
            "\u001b[1m> Entering new AgentExecutor chain...\u001b[0m\n",
            "\u001b[32;1m\u001b[1;3mThought: I need to determine the category of the book \"우리나라 옛이야기 옛날옛적에\" which translates to \"Korean Folktales Once Upon a Time.\" This suggests it may involve stories from Korean culture, possibly related to literature or history. \n",
            "Action: tavily_search\n",
            "Action Input: \"우리나라 옛이야기 옛날옛적에 책\"\u001b[0m\u001b[36;1m\u001b[1;3m{'query': '우리나라 옛이야기 옛날옛적에 책', 'follow_up_questions': None, 'answer': None, 'images': [], 'results': [{'url': 'https://m.yes24.com/Goods/Detail/89581406', 'title': '옛날 옛적에', 'content': '아티스트가 다시 그린 우리 옛이야기 스무 가지『옛날 옛적에』는 한국화가로 스무 해가 넘게 활약한 박영희 작가가 우리 전통 문화에 대한 깊이 있는 지식과 경험을', 'score': 0.98561, 'raw_content': None}, {'url': 'https://product.kyobobook.co.kr/detail/S000212605416', 'title': '(국민서관) 전래동화 옛날옛적에 전 19권 세트 / 우리나라옛 ...', 'content': '[업체배송] (국민서관) 전래동화 옛날옛적에 전 19권 세트 / 우리나라옛이야기 / 구연동화 / 구전동화 ; 발행(출시)일자, 2021년 09월 10일 ; 쪽수, 40쪽 ; 크기, 245 * 235', 'score': 0.98347, 'raw_content': None}, {'url': 'https://www.aladin.co.kr/shop/wproduct.aspx?ItemId=235832168&srsltid=AfmBOor4fD3JmeJKCJRpFP1ICGHht3k9C8R7EMe0k3nikpID-iMcQx0K', 'title': '옛날 옛적에', 'content': '“옛날 옛적 호랑이 담배 피던 시절에....” 한국화가의 손길로 태어난 국내 최초 전래동화 컬러링북! ◈ 아티스트가 다시 그린 우리 옛이야기 스무 가지 『옛날 옛적에』는', 'score': 0.97731, 'raw_content': None}], 'response_time': 1.25}\u001b[0m"
          ]
        },
        {
          "output_type": "stream",
          "name": "stderr",
          "text": [
            "카테고리 분류 진행 중:  30%|███       | 30/100 [02:28<06:12,  5.32s/it]"
          ]
        },
        {
          "output_type": "stream",
          "name": "stdout",
          "text": [
            "\u001b[32;1m\u001b[1;3mBased on the search results, the book \"우리나라 옛이야기 옛날옛적에\" is related to traditional Korean folktales and stories, which are a significant part of Korean literature and culture. This indicates that the book falls under the category of literature.\n",
            "\n",
            "Final Answer: 문학\u001b[0m\n",
            "\n",
            "\u001b[1m> Finished chain.\u001b[0m\n",
            "--- 중간 결과 저장 완료 (30/100) ---\n",
            "\n",
            "\n",
            "\u001b[1m> Entering new AgentExecutor chain...\u001b[0m\n",
            "\u001b[32;1m\u001b[1;3mThought: I need to determine the appropriate category for a book titled \"처음 만나는 그림동화 책,\" which translates to \"The First Picture Book.\" This suggests it is likely a children's book, possibly focusing on illustrations and storytelling. \n",
            "Action: I will search for more information about this book to confirm its content and category.\n",
            "Action Input: 처음 만나는 그림동화 책\u001b[0mI will search for more information about this book to confirm its content and category. is not a valid tool, try one of [tavily_search].\u001b[32;1m\u001b[1;3mAction: tavily_search  \n",
            "Action Input: 처음 만나는 그림동화 책  \u001b[0m"
          ]
        },
        {
          "output_type": "stream",
          "name": "stderr",
          "text": [
            "카테고리 분류 진행 중:  31%|███       | 31/100 [02:32<05:56,  5.16s/it]"
          ]
        },
        {
          "output_type": "stream",
          "name": "stdout",
          "text": [
            "\u001b[36;1m\u001b[1;3m{'query': '처음 만나는 그림동화 책', 'follow_up_questions': None, 'answer': None, 'images': [], 'results': [{'url': 'https://www.aladin.co.kr/shop/wproduct.aspx?ItemId=54487217&srsltid=AfmBOorLmjUQpY6GVNx4HkcmC_t0G5p3l9OvnQv6RJa3YrvsAyxXs5rr', 'title': '처음 만나는 그림동화 세트 - 전20권', 'content': '목차 · 1. 잭과 콩나무 · 2. 늑대와 일곱 마리의 아기양 · 3. 플랜더스의 개 · 4. 장화 신은 고양이 · 5. 미운 아기 오리 · 6. 성냥팔이 소녀 · 7. 엄지 공주 · 8. 신데렐라', 'score': 0.75852895, 'raw_content': None}, {'url': 'https://www.aladin.co.kr/m/mseriesitem.aspx?SRID=11910&srsltid=AfmBOopnIikKDHeGjYGA4sHv5uQNSWou3GYOrgDEJZLIKyCQuAqKb8WC', 'title': '처음만나는 그림동화(삼성출판사) - 명작동화', 'content': '처음 만나는 그림동화 세트 - 전20권 - 처음만나는 그림동화(삼성출판사) - 명작동화 · 삼성출판사 편집부 (엮은이); 삼성출판사(전집) | 2015년 03월 | 2015년 03월', 'score': 0.741169, 'raw_content': None}, {'url': 'https://www.yes24.com/24/Category/Series/001001027001014?SeriesNumber=6710', 'title': '처음 만나는 그림동화 : 명작동화', 'content': '어린 시절 처음 접하는 명작 한 편은 오래도록 깊은 감동과 교훈을 줍니다. 명작동화 8편 『신데렐라』 권위있는 아동 문학상을 수상한 작가들이 어렵게 선정한 이야기로', 'score': 0.66308063, 'raw_content': None}], 'response_time': 0.96}\u001b[0m\u001b[32;1m\u001b[1;3m\u001b[0m\n",
            "\n",
            "\u001b[1m> Finished chain.\u001b[0m\n",
            "⚠️ '처음 만나는 그림동화'에 대한 AI 답변이 유효하지 않습니다: 'Agent stopped due to iteration limit or time limit.'. '분류 실패'로 처리합니다.\n",
            "\n",
            "\n",
            "\u001b[1m> Entering new AgentExecutor chain...\u001b[0m\n",
            "\u001b[32;1m\u001b[1;3mThought: The user is looking for a book related to science trivia or general science knowledge. I need to find a suitable category for this type of book.\n",
            "Action: tavily_search\n",
            "Action Input: \"퀴즈 과학상식 책\"\u001b[0m\u001b[36;1m\u001b[1;3m{'query': '퀴즈 과학상식 책', 'follow_up_questions': None, 'answer': None, 'images': [], 'results': [{'url': 'https://ibookpark.com/product/%ED%80%B4%EC%A6%88-%EA%B3%BC%ED%95%99%EC%83%81%EC%8B%9D-%EC%8B%9C%EB%A6%AC%EC%A6%88-80%EA%B6%8C-%EC%84%B8%ED%8A%B8/', 'title': '퀴즈! 과학상식 시리즈 80권 세트 - IBOOKPARK INC.', 'content': '퀴즈! 과학상식 시리즈 80권 세트 · 영역: 과학학습만화 · 연령: 초등 3학년 이상 · 구성: 전 80권 · 배송: 미국내 무료배송 · 출판사: 글송이.', 'score': 0.73891455, 'raw_content': None}, {'url': 'https://ibookpark.com/product/%ED%80%B4%EC%A6%88-%EA%B3%BC%ED%95%99%EC%83%81%EC%8B%9D-%EC%8B%9C%EB%A6%AC%EC%A6%88-85%EA%B6%8C-%EC%84%B8%ED%8A%B8/', 'title': '퀴즈! 과학상식 시리즈 85권 세트 - IBOOKPARK INC.', 'content': '퀴즈! 과학상식 시리즈 85권 세트 · 영역: 과학학습만화 · 연령: 초등 3학년 이상 · 구성: 전 85권 · 배송: 미국내 무료배송 · 출판사: 글송이.', 'score': 0.7343678, 'raw_content': None}, {'url': 'https://namu.wiki/w/%ED%80%B4%EC%A6%88!%20%EA%B3%BC%ED%95%99%EC%83%81%EC%8B%9D', 'title': '퀴즈! 과학상식 - 나무위키', 'content': '글송이에서 2001년부터 출판한 학습만화. 2003년까지 1년 간격으로 동물편, 인체편, 우주편 3권이 출간되었다. 이때까지는 퀴즈! 과학상식이 하나의 시리즈물이 아니', 'score': 0.6889923, 'raw_content': None}], 'response_time': 1.87}\u001b[0m"
          ]
        },
        {
          "output_type": "stream",
          "name": "stderr",
          "text": [
            "\r카테고리 분류 진행 중:  32%|███▏      | 32/100 [02:40<06:37,  5.85s/it]"
          ]
        },
        {
          "output_type": "stream",
          "name": "stdout",
          "text": [
            "\u001b[32;1m\u001b[1;3mBased on the search results, the books related to \"퀴즈! 과학상식\" are clearly categorized under science, as they focus on trivia and general knowledge in the field of science. \n",
            "\n",
            "Final Answer: 과학\u001b[0m\n",
            "\n",
            "\u001b[1m> Finished chain.\u001b[0m\n",
            "\n",
            "\n",
            "\u001b[1m> Entering new AgentExecutor chain...\u001b[0m\n",
            "\u001b[32;1m\u001b[1;3mThought: I need to determine the category of the book \"해리포터와 불사조기사단\" (Harry Potter and the Order of the Phoenix). This book is part of a fantasy series and primarily focuses on themes of friendship, courage, and the battle against evil, which are often explored in literature. \n",
            "Action: I will search for more information about the book to confirm its categorization.\n",
            "Action Input: \"해리포터와 불사조기사단 책\" \u001b[0mI will search for more information about the book to confirm its categorization. is not a valid tool, try one of [tavily_search]."
          ]
        },
        {
          "output_type": "stream",
          "name": "stderr",
          "text": [
            "카테고리 분류 진행 중:  33%|███▎      | 33/100 [02:47<06:46,  6.07s/it]"
          ]
        },
        {
          "output_type": "stream",
          "name": "stdout",
          "text": [
            "\u001b[32;1m\u001b[1;3mThought: I need to determine the category of the book \"해리포터와 불사조기사단\" (Harry Potter and the Order of the Phoenix). This book is part of a fantasy series and primarily focuses on themes of friendship, courage, and the battle against evil, which are often explored in literature. \n",
            "Action: I will search for more information about the book to confirm its categorization.\n",
            "Action Input: \"해리포터와 불사조기사단 책\" \u001b[0mI will search for more information about the book to confirm its categorization. is not a valid tool, try one of [tavily_search].\u001b[32;1m\u001b[1;3m\u001b[0m\n",
            "\n",
            "\u001b[1m> Finished chain.\u001b[0m\n",
            "⚠️ '해리포터와 불사조기사단'에 대한 AI 답변이 유효하지 않습니다: 'Agent stopped due to iteration limit or time limit.'. '분류 실패'로 처리합니다.\n",
            "\n",
            "\n",
            "\u001b[1m> Entering new AgentExecutor chain...\u001b[0m\n",
            "\u001b[32;1m\u001b[1;3mThought: I need to determine the appropriate category for the book \"신기한 스쿨버스 키즈 책\" (The Magic School Bus Kids Book). This title suggests it may be related to education or science, as the Magic School Bus series often focuses on educational themes, particularly in science. \n",
            "Action: tavily_search\n",
            "Action Input: \"신기한 스쿨버스 키즈 책\"\u001b[0m\u001b[36;1m\u001b[1;3m{'query': '신기한 스쿨버스 키즈 책', 'follow_up_questions': None, 'answer': None, 'images': [], 'results': [{'url': 'https://bir.co.kr/book_series/%EC%8B%A0%EA%B8%B0%ED%95%9C-%EC%8A%A4%EC%BF%A8%EB%B2%84%EC%8A%A4-%ED%82%A4%EC%A6%88-%EA%B0%9C%EC%A0%95%ED%8C%90/?bpg=2', 'title': '신기한 스쿨버스 키즈(개정판) | 도서 시리즈', 'content': '어린이 과학 베스트셀러 「신기한 스쿨버스 키즈」 시리즈의 최신 개정판. 신간순, 등록순 · 도서명 · 시리즈순 · 시리즈역순 · 20. 고리의 비밀을 찾아라. 시리즈', 'score': 0.98573, 'raw_content': None}, {'url': 'https://ibookpark.com/product/%EC%8B%A0%EA%B8%B0%ED%95%9C-%EC%8A%A4%EC%BF%A8%EB%B2%84%EC%8A%A4-%EC%B5%9C%EC%8B%A0-%EA%B0%9C%EC%A0%95%ED%8C%90-%EC%A0%84-47%EC%A2%85/', 'title': '신기한 스쿨버스 최신 개정판 (전 48종)', 'content': '영역: 자연/과학/수학 연령: 초등전학년 구성: 전 48종- 본책(스쿨13권+키즈30권)+워크북5종 배송: 미국내 무료배송 출판사: 비룡소. Available on backorder.', 'score': 0.98195, 'raw_content': None}, {'url': 'https://m.yes24.com/Goods/Detail/67279535', 'title': '신기한 스쿨버스 키즈 5', 'content': '이번 최신 개정판은 「신기한 스쿨버스 키즈」의 원작인 「신기한 스쿨버스」의 국내 출간 20주년을 기념하기 위해 기획되었습니다. 최신 초등 과학 교과와 과학 정보를', 'score': 0.978, 'raw_content': None}], 'response_time': 1.58}\u001b[0m"
          ]
        },
        {
          "output_type": "stream",
          "name": "stderr",
          "text": [
            "\r카테고리 분류 진행 중:  34%|███▍      | 34/100 [02:53<06:57,  6.33s/it]"
          ]
        },
        {
          "output_type": "stream",
          "name": "stdout",
          "text": [
            "\u001b[32;1m\u001b[1;3mBased on the Observation, I now know that \"신기한 스쿨버스 키즈 책\" is part of a children's science series that focuses on educational themes, particularly in science. Therefore, the appropriate category for this book is science.\n",
            "\n",
            "Final Answer: 과학\u001b[0m\n",
            "\n",
            "\u001b[1m> Finished chain.\u001b[0m\n",
            "\n",
            "\n",
            "\u001b[1m> Entering new AgentExecutor chain...\u001b[0m\n",
            "\u001b[32;1m\u001b[1;3mThought: I need to determine the category of the book \"먼나라 이웃나라\" (translated as \"The Neighboring Countries\") published in the 21st century. This book is known for its content related to different countries and cultures, which may relate to history or education. \n",
            "Action: tavily_search\n",
            "Action Input: \"먼나라 이웃나라 21세기 책\"\u001b[0m\u001b[36;1m\u001b[1;3m{'query': '먼나라 이웃나라 21세기 책', 'follow_up_questions': None, 'answer': None, 'images': [], 'results': [{'url': 'https://www.kmarket365.com/m/prod_detail.asp?prod_code=ky013', 'title': '이원복 교수의 21세기 먼나라 이웃나라 세트 (전13권)', 'content': '이원복 교수의 21세기 먼나라 이웃나라 세트 (전13권)- 김영사 결제시 5% 추가할인 / 단행본 $40이상 구매시 무료배송 ; 제품가격:$289.29 ; 지은이/구성. 이원복 ; ◎ 소개 13', 'score': 0.98534, 'raw_content': None}, {'url': 'https://www.aladin.co.kr/shop/wproduct.aspx?ItemId=448430&srsltid=AfmBOopA3Qjp5sBY0i4FWYY6dwm5nBpJRiV8hKFZRE0VPJpAHUbECtRv', 'title': '21세기 먼나라 이웃나라 세트 - 전9권', 'content': \"책소개. 1987년 첫선을 보인 이래 한국의 대표적인 교양만화로 자리잡은 '먼나라 이웃나라'. 이번에 출간된 <21세기 먼나라 이웃나라>는 국제정세의 변화에 발맞춰 작품\", 'score': 0.98422, 'raw_content': None}, {'url': 'https://www.yes24.com/product/goods/5868799', 'title': '21세기 먼나라 이웃나라 1~14권 세트', 'content': '세계 시민의 마인드를 제시하며 글로벌 시대를 열어준 국민 교양만화 『21세기 먼나라 이웃나라』. 유럽 편 6권과 일본, 우리나라, 미국 편, 그리고 중국', 'score': 0.97906, 'raw_content': None}], 'response_time': 2.3}\u001b[0m"
          ]
        },
        {
          "output_type": "stream",
          "name": "stderr",
          "text": [
            "\r카테고리 분류 진행 중:  35%|███▌      | 35/100 [03:00<06:52,  6.35s/it]"
          ]
        },
        {
          "output_type": "stream",
          "name": "stdout",
          "text": [
            "\u001b[32;1m\u001b[1;3mBased on the Observation, I now know that \"먼나라 이웃나라\" is a series of educational comics that aim to provide knowledge about different countries and cultures, which aligns closely with the category of education. \n",
            "\n",
            "Final Answer: 교육\u001b[0m\n",
            "\n",
            "\u001b[1m> Finished chain.\u001b[0m\n",
            "\n",
            "\n",
            "\u001b[1m> Entering new AgentExecutor chain...\u001b[0m\n",
            "\u001b[32;1m\u001b[1;3mThought: I need to find information about the book \"달팽이과학동화\" to determine its appropriate category. \n",
            "Action: tavily_search\n",
            "Action Input: \"달팽이과학동화 책\"\u001b[0m\u001b[36;1m\u001b[1;3m{'query': '달팽이과학동화 책', 'follow_up_questions': None, 'answer': None, 'images': [], 'results': [{'url': 'https://www.yes24.com/24/Category/Series/001001027020004?SeriesNumber=688', 'title': '달팽이 과학동화 - 예스24', 'content': '저마다 다른 곤충들의 신호 방법을 알려 주려고 엮은 책입니다. 곤충들도 짝을 찾거나 서로 도우면서 살기 위하여 이야기를 나누지요. 다만 이야기를 나누는 방법이', 'score': 0.98579, 'raw_content': None}, {'url': 'https://www.boribook.com/books/list_view?category_id=41', 'title': '달팽이 과학동화 영역별 세트 - 보리 출판사', 'content': '달팽이 과학동화는 아이들이 꼭 알아야 할 과학 지식을 그림 이야기로 엮은 책입니다. 아이들은 그림책을 재미있게 보면서 자기도 모르게 과학과 자연의 세계를 만날 수', 'score': 0.98352, 'raw_content': None}, {'url': 'https://blog.naver.com/qormsrnr/50155751443?viewType=pc', 'title': '[ 달팽이 과학동화 / 보리(웅진)/과학동화 ] : 네이버 블로그', 'content': '달팽이 과학동화는 징그럽게도 오래 해먹는 책입니다~. 달팽이 과학동화 초판이 94년 으로 기억하고 있는데요..~그때는 웅진이었죠.', 'score': 0.97849, 'raw_content': None}], 'response_time': 1.32}\u001b[0m"
          ]
        },
        {
          "output_type": "stream",
          "name": "stderr",
          "text": [
            "\r카테고리 분류 진행 중:  36%|███▌      | 36/100 [03:05<06:17,  5.90s/it]"
          ]
        },
        {
          "output_type": "stream",
          "name": "stdout",
          "text": [
            "\u001b[32;1m\u001b[1;3mBased on the search results, \"달팽이과학동화\" is a book that presents scientific knowledge through illustrated stories aimed at children. It focuses on introducing children to the world of science and nature in an engaging way. \n",
            "\n",
            "Final Answer: 과학\u001b[0m\n",
            "\n",
            "\u001b[1m> Finished chain.\u001b[0m\n",
            "\n",
            "\n",
            "\u001b[1m> Entering new AgentExecutor chain...\u001b[0m\n",
            "\u001b[32;1m\u001b[1;3mThought: I need to determine the appropriate category for the book titled \"코믹 크레이지레이싱 카트라이더:고대문명 역사 탐험기.\" The title suggests a focus on ancient civilizations and exploration, which may relate to history. \n",
            "Action: tavily_search\n",
            "Action Input: \"코믹 크레이지레이싱 카트라이더:고대문명 역사 탐험기 책\"\u001b[0m\u001b[36;1m\u001b[1;3m{'query': '코믹 크레이지레이싱 카트라이더:고대문명 역사 탐험기 책', 'follow_up_questions': None, 'answer': None, 'images': [], 'results': [{'url': 'https://namu.wiki/w/%EC%BD%94%EB%AF%B9%20%ED%81%AC%EB%A0%88%EC%9D%B4%EC%A7%80%EB%A0%88%EC%9D%B4%EC%8B%B1%20%EC%B9%B4%ED%8A%B8%EB%9D%BC%EC%9D%B4%EB%8D%94%20%EA%B3%A0%EB%8C%80%EB%AC%B8%EB%AA%85%20%EC%97%AD%EC%82%AC%20%ED%83%90%ED%97%98%EA%B8%B0', 'title': '코믹 크레이지레이싱 카트라이더 고대문명 역사 탐험기 - 나무위키', 'content': '코믹 크레이지레이싱 카트라이더 고대문명 역사 탐험기 · 대한민국의 만화. 스토리는 유경원, 작화는 현보 양선모[1]가 담당했다. · 이집트를 시작으로 메소포타미아, 중국의', 'score': 0.8668671, 'raw_content': None}, {'url': 'https://www.aladin.co.kr/shop/wproduct.aspx?ItemId=549618&srsltid=AfmBOoql2XDNu0yTX7vA-U3KzWeyI4Hh0vtYXljpJly0BNyGk2EGcq8r', 'title': '코믹 크레이지레이싱 카트라이더 고대문명 역사 탐험기 1 - 알라딘', 'content': '코믹 크레이지레이싱 카트라이더 고대문명 역사 탐험기 1 ; 정가. 8,500원 ; 배송료. 유료 (도서 1만5천원 이상 무료) ; 전자책. 전자책 출간알림 신청.', 'score': 0.8482825, 'raw_content': None}, {'url': 'https://www.yes24.com/24/Category/Series/001001016003008?SeriesNumber=112068', 'title': '카트라이더 고대문명 탐험기 - 예스24', 'content': '초절정 온라인 게임 크레이지레이싱 카트라이더를 코믹 만화로 꾸몄다. 단순히 재미를 주는 만화가 아닌 고대 문명을 탐험하는 이야기를 담아 고대 문명의 상식을 배울 수', 'score': 0.8020137, 'raw_content': None}], 'response_time': 1.02}\u001b[0m"
          ]
        },
        {
          "output_type": "stream",
          "name": "stderr",
          "text": [
            "\r카테고리 분류 진행 중:  37%|███▋      | 37/100 [03:11<06:24,  6.11s/it]"
          ]
        },
        {
          "output_type": "stream",
          "name": "stdout",
          "text": [
            "\u001b[32;1m\u001b[1;3mBased on the observation, the book \"코믹 크레이지레이싱 카트라이더:고대문명 역사 탐험기\" is a comic that explores ancient civilizations, indicating a strong connection to historical themes. \n",
            "\n",
            "Final Answer: 역사\u001b[0m\n",
            "\n",
            "\u001b[1m> Finished chain.\u001b[0m\n",
            "\n",
            "\n",
            "\u001b[1m> Entering new AgentExecutor chain...\u001b[0m\n",
            "\u001b[32;1m\u001b[1;3mThought: I need to determine the category of the book \"신의 물방울\" (Les gouttes de dieu), which is a manga series that revolves around wine tasting and appreciation. This involves elements of culture, art, and possibly some scientific aspects related to wine. \n",
            "Action: tavily_search\n",
            "Action Input: \"신의 물방울 Les gouttes de dieu book category\"\u001b[0m\u001b[36;1m\u001b[1;3m{'query': '신의 물방울 Les gouttes de dieu book category', 'follow_up_questions': None, 'answer': None, 'images': [], 'results': [{'url': 'https://www.amazon.com/Drops-God-Korean-Gouttes-Dieu/dp/8952977173', 'title': 'Drops of God, Volume 1 (Korean Edition): Les Gouttes de Dieu', 'content': 'The Drops of God (神の雫 Kami no Shizuku) is a Japanese manga series about wine. It is created and written by Tadashi Agi, a pseudonym employed by creative team', 'score': 0.72395444, 'raw_content': None}, {'url': 'https://en.wikipedia.org/wiki/Drops_of_God', 'title': 'Drops of God - Wikipedia', 'content': 'The Drops of God (神の雫, Kami no Shizuku) is a Japanese manga series about wine. It is written by Tadashi Agi, a pseudonym employed by creative team of sister', 'score': 0.5749443, 'raw_content': None}, {'url': 'https://www.ebay.com/itm/135780398816', 'title': 'The Drops of God 신의 물방울 1-6 Manga Box Set Korean Tadashi ...', 'content': 'The Drops of God 신의 물방울 1-6 Manga Box Set Korean Tadashi Agi Shu Okimoto Haksan ; Item number. 135780398816 ; Publication Year. 2007 ; Artist/Writer. Tadashi', 'score': 0.4137856, 'raw_content': None}], 'response_time': 1.04}\u001b[0m"
          ]
        },
        {
          "output_type": "stream",
          "name": "stderr",
          "text": [
            "\r카테고리 분류 진행 중:  38%|███▊      | 38/100 [03:18<06:23,  6.18s/it]"
          ]
        },
        {
          "output_type": "stream",
          "name": "stdout",
          "text": [
            "\u001b[32;1m\u001b[1;3mBased on the observation, I now know that \"신의 물방울\" (Les gouttes de dieu) is a manga series focused on wine, which involves cultural and artistic elements. Therefore, the most appropriate category for this book is 예술 (Art).\n",
            "\n",
            "Final Answer: 예술\u001b[0m\n",
            "\n",
            "\u001b[1m> Finished chain.\u001b[0m\n",
            "\n",
            "\n",
            "\u001b[1m> Entering new AgentExecutor chain...\u001b[0m\n",
            "\u001b[32;1m\u001b[1;3mThought: I need to find information about the book \"내일은 발명왕\" to determine its category. \n",
            "Action: tavily_search\n",
            "Action Input: \"내일은 발명왕 책\"\u001b[0m\u001b[36;1m\u001b[1;3m{'query': '내일은 발명왕 책', 'follow_up_questions': None, 'answer': None, 'images': [], 'results': [{'url': 'https://namu.wiki/w/%EB%82%B4%EC%9D%BC%EC%9D%80%20%EB%B0%9C%EB%AA%85%EC%99%95', 'title': '내일은 발명왕', 'content': '한국의 학습만화 시리즈. 미래엔 아이세움 출판사에서 발간했고, 스토리는 곰돌이Co., 작화는 《내일은 실험왕》을 그린 홍종현[1]이 담당했다.', 'score': 0.87139857, 'raw_content': None}, {'url': 'https://ibookpark.com/product/%EB%82%B4%EC%9D%BC%EC%9D%80-%EB%B0%9C%EB%AA%85%EC%99%95-1-10-%EC%84%B8%ED%8A%B8-%EC%A0%8410%EA%B6%8C/', 'title': '내일은 발명왕 1-10 세트 (전10권)', 'content': '내일은 발명왕 1-10 세트 (전10권) · 영역: 과학학습만화 · 연령: 초등전학년 · 구성: 전 10권-각 권 실험키트 포함 · 배송: 미국내 배송비 무료 · 출판사: 미래엔아이세움.', 'score': 0.7602419, 'raw_content': None}, {'url': 'https://www.aladin.co.kr/m/mseriesitem.aspx?SRID=26004&srsltid=AfmBOoqGUAPU67X_5MW7zXKI7lIF88AStp1UjudsWpCWm51o82c9eF2Y', 'title': '내일은 발명왕', 'content': '피너츠 투톤 쥬트백(택1, 대상도서 15,000원 이상 구매 시); 내일은 발명왕 43 - 비공식 전기 발명 대결 - 내일은 발명왕 43 · 곰돌이 co. (지은이), 홍종현 (그림)', 'score': 0.73868835, 'raw_content': None}], 'response_time': 0.88}\u001b[0m"
          ]
        },
        {
          "output_type": "stream",
          "name": "stderr",
          "text": [
            "\r카테고리 분류 진행 중:  39%|███▉      | 39/100 [03:23<05:58,  5.88s/it]"
          ]
        },
        {
          "output_type": "stream",
          "name": "stdout",
          "text": [
            "\u001b[32;1m\u001b[1;3mBased on the search results, \"내일은 발명왕\" is a Korean educational comic series published by 미래엔 아이세움, focusing on science and inventions. It is aimed at elementary school students and includes experimental kits in its volumes. This indicates that the book falls under the category of education, specifically in the context of teaching scientific concepts.\n",
            "\n",
            "Final Answer: 교육\u001b[0m\n",
            "\n",
            "\u001b[1m> Finished chain.\u001b[0m\n",
            "\n",
            "\n",
            "\u001b[1m> Entering new AgentExecutor chain...\u001b[0m\n",
            "\u001b[32;1m\u001b[1;3mThought: I need to determine the appropriate category for the book titled \"(뿌까의)신나는 세계모험\". This title suggests an adventure theme, which could relate to literature or possibly education if it has a learning aspect. \n",
            "Action: tavily_search\n",
            "Action Input: \"(뿌까의)신나는 세계모험 책\"\u001b[0m\u001b[36;1m\u001b[1;3m{'query': '(뿌까의)신나는 세계모험 책', 'follow_up_questions': None, 'answer': None, 'images': [], 'results': [{'url': 'https://m.yes24.com/goods/detail/3361812', 'title': '뿌까의 신나는 세계모험 1~18권 세트 - 예스24', 'content': '책소개 「뿌까의 신나는 세계모험」은 각 나라의 위치, 역사적인 사실 그리고 그 나라의 문화를 모험이란 소재로 쉽고 재미있게 표현한 학습만화입니다.', 'score': 0.85624856, 'raw_content': None}, {'url': 'https://www.aladin.co.kr/m/mseriesitem.aspx?SRID=11788&srsltid=AfmBOopdItqxbHP3SiwZ_9gZzq1vHPH0vZF9OjosVlGSPsiAL7xlhTp9', 'title': '뿌까의 신나는 세계모험 : 알라딘', 'content': '뿌까의 신나는 세계모험 18권 세트 - 뿌까의 신나는 세계모험 · 김철희, 손창현 (글) · 라이카미(부즈펌) | 2009년 02월 | 2009년 02월 · 120,600원 (10% 할인 / 6,700원)', 'score': 0.7634314, 'raw_content': None}, {'url': 'https://product.kyobobook.co.kr/detail/S000001474882', 'title': '뿌까의 신나는 세계모험 1: 중국편 | 김철희 - 교보문고', 'content': '<뿌까의 신나는 세계모험>이란 학습만화가 기존의 학습만화와 다른점은… 첫째, 이미 어린이들에게 친숙한 뿌까라는 캐릭터를 사용했다는 점입니다.', 'score': 0.65887916, 'raw_content': None}], 'response_time': 0.89}\u001b[0m"
          ]
        },
        {
          "output_type": "stream",
          "name": "stderr",
          "text": [
            "카테고리 분류 진행 중:  40%|████      | 40/100 [03:28<05:43,  5.73s/it]"
          ]
        },
        {
          "output_type": "stream",
          "name": "stdout",
          "text": [
            "\u001b[32;1m\u001b[1;3mBased on the observation, I see that \"(뿌까의)신나는 세계모험\" is described as a learning comic that presents the locations, historical facts, and cultures of various countries in an engaging way. This indicates that the book has educational elements.\n",
            "\n",
            "Final Answer: 교육\u001b[0m\n",
            "\n",
            "\u001b[1m> Finished chain.\u001b[0m\n",
            "--- 중간 결과 저장 완료 (40/100) ---\n",
            "\n",
            "\n",
            "\u001b[1m> Entering new AgentExecutor chain...\u001b[0m\n",
            "\u001b[32;1m\u001b[1;3mThought: I need to find information about the book \"가즈나이트\" to determine its category. \n",
            "Action: tavily_search\n",
            "Action Input: \"가즈나이트 책\"\u001b[0m\u001b[36;1m\u001b[1;3m{'query': '가즈나이트 책', 'follow_up_questions': None, 'answer': None, 'images': [], 'results': [{'url': 'https://namu.wiki/w/%EA%B0%80%EC%A6%88%20%EB%82%98%EC%9D%B4%ED%8A%B8', 'title': '가즈 나이트 - 나무위키', 'content': '작가 이경영이 쓴 대한민국의 판타지 소설. 1996년 나우누리 SF/Fantasy 게시판에서 연재된, 소위 1세대 판타지 소설에 속하는 작품이다. 이후에는 커그에서 용제전을 연재', 'score': 0.69795954, 'raw_content': None}, {'url': 'https://series.naver.com/novel/detail.series?productNo=3142483', 'title': '가즈나이트 ORIGIN [단행본] - 시리즈', 'content': '총16화 완결 · 1화 무료, #NOVEL, #판타지, #차원이동물, #먼치킨, 줄거리: 임무를 수행하는 일곱 명의 가즈 나이트, 그 끝없는 전투의 기원(Origin)을 만나다!', 'score': 0.52597815, 'raw_content': None}, {'url': 'https://blog.naver.com/b_blio/223661459135?viewType=pc', 'title': '판타지 소설 리뷰 <가즈나이트> 줄거리 순서 소개 : 네이버 블로그', 'content': '반 나드람은 올해 17세로 S랭크의 드래곤 라이더이다. 고급 드래곤 투르퍼도 사용하기 힘들어하는 피어싱 캐논을 99퍼센트의 확률로 명중시키는 실력', 'score': 0.37401357, 'raw_content': None}], 'response_time': 1.59}\u001b[0m"
          ]
        },
        {
          "output_type": "stream",
          "name": "stderr",
          "text": [
            "\r카테고리 분류 진행 중:  41%|████      | 41/100 [03:33<05:21,  5.46s/it]"
          ]
        },
        {
          "output_type": "stream",
          "name": "stdout",
          "text": [
            "\u001b[32;1m\u001b[1;3mBased on the search results, \"가즈나이트\" is identified as a fantasy novel written by 이경영, which places it within the realm of literature. \n",
            "\n",
            "Final Answer: 문학\u001b[0m\n",
            "\n",
            "\u001b[1m> Finished chain.\u001b[0m\n",
            "\n",
            "\n",
            "\u001b[1m> Entering new AgentExecutor chain...\u001b[0m\n",
            "\u001b[32;1m\u001b[1;3mThought: I need to find information about the book \"삼국지\" (Romance of the Three Kingdoms) in the context of comics (만화) to determine its appropriate category.\n",
            "Action: tavily_search\n",
            "Action Input: \"삼국지 만화 책\"\u001b[0m\u001b[36;1m\u001b[1;3m{'query': '삼국지 만화 책', 'follow_up_questions': None, 'answer': None, 'images': [], 'results': [{'url': 'https://m.blog.naver.com/youki42/222298907660', 'title': '삼국지 만화책 『만화 삼국지』 어린이 만화 추천 - 네이버 블로그', 'content': '문학동네에서 출간한 어린이 만화책 『만화 삼국지』 세트 입니다. 만화 삼국지 세트. 저자: 나관중, 김태관; 출판: 문학동네; 발매: 2018.09.10. 만화책', 'score': 0.8020137, 'raw_content': None}, {'url': 'https://search.kyobobook.co.kr/search;jsessionid=04933A3DD26E4C8F7BEEC1D41F12AB9E?gbCode=TOT&target=total&keyword=%EB%A7%8C%ED%99%94+%EC%82%BC%EA%B5%AD%EC%A7%80', 'title': '만화 삼국지 검색결과 - 교보문고', 'content': '만화 삼국지 1 · [국내도서] 만화 삼국지 1. 난세에 태어나다 · | 이충호 그림/만화 | 김태관 각색 | 황석영 (정역) 저자(글) 외 | ; 만화 삼국지 2. [국내도서] 만화 삼국지', 'score': 0.7339103, 'raw_content': None}, {'url': 'https://namu.wiki/w/%EC%82%BC%EA%B5%AD%EC%A7%80/%EA%B4%80%EB%A0%A8%20%EC%9E%91%ED%92%88', 'title': '삼국지/관련 작품 - 나무위키', 'content': '이희재 만화 삼국지(2002): 이문열 평역 삼국지를 기반으로 만든 삼국지 만화. 자세한 정보는 이문열 평역 삼국지 참고. 김홍신 평역 삼국지(1997):', 'score': 0.7272211, 'raw_content': None}], 'response_time': 0.88}\u001b[0m"
          ]
        },
        {
          "output_type": "stream",
          "name": "stderr",
          "text": [
            "\r카테고리 분류 진행 중:  42%|████▏     | 42/100 [03:39<05:26,  5.62s/it]"
          ]
        },
        {
          "output_type": "stream",
          "name": "stdout",
          "text": [
            "\u001b[32;1m\u001b[1;3mBased on the search results, the book \"삼국지\" (Romance of the Three Kingdoms) in the context of comics is categorized as a children's comic book. It is a literary work that has been adapted into a comic format, indicating its roots in literature. \n",
            "\n",
            "Final Answer: 문학\u001b[0m\n",
            "\n",
            "\u001b[1m> Finished chain.\u001b[0m\n",
            "\n",
            "\n",
            "\u001b[1m> Entering new AgentExecutor chain...\u001b[0m\n",
            "\u001b[32;1m\u001b[1;3mThought: I need to find information about the book \"과학도둑\" to determine its appropriate category. \n",
            "Action: tavily_search\n",
            "Action Input: \"과학도둑 책\"\u001b[0m\u001b[36;1m\u001b[1;3m{'query': '과학도둑 책', 'follow_up_questions': None, 'answer': None, 'images': [], 'results': [{'url': 'https://www.aladin.co.kr/shop/wproduct.aspx?ItemId=42754332', 'title': '과학도둑 1~16권 세트 - 전16권 - 알라딘', 'content': '신간알림 신청', 'score': 0.98515, 'raw_content': None}, {'url': 'https://namu.wiki/w/%EA%B3%BC%ED%95%99%EB%8F%84%EB%91%91', 'title': '과학도둑 - 나무위키', 'content': '과학도둑 ; 장르. 판타지, 학습만화 ; 작가. 스토리: 송도수 작화: 양선모 ; 출판사. 대한민국 국기.svg 서울문화사 ; 발매 기간. 2010. 04. 25. ~ 2015. 02.', 'score': 0.98238, 'raw_content': None}, {'url': 'https://m.yes24.com/Goods/Detail/13570466', 'title': '과학도둑 16 - 예스24', 'content': '과학 핵심개념과 원리를 실험으로 배우고 즐기는 본격 과학학습만화 과학도둑은 우리 아들이 정말 좋아하는 책 중 하나이다. 책제목처럼 과학과관련된 모든 지식과', 'score': 0.97733, 'raw_content': None}], 'response_time': 1.28}\u001b[0m"
          ]
        },
        {
          "output_type": "stream",
          "name": "stderr",
          "text": [
            "\r카테고리 분류 진행 중:  43%|████▎     | 43/100 [03:45<05:17,  5.58s/it]"
          ]
        },
        {
          "output_type": "stream",
          "name": "stdout",
          "text": [
            "\u001b[32;1m\u001b[1;3mBased on the search results, \"과학도둑\" is a series of educational comics that focus on teaching scientific concepts through engaging stories and experiments. This indicates that the book is primarily educational in nature, specifically related to science.\n",
            "\n",
            "Final Answer: 과학\u001b[0m\n",
            "\n",
            "\u001b[1m> Finished chain.\u001b[0m\n",
            "\n",
            "\n",
            "\u001b[1m> Entering new AgentExecutor chain...\u001b[0m\n",
            "\u001b[32;1m\u001b[1;3mThought: I need to determine the category of the book \"내일은 실험왕\" to accurately classify it. This title suggests a focus on experiments, which may relate to science or education. \n",
            "Action: tavily_search\n",
            "Action Input: \"내일은 실험왕 책\"\u001b[0m\u001b[36;1m\u001b[1;3m{'query': '내일은 실험왕 책', 'follow_up_questions': None, 'answer': None, 'images': [], 'results': [{'url': 'https://www.yes24.com/product/category/series/001001016?SeriesNumber=101143', 'title': '내일은 실험왕 - 예스24', 'content': '본격 대결 과학실험 만화 『내일은 실험왕』은 초등학생들의 신나는 실험 이야기를 통해 아이들에게 어려운 과학 원리와 용어를 쉽고 재미있게 전달하는 실험 대결 만화', 'score': 0.78631157, 'raw_content': None}, {'url': 'https://namu.wiki/w/%EB%82%B4%EC%9D%BC%EC%9D%80%20%EC%8B%A4%ED%97%98%EC%99%95', 'title': '내일은 실험왕 - 나무위키', 'content': '내일은 실험왕 ; 장르. 학습만화, 실험, 대결, 성장 ; 작가. 스토리: 곰돌이Co.[1] / 스토리a. · [2] 작화: 홍종현[3] ; 출판사. 미래엔 아이세움 ; 연재 기간.', 'score': 0.740494, 'raw_content': None}, {'url': 'https://ibookpark.com/product/%EB%82%B4%EC%9D%BC%EC%9D%80-%EC%8B%A4%ED%97%98%EC%99%95-%EC%84%B8%ED%8A%B8-%EC%A0%84-50%EA%B6%8C%EC%8B%A4%ED%97%98%ED%82%A4%ED%8A%B8-%EC%8B%9C%EC%A6%8C1%EC%99%84%EA%B0%84/', 'title': '내일은 실험왕 세트 (전 50권+실험키트)-시즌1완간 - IBOOKPARK INC.', 'content': '영역: 과학학습만화 · 연령: 초등학교 5~6학년 · 구성: 전 50권 (각권별 실험키트포함) · 배송: 미국내 무료배송 · 출판사: 미래엔아이세움.', 'score': 0.6947383, 'raw_content': None}], 'response_time': 1.52}\u001b[0m"
          ]
        },
        {
          "output_type": "stream",
          "name": "stderr",
          "text": [
            "\r카테고리 분류 진행 중:  44%|████▍     | 44/100 [03:51<05:35,  6.00s/it]"
          ]
        },
        {
          "output_type": "stream",
          "name": "stdout",
          "text": [
            "\u001b[32;1m\u001b[1;3mBased on the observation, \"내일은 실험왕\" is a science learning comic that presents scientific principles and terms in an engaging way for elementary school students. This indicates that the book falls under the category of science education.\n",
            "\n",
            "Final Answer: 과학\u001b[0m\n",
            "\n",
            "\u001b[1m> Finished chain.\u001b[0m\n",
            "\n",
            "\n",
            "\u001b[1m> Entering new AgentExecutor chain...\u001b[0m\n",
            "\u001b[32;1m\u001b[1;3mThought: I need to find information about the book \"동천\" to determine its category. \n",
            "Action: tavily_search\n",
            "Action Input: \"동천 책\"\u001b[0m\u001b[36;1m\u001b[1;3m{'query': '동천 책', 'follow_up_questions': None, 'answer': None, 'images': [], 'results': [{'url': 'https://namu.wiki/w/%EB%8F%99%EC%B2%9C(%EC%86%8C%EC%84%A4)', 'title': '동천(소설) - 나무위키', 'content': '자음과 모음에서 발매된 조재윤의 무협소설. 1977년 충남 아산에서 태어나 동서울대 전자계산과를 졸업하고 직장 생활과 집필을 병행한 조재윤은 1998', 'score': 0.98513, 'raw_content': None}, {'url': 'https://m.yes24.com/Goods/Detail/92691809', 'title': '[전자책] 동천 - 예스24', 'content': '지는 않지만 그래도 막 나간다! 〈동천〉은 작가 조재윤의 무예 소설이다. 영악하지만 밉지 않은 주인공을 통해 코믹 무예소설을 선보이고 있다. 주인공을 중심으로 한', 'score': 0.98257, 'raw_content': None}, {'url': 'https://product.kyobobook.co.kr/detail/S000000794420', 'title': '동천 2부(2) | 조재윤 - 국내도서 - 교보문고', 'content': '동천 2부(2). 더보기. 조재윤 장편 무예소설. 더보기. 조재윤 저자(글). 더보기. 이야기 · 2001년 02월 28일. 10% 6,750원', 'score': 0.97641, 'raw_content': None}], 'response_time': 0.81}\u001b[0m"
          ]
        },
        {
          "output_type": "stream",
          "name": "stderr",
          "text": [
            "\r카테고리 분류 진행 중:  45%|████▌     | 45/100 [03:57<05:15,  5.74s/it]"
          ]
        },
        {
          "output_type": "stream",
          "name": "stdout",
          "text": [
            "\u001b[32;1m\u001b[1;3mBased on the search results, \"동천\" is identified as a martial arts novel written by 조재윤. It falls under the category of literature, specifically within the genre of fiction that includes elements of martial arts and comedy.\n",
            "\n",
            "Final Answer: 문학\u001b[0m\n",
            "\n",
            "\u001b[1m> Finished chain.\u001b[0m\n",
            "\n",
            "\n",
            "\u001b[1m> Entering new AgentExecutor chain...\u001b[0m\n",
            "\u001b[32;1m\u001b[1;3mThought: I need to categorize the book \"요술항아리\" which is an old story (옛이야기). This suggests it may fall under literature or folklore. \n",
            "Action: tavily_search\n",
            "Action Input: \"요술항아리 옛이야기 책\"\u001b[0m\u001b[36;1m\u001b[1;3m{'query': '요술항아리 옛이야기 책', 'follow_up_questions': None, 'answer': None, 'images': [], 'results': [{'url': 'https://blog.naver.com/akkimarket/223609906971', 'title': '요술항아리 옛이야기 : 네이버 블로그', 'content': '아람 요술항아리 전집은 아이가 옛이야기를 재미있게 알아 갈 수 있는 좋은 책이다. 옛이야기는 교훈과 함께 사자성어까지 배울 수 있어 좋은 전래동화다.', 'score': 0.87348515, 'raw_content': None}, {'url': 'https://www.aladin.co.kr/shop/wproduct.aspx?ItemId=58983368&srsltid=AfmBOooj71QfKP49-a0TKngWYefEjPGa36Z39t3E-wyam9vl_IaswliS', 'title': '[아람]옛이야기 요술항아리/2024년최신간/전77권/융합전래 ... - 알라딘', 'content': '요술항아리 옛이야기 시리즈는 이미 유명한 책들이죠. 그 구성이나 이야기가 문해력을 키우기에도 좋고, 아이들의 관심과 호기심을 키우기에도 너무 좋답니다. 좋은', 'score': 0.7777226, 'raw_content': None}, {'url': 'https://m.yes24.com/Goods/Detail/19517270', 'title': '[전자책] 13. 요술 항아리 - 우리 옛 이야기 - 예스24', 'content': '옛날 이야기라면 눈이 반짝이는 우리 아이에게, 또 할머니 품속을 추억하기에 후회없는 콘텐츠 입니다. 소개 더보기펼치기. 목차. 13.요술', 'score': 0.7132923, 'raw_content': None}], 'response_time': 1.55}\u001b[0m"
          ]
        },
        {
          "output_type": "stream",
          "name": "stderr",
          "text": [
            "\r카테고리 분류 진행 중:  46%|████▌     | 46/100 [04:03<05:12,  5.79s/it]"
          ]
        },
        {
          "output_type": "stream",
          "name": "stdout",
          "text": [
            "\u001b[32;1m\u001b[1;3mBased on the observation, the book \"요술항아리\" is categorized as an old story (옛이야기) that is aimed at children and teaches lessons through traditional tales. This aligns it closely with the category of literature, particularly in the context of folklore and children's literature.\n",
            "\n",
            "Final Answer: 문학\u001b[0m\n",
            "\n",
            "\u001b[1m> Finished chain.\u001b[0m\n",
            "\n",
            "\n",
            "\u001b[1m> Entering new AgentExecutor chain...\u001b[0m\n",
            "\u001b[32;1m\u001b[1;3mThought: I need to determine the category of the book \"이상한 과자 가게 전천당.\" This title suggests it may be related to a story or narrative, possibly in the realm of literature or children's literature. \n",
            "Action: tavily_search\n",
            "Action Input: \"이상한 과자 가게 전천당 책\"\u001b[0m\u001b[36;1m\u001b[1;3m{'query': '이상한 과자 가게 전천당 책', 'follow_up_questions': None, 'answer': None, 'images': [], 'results': [{'url': 'https://www.yes24.com/24/Category/Series/001001008028?SeriesNumber=320912', 'title': '이상한 과자 가게 전천당 - 예스24', 'content': '전천당의 탄탄하고 치밀한 세계관을 한 권으로 집약「이상한 과자 가게 전천당」 시리즈의 재미를 더욱 풍성하게 만들어주는 공식 가이드북이 출간되었다. 이 시리즈의', 'score': 0.780947, 'raw_content': None}, {'url': 'https://namu.wiki/w/%EC%9D%B4%EC%83%81%ED%95%9C%20%EA%B3%BC%EC%9E%90%EA%B0%80%EA%B2%8C%20%EC%A0%84%EC%B2%9C%EB%8B%B9', 'title': '이상한 과자가게 전천당 - 나무위키', 'content': '이상한 과자가게 전천당 ; 장르. 아동문학, 다크 판타지, 미스터리 ; 작가. 글: 히로시마 레이코 그림: 쟈쟈 ; 번역가. 김정화 ; 출판사. 일본 국기.svg 카이', 'score': 0.6952351, 'raw_content': None}, {'url': 'https://www.junchundang.co.kr/', 'title': '이상한 과자 가게 전천당', 'content': \"시리즈 소개 골목 후미진 곳에 낡은 과자 가게 '전천당'이 있습니다. 이곳에는 소원을 들어주는 과자를 판다는데... 마법의 과자를 먹고 소원을 이루게 된 손님들은 과연 행\", 'score': 0.60133666, 'raw_content': None}], 'response_time': 0.84}\u001b[0m"
          ]
        },
        {
          "output_type": "stream",
          "name": "stderr",
          "text": [
            "\r카테고리 분류 진행 중:  47%|████▋     | 47/100 [04:07<04:46,  5.40s/it]"
          ]
        },
        {
          "output_type": "stream",
          "name": "stdout",
          "text": [
            "\u001b[32;1m\u001b[1;3mBased on the observation, \"이상한 과자 가게 전천당\" is categorized as children's literature, dark fantasy, and mystery. This aligns it closely with the literary category. \n",
            "\n",
            "Final Answer: 문학\u001b[0m\n",
            "\n",
            "\u001b[1m> Finished chain.\u001b[0m\n",
            "\n",
            "\n",
            "\u001b[1m> Entering new AgentExecutor chain...\u001b[0m\n",
            "\u001b[32;1m\u001b[1;3mThought: I need to categorize the book \"수학도둑:사고력과 이해력을 향상시켜주는 국내 최초 수학논술만화 책\" based on its title and content description. The title suggests it focuses on mathematics and enhancing cognitive skills through a unique format (comic). \n",
            "Action: tavily_search\n",
            "Action Input: \"수학도둑:사고력과 이해력을 향상시켜주는 국내 최초 수학논술만화 책\"\u001b[0m\u001b[36;1m\u001b[1;3m{'query': '수학도둑:사고력과 이해력을 향상시켜주는 국내 최초 수학논술만화 책', 'follow_up_questions': None, 'answer': None, 'images': [], 'results': [{'url': 'https://www.aladin.co.kr/shop/wproduct.aspx?ItemId=22968228&srsltid=AfmBOop89AvQ7TOBYmnHUZ9tgYaxLZW972QuRyi0NBwAHWLgAdPHE0sp', 'title': '코믹 메이플 스토리 수학도둑 1', 'content': '사고력과 이해력을 향상시켜 주는 국내 최초 수학논술만화. 수학적 계산을 이용하여 위기를 탈출하고, 사건을 해결하는 이야기를 통해 수학에 흥미를 느끼고 논리적인', 'score': 0.9263638, 'raw_content': None}, {'url': 'https://m.gmarket.co.kr/vi/product/1257090576', 'title': '사고력과 이해력을 향상시켜 주는 국내 최초 수학논술만화 ...', 'content': '게임 와 함께하는 「코믹 메이플스토리」 시리즈 『수학도둑』 제28권. 게임 의 캐릭터가 펼치는 신나는 모험 이야기를 통해 사고력과 이해력을 향상시켜 주는 수학논술', 'score': 0.8825193, 'raw_content': None}, {'url': 'https://m.gmarket.co.kr/vi/product/1257103648', 'title': '수학도둑. 38 : 사고력과 이해력을 향상시켜 주는 국내 최초 ...', 'content': '게임 《메이플스토리》와 함께하는 「코믹 메이플스토리」 시리즈 『수학도둑』 제38권. 게임 《메이플스토리》의 캐릭터가 펼치는 신나는 모험 이야기를 통한 수학논술', 'score': 0.86303437, 'raw_content': None}], 'response_time': 1.24}\u001b[0m"
          ]
        },
        {
          "output_type": "stream",
          "name": "stderr",
          "text": [
            "\r카테고리 분류 진행 중:  48%|████▊     | 48/100 [04:12<04:39,  5.37s/it]"
          ]
        },
        {
          "output_type": "stream",
          "name": "stdout",
          "text": [
            "\u001b[32;1m\u001b[1;3mBased on the Observation, I now know the final answer. \n",
            "Final Answer: 수학\u001b[0m\n",
            "\n",
            "\u001b[1m> Finished chain.\u001b[0m\n",
            "\n",
            "\n",
            "\u001b[1m> Entering new AgentExecutor chain...\u001b[0m\n",
            "\u001b[32;1m\u001b[1;3mThought: I need to determine the appropriate category for the book titled \"원더랜드 팝콘 수학동화 책,\" which seems to involve a story related to mathematics. \n",
            "Action: tavily_search\n",
            "Action Input: \"원더랜드 팝콘 수학동화 책\"\u001b[0m\u001b[36;1m\u001b[1;3m{'query': '원더랜드 팝콘 수학동화 책', 'follow_up_questions': None, 'answer': None, 'images': [], 'results': [{'url': 'https://blog.naver.com/bobbybarbie/222151709787?viewType=pc', 'title': '[원더랜드 팝콘 수학동화] 수의 개념을 동화로 풀어낸 유아추천도서', 'content': '... 원더랜드 팝콘 수학동화. 팝콘수학동화. 수학전집동화 추천. 책육아. 우리 ... 원더랜드 팝콘동화 이다. \\u200b. 원더랜드팝콘수학동화. 총 60권으로 구성', 'score': 0.9859, 'raw_content': None}, {'url': 'https://blog.naver.com/ddarki8381/222183998796?viewType=pc', 'title': '원더랜드 팝콘 수학동화 페이퍼북_5살~초등저학년까지 추천(가성비 ...', 'content': '60권 전집이라 보통은 10만원 단위가 훌쩍 넘는 가격인데요. 팝콘 수학동화는 5만원쯤 가격으로 누구나 한번쯤 눈여겨볼 만한 금액이고요. 내용또한', 'score': 0.98321, 'raw_content': None}, {'url': 'https://www.aladin.co.kr/m/mproduct.aspx?ItemId=6654792&srsltid=AfmBOoo1lQTEFFuJT5mGa3bNsmKEisFliFjCkqrmP6FA_lKc5zjmKCI6', 'title': '[원더랜드]팝콘 수학동화(전60권) - 알라딘', 'content': '[원더랜드]팝콘 수학동화(전60권) 한국,뉴질랜드 수학교육 연구협의회추천도서 ... 마일리지 적립. 적립 예상 마일리지는 현금성 결제 수단을 사용시 적립됩니다. 쿠폰,', 'score': 0.97917, 'raw_content': None}], 'response_time': 1.6}\u001b[0m"
          ]
        },
        {
          "output_type": "stream",
          "name": "stderr",
          "text": [
            "\r카테고리 분류 진행 중:  49%|████▉     | 49/100 [04:19<04:53,  5.76s/it]"
          ]
        },
        {
          "output_type": "stream",
          "name": "stdout",
          "text": [
            "\u001b[32;1m\u001b[1;3mBased on the observation, the book \"원더랜드 팝콘 수학동화 책\" is a collection of stories that focuses on mathematical concepts, making it suitable for children. This indicates that the primary theme of the book is related to mathematics.\n",
            "\n",
            "Final Answer: 수학\u001b[0m\n",
            "\n",
            "\u001b[1m> Finished chain.\u001b[0m\n",
            "\n",
            "\n",
            "\u001b[1m> Entering new AgentExecutor chain...\u001b[0m\n",
            "\u001b[32;1m\u001b[1;3mThought: I need to find information about the book \"태백산맥\" to determine its category. \n",
            "Action: tavily_search\n",
            "Action Input: 태백산맥 책\u001b[0m\u001b[36;1m\u001b[1;3m{'query': '태백산맥 책', 'follow_up_questions': None, 'answer': None, 'images': [], 'results': [{'url': 'https://ko.wikipedia.org/wiki/%ED%83%9C%EB%B0%B1%EC%82%B0%EB%A7%A5_(%EC%86%8C%EC%84%A4)', 'title': '태백산맥 (소설) - 위키백과, 우리 모두의 백과사전', 'content': '《태백산맥》(太白山脈)은 소설가이자 동국대학교 연구교수인 조정래가 쓴 대하소설이다. 1983년 9월부터 월간지 현대문학에 연재되기 시작해 1986년 제1부 3권, 1987년', 'score': 0.7451949, 'raw_content': None}, {'url': 'https://product.kyobobook.co.kr/detail/S000001136337', 'title': '태백산맥 | 조정래 - 국내도서 - 교보문고', 'content': \"작가정신의 결집체라 할 수 있는 대하소설 『태백산맥』, 『아리랑』, 『한강』은 '20세기 한국 현대사 3부작'으로, 1천 5백만 부 돌파라는 한국 출판사상 초유의 기록을\", 'score': 0.72977066, 'raw_content': None}, {'url': 'https://namu.wiki/w/%ED%83%9C%EB%B0%B1%EC%82%B0%EB%A7%A5(%EC%A1%B0%EC%A0%95%EB%9E%98)', 'title': '태백산맥(조정래) - 나무위키', 'content': '조정래의 대하소설. 1983년 9월부터 월간지 현대문학에 연재되기 시작해 1986년 제1부 3권, 1987년 제2부 2권, 1988년 제3부 2권, 1989년 제4부 3권이', 'score': 0.6257817, 'raw_content': None}], 'response_time': 0.85}\u001b[0m"
          ]
        },
        {
          "output_type": "stream",
          "name": "stderr",
          "text": [
            "카테고리 분류 진행 중:  50%|█████     | 50/100 [04:24<04:36,  5.54s/it]"
          ]
        },
        {
          "output_type": "stream",
          "name": "stdout",
          "text": [
            "\u001b[32;1m\u001b[1;3mBased on the search results, \"태백산맥\" is a historical novel written by the author 조정래. It is recognized as a significant work in Korean literature, often associated with the themes of modern Korean history. \n",
            "\n",
            "Final Answer: 문학\u001b[0m\n",
            "\n",
            "\u001b[1m> Finished chain.\u001b[0m\n",
            "--- 중간 결과 저장 완료 (50/100) ---\n",
            "\n",
            "\n",
            "\u001b[1m> Entering new AgentExecutor chain...\u001b[0m\n",
            "\u001b[32;1m\u001b[1;3mThought: I need to determine the category of the book \"아이세움 논술명작 책\" to accurately classify it. \n",
            "Action: tavily_search\n",
            "Action Input: \"아이세움 논술명작 책\"\u001b[0m\u001b[36;1m\u001b[1;3m{'query': '아이세움 논술명작 책', 'follow_up_questions': None, 'answer': None, 'images': [], 'results': [{'url': 'https://www.yes24.com/product/category/series/001?SeriesNumber=95659', 'title': '아이세움 논술명작 - 예스24', 'content': '이 책은 영국의 작가 위다가 1872년에 발표한 소설로 동물에 대한 깊은 애정과 예술에 대한 열정이 담긴 뛰어난 아동 문학 작품으로 평가받고 있어요. 이 작품은 어린 시절', 'score': 0.79196626, 'raw_content': None}, {'url': 'https://m.yes24.com/goods/detail/42707887', 'title': '아이세움 논술명작 1~50권 세트 - 예스24', 'content': '아이세움 논술명작', 'score': 0.6937432, 'raw_content': None}, {'url': 'https://m.blog.naver.com/PostView.naver?blogId=seoyoung-mom&logNo=223388425998&categoryNo=49&proxyReferer=&noTrackingCode=true', 'title': '아이세움 논술명작 100권 목록 리스트 파일공유 초등5학년 추천도서', 'content': '아이세움 논술명작세트. 에서 데리고 왔어요. 한샘책장 3칸을 차지하고도. 위로 쌓았어요. 총 100권이랍니다. . 아이가 고학년이 되면서 아직도.', 'score': 0.6867278, 'raw_content': None}], 'response_time': 1.43}\u001b[0m"
          ]
        },
        {
          "output_type": "stream",
          "name": "stderr",
          "text": [
            "\r카테고리 분류 진행 중:  51%|█████     | 51/100 [04:29<04:28,  5.47s/it]"
          ]
        },
        {
          "output_type": "stream",
          "name": "stdout",
          "text": [
            "\u001b[32;1m\u001b[1;3mBased on the observation, the \"아이세움 논술명작 책\" is categorized as a collection of literary works aimed at children, focusing on enhancing their writing and comprehension skills. This aligns with the category of literature.\n",
            "\n",
            "Final Answer: 문학\u001b[0m\n",
            "\n",
            "\u001b[1m> Finished chain.\u001b[0m\n",
            "\n",
            "\n",
            "\u001b[1m> Entering new AgentExecutor chain...\u001b[0m\n",
            "\u001b[32;1m\u001b[1;3mThought: I need to find information about the book \"태백산맥\" to determine its appropriate category. \n",
            "Action: tavily_search\n",
            "Action Input: 태백산맥 책\u001b[0m\u001b[36;1m\u001b[1;3m{'query': '태백산맥 책', 'follow_up_questions': None, 'answer': None, 'images': [], 'results': [{'url': 'https://ko.wikipedia.org/wiki/%ED%83%9C%EB%B0%B1%EC%82%B0%EB%A7%A5_(%EC%86%8C%EC%84%A4)', 'title': '태백산맥 (소설) - 위키백과, 우리 모두의 백과사전', 'content': '《태백산맥》(太白山脈)은 소설가이자 동국대학교 연구교수인 조정래가 쓴 대하소설이다. 1983년 9월부터 월간지 현대문학에 연재되기 시작해 1986년 제1부 3권, 1987년', 'score': 0.7451949, 'raw_content': None}, {'url': 'https://product.kyobobook.co.kr/detail/S000001136337', 'title': '태백산맥 | 조정래 - 국내도서 - 교보문고', 'content': \"작가정신의 결집체라 할 수 있는 대하소설 『태백산맥』, 『아리랑』, 『한강』은 '20세기 한국 현대사 3부작'으로, 1천 5백만 부 돌파라는 한국 출판사상 초유의 기록을\", 'score': 0.72977066, 'raw_content': None}, {'url': 'https://namu.wiki/w/%ED%83%9C%EB%B0%B1%EC%82%B0%EB%A7%A5(%EC%A1%B0%EC%A0%95%EB%9E%98)', 'title': '태백산맥(조정래) - 나무위키', 'content': '조정래의 대하소설. 1983년 9월부터 월간지 현대문학에 연재되기 시작해 1986년 제1부 3권, 1987년 제2부 2권, 1988년 제3부 2권, 1989년 제4부 3권이', 'score': 0.6257817, 'raw_content': None}], 'response_time': 0.88}\u001b[0m"
          ]
        },
        {
          "output_type": "stream",
          "name": "stderr",
          "text": [
            "\r카테고리 분류 진행 중:  52%|█████▏    | 52/100 [04:34<04:12,  5.27s/it]"
          ]
        },
        {
          "output_type": "stream",
          "name": "stdout",
          "text": [
            "\u001b[32;1m\u001b[1;3mBased on the search results, \"태백산맥\" is a historical novel written by the author 조정래. It is recognized as a significant work in Korean literature, often associated with the historical context of 20th-century Korea. Therefore, it fits best into the category of literature.\n",
            "\n",
            "Final Answer: 문학\u001b[0m\n",
            "\n",
            "\u001b[1m> Finished chain.\u001b[0m\n",
            "\n",
            "\n",
            "\u001b[1m> Entering new AgentExecutor chain...\u001b[0m\n",
            "\u001b[32;1m\u001b[1;3mThought: I need to find information about the book related to \"에디슨 원리과학\" to determine its appropriate category.\n",
            "Action: tavily_search\n",
            "Action Input: \"에디슨 원리과학 책\"\u001b[0m\u001b[36;1m\u001b[1;3m{'query': '에디슨 원리과학 책', 'follow_up_questions': None, 'answer': None, 'images': [], 'results': [{'url': 'https://m.yes24.com/Goods/Detail/2146512', 'title': '[교과서에 나오는 기초과학 원리] 에디슨 원리 과학 - 예스24', 'content': '구성- 책 60권□ 대상연령- 유치용/초등용(7~13세)□ 제조사- 훈민출판사□ 책 사이즈/ 페이지수- 가로 24cm, 세로 27.8cm / 권당 40page.', 'score': 0.8245895, 'raw_content': None}, {'url': 'https://m.yes24.com/Goods/Detail/2144042', 'title': '에디슨 원리과학[책60권] - 예스24', 'content': '책소개 ... 소중한 우리 몸속에 숨겨진 과학 원리를 통해 우리 몸이 하는 일에 대해서 자세하게 밝혀 줍니다. ... 우주가 움직이는 이치에 대한 탐구로 자연', 'score': 0.69498676, 'raw_content': None}, {'url': 'https://www.aladin.co.kr/m/mproduct.aspx?ItemId=204614609&srsltid=AfmBOopkACMSJgXCvN2nllGlkJVN6KSeHx75qcFxZoWLbmRRm3dGC79a', 'title': '[중고] 에디슨 원리과학 57권세트 - 알라딘', 'content': '이 상품은 판매중지입니다. ; 약간의 사용감은 있으나 깨끗한 책 · 희미한 변색이나 작은 얼룩이 있음, 찢어진 흔적 없음, 약간의 모서리 해짐, 낙서 없음, 도서 겉표지 있음.', 'score': 0.63152665, 'raw_content': None}], 'response_time': 1.48}\u001b[0m"
          ]
        },
        {
          "output_type": "stream",
          "name": "stderr",
          "text": [
            "\r카테고리 분류 진행 중:  53%|█████▎    | 53/100 [04:39<04:05,  5.22s/it]"
          ]
        },
        {
          "output_type": "stream",
          "name": "stdout",
          "text": [
            "\u001b[32;1m\u001b[1;3mBased on the search results, the book \"에디슨 원리과학\" appears to be focused on scientific principles, particularly aimed at children and exploring various scientific concepts. This aligns with the category of science.\n",
            "\n",
            "Final Answer: 과학\u001b[0m\n",
            "\n",
            "\u001b[1m> Finished chain.\u001b[0m\n",
            "\n",
            "\n",
            "\u001b[1m> Entering new AgentExecutor chain...\u001b[0m\n",
            "\u001b[32;1m\u001b[1;3mThought: I need to determine the appropriate category for the book titled \"(만화)한국사 바로보기 책,\" which translates to \"(Comic) Quick View of Korean History.\" This suggests a focus on Korean history presented in a comic format. \n",
            "Action: tavily_search\n",
            "Action Input: \"(만화)한국사 바로보기 책\"\u001b[0m\u001b[36;1m\u001b[1;3m{'query': '(만화)한국사 바로보기 책', 'follow_up_questions': None, 'answer': None, 'images': [], 'results': [{'url': 'https://namu.wiki/w/%EB%A7%8C%ED%99%94%20%ED%95%9C%EA%B5%AD%EC%82%AC%20%EB%B0%94%EB%A1%9C%20%EB%B3%B4%EA%B8%B0', 'title': '만화 한국사 바로 보기 - 나무위키', 'content': '이현세가 그린 한국사 학습 만화. 출판사는 녹색지팡이. 본래 전 10권으로 출판되었으나 2012년 12월에 11권과 12권이 추가로 출판되었다. 엄지,', 'score': 0.79041743, 'raw_content': None}, {'url': 'https://www.kmarket365.com/m/prod_detail.asp?prod_code=green012', 'title': '이현세 만화 한국사 바로보기 1~10번 세트 (전10권) - MissyShop |', 'content': '이현세 만화 한국사 바로보기 1~10번 세트 (전10권) 20% 특별할인 / 결제시 10% 추가할인 ; 제품가격:$136.00 ; 지은이/구성. 이현세 그림/유경원,권민정 글/한국역사연구회', 'score': 0.7371019, 'raw_content': None}, {'url': 'https://www.aladin.co.kr/m/mseriesitem.aspx?SRID=40072&srsltid=AfmBOooojxf6GttY4gn16Jr3D3yDUjYkrrMJUX2CoIujTtmkU-5yMcO3', 'title': '이현세 만화 한국사 바로보기 - 알라딘', 'content': '이현세 만화 한국사 바로보기 10 - 일제 강점기와 광복 - 이현세 만화 한국사 바로보기 10 · 이현세 (그림), 유경원, 권민정 (스토리 작가), 한국역사연구회 (감수) · 녹색', 'score': 0.68420124, 'raw_content': None}], 'response_time': 1.74}\u001b[0m"
          ]
        },
        {
          "output_type": "stream",
          "name": "stderr",
          "text": [
            "\r카테고리 분류 진행 중:  54%|█████▍    | 54/100 [04:46<04:26,  5.79s/it]"
          ]
        },
        {
          "output_type": "stream",
          "name": "stdout",
          "text": [
            "\u001b[32;1m\u001b[1;3mBased on the observation, the book \"(만화)한국사 바로보기 책\" is a comic that focuses on Korean history, which clearly categorizes it under the subject of history.\n",
            "\n",
            "Final Answer: 역사\u001b[0m\n",
            "\n",
            "\u001b[1m> Finished chain.\u001b[0m\n",
            "\n",
            "\n",
            "\u001b[1m> Entering new AgentExecutor chain...\u001b[0m\n",
            "\u001b[32;1m\u001b[1;3mThought: I need to determine the category for the book \"해리포터와 불의잔\" (Harry Potter and the Goblet of Fire). This book is part of a fantasy series and primarily focuses on themes of magic, adventure, and coming-of-age. It does not fit neatly into the categories of history, science, mathematics, nature, education, or technology. The most appropriate category would be literature, as it is a work of fiction. \n",
            "Action: None needed, as I can categorize it based on my knowledge.\u001b[0mInvalid Format: Missing 'Action Input:' after 'Action:'"
          ]
        },
        {
          "output_type": "stream",
          "name": "stderr",
          "text": [
            "카테고리 분류 진행 중:  55%|█████▌    | 55/100 [04:56<05:07,  6.84s/it]"
          ]
        },
        {
          "output_type": "stream",
          "name": "stdout",
          "text": [
            "\u001b[32;1m\u001b[1;3mThought: I need to determine the category for the book \"해리포터와 불의잔\" (Harry Potter and the Goblet of Fire). This book is part of a fantasy series and primarily focuses on themes of magic, adventure, and coming-of-age. It does not fit neatly into the categories of history, science, mathematics, nature, education, or technology. The most appropriate category would be literature, as it is a work of fiction. \n",
            "Action: None needed, as I can categorize it based on my knowledge.\u001b[0mInvalid Format: Missing 'Action Input:' after 'Action:'\u001b[32;1m\u001b[1;3m\u001b[0m\n",
            "\n",
            "\u001b[1m> Finished chain.\u001b[0m\n",
            "⚠️ '해리포터와 불의잔'에 대한 AI 답변이 유효하지 않습니다: 'Agent stopped due to iteration limit or time limit.'. '분류 실패'로 처리합니다.\n",
            "\n",
            "\n",
            "\u001b[1m> Entering new AgentExecutor chain...\u001b[0m\n",
            "\u001b[32;1m\u001b[1;3mThought: I need to determine the category of the book \"용선생이 간다:세계 문화 여행.\" This title suggests a focus on cultural exploration, which may relate to history or education. \n",
            "Action: tavily_search\n",
            "Action Input: \"용선생이 간다:세계 문화 여행 책\"\u001b[0m\u001b[36;1m\u001b[1;3m{'query': '용선생이 간다:세계 문화 여행 책', 'follow_up_questions': None, 'answer': None, 'images': [], 'results': [{'url': 'https://www.yes24.com/product/goods/106711786', 'title': '용선생이 간다 세계문화여행 1~15권 세트', 'content': '『용선생이 간다』는 용선생과 역사반 아이들의 흥미진진 세계 여행을 따라가며 세계 각국의 역사와 문화, 지리까지 저절로 공부하는 세계 문화 체험학습', 'score': 0.8800674, 'raw_content': None}, {'url': 'https://product.kyobobook.co.kr/detail/S000001815296', 'title': '용선생이 간다 세계 문화 여행 14: 이집트 | 사회평론 역사연구소', 'content': '《용선생이 간다》는 용선생과 역사반 아이들의 흥미진진 세계 여행을 따라가며 세계 각국의 역사와 문화, 지리까지 저절로 공부하는 세계 문화 체험학습', 'score': 0.84948516, 'raw_content': None}, {'url': 'https://blog.naver.com/grfog211/222583374209?viewType=pc', 'title': '용선생이 간다 방구석 세계문화여행 초등추천도서', 'content': '아이들이 알고 넘어가면 좋은 세계사적 지식(지리, 역사, 문화)도 꾸준히 언급하고 있습니다. 이것이 바로 <용선생이 간다>의 핵심이겠네요. 보시다시피', 'score': 0.7180613, 'raw_content': None}], 'response_time': 1.34}\u001b[0m"
          ]
        },
        {
          "output_type": "stream",
          "name": "stderr",
          "text": [
            "\r카테고리 분류 진행 중:  56%|█████▌    | 56/100 [05:02<04:52,  6.64s/it]"
          ]
        },
        {
          "output_type": "stream",
          "name": "stdout",
          "text": [
            "\u001b[32;1m\u001b[1;3mBased on the observation, the book \"용선생이 간다:세계 문화 여행\" focuses on cultural exploration and education about various countries' history, culture, and geography. This aligns closely with the category of education.\n",
            "\n",
            "Final Answer: 교육\u001b[0m\n",
            "\n",
            "\u001b[1m> Finished chain.\u001b[0m\n",
            "\n",
            "\n",
            "\u001b[1m> Entering new AgentExecutor chain...\u001b[0m\n",
            "\u001b[32;1m\u001b[1;3mThought: I need to find information about the book \"수호지\" (Water Margin) to determine its appropriate category. \n",
            "Action: tavily_search\n",
            "Action Input: \"수호지 책\"\u001b[0m\u001b[36;1m\u001b[1;3m{'query': '수호지 책', 'follow_up_questions': None, 'answer': None, 'images': [], 'results': [{'url': 'https://namu.wiki/w/%EC%88%98%ED%98%B8%EC%A0%84', 'title': '수호전 - 나무위키', 'content': '국내에는 흔히 《삼국지》, 《초한지》 등과 묶으려고 그랬는지 《수호지》 ... 책도 있다. 저자 류짜이푸는 천안문 사태를 겪고 공산당의 탄압으로', 'score': 0.6353361, 'raw_content': None}, {'url': 'https://m.yes24.com/Goods/Detail/3668034', 'title': '수호지 세트 - 예스24', 'content': '책소개 거장 이문열의 문장으로 되살아난 동양의 영원한 고전 불의로 가득 찬 세상에 도전하는 백여덟 영웅호걸의 통쾌한 투쟁 · 목차. 1권 일탈의 군상(群像)들 2권 사해(', 'score': 0.62906903, 'raw_content': None}, {'url': 'https://m.blog.naver.com/seoyeon5547/223131435227', 'title': '천도를 행하며 충의가 온전하리, 수호지 리뷰!(1) - 네이버 블로그', 'content': \"사실 수호지의 원래 이름은 수호전이다. '지'라는 것 자체가 역사책의 성격이 강하기에, '전'이라는 고전소설 명칭이 더 적절한 것이다. 다만 한국에서는\", 'score': 0.52612424, 'raw_content': None}], 'response_time': 1.73}\u001b[0m"
          ]
        },
        {
          "output_type": "stream",
          "name": "stderr",
          "text": [
            "\r카테고리 분류 진행 중:  57%|█████▋    | 57/100 [05:09<04:58,  6.94s/it]"
          ]
        },
        {
          "output_type": "stream",
          "name": "stdout",
          "text": [
            "\u001b[32;1m\u001b[1;3mBased on the search results, \"수호지\" (Water Margin) is a classic Chinese novel that is often categorized as a historical fiction. It tells the story of a group of outlaws and their struggles against corrupt officials, which aligns it closely with themes of history and literature. However, since it is primarily a work of fiction, it is best categorized under 문학 (literature).\n",
            "\n",
            "Final Answer: 문학\u001b[0m\n",
            "\n",
            "\u001b[1m> Finished chain.\u001b[0m\n",
            "\n",
            "\n",
            "\u001b[1m> Entering new AgentExecutor chain...\u001b[0m\n",
            "\u001b[32;1m\u001b[1;3mThought: I need to determine the category of the book \"(설민석의) 세계사 대모험.\" This title suggests a focus on history, as it includes \"세계사\" which translates to \"world history.\" \n",
            "Action: I will search for more information about the book to confirm its content and category.\n",
            "Action Input: \"(설민석의) 세계사 대모험 책\"\u001b[0mI will search for more information about the book to confirm its content and category. is not a valid tool, try one of [tavily_search]."
          ]
        },
        {
          "output_type": "stream",
          "name": "stderr",
          "text": [
            "카테고리 분류 진행 중:  58%|█████▊    | 58/100 [05:14<04:23,  6.27s/it]"
          ]
        },
        {
          "output_type": "stream",
          "name": "stdout",
          "text": [
            "\u001b[32;1m\u001b[1;3mThought: I need to determine the category of the book \"(설민석의) 세계사 대모험.\" This title suggests a focus on history, as it includes \"세계사\" which translates to \"world history.\" \n",
            "Action: I will search for more information about the book to confirm its content and category.\n",
            "Action Input: \"(설민석의) 세계사 대모험 책\"\u001b[0mI will search for more information about the book to confirm its content and category. is not a valid tool, try one of [tavily_search].\u001b[32;1m\u001b[1;3m\u001b[0m\n",
            "\n",
            "\u001b[1m> Finished chain.\u001b[0m\n",
            "⚠️ '(설민석의) 세계사 대모험.'에 대한 AI 답변이 유효하지 않습니다: 'Agent stopped due to iteration limit or time limit.'. '분류 실패'로 처리합니다.\n",
            "\n",
            "\n",
            "\u001b[1m> Entering new AgentExecutor chain...\u001b[0m\n",
            "\u001b[32;1m\u001b[1;3mThought: I need to determine the category of the book titled \"지구별 영웅들\" to accurately classify it. \n",
            "Action: tavily_search\n",
            "Action Input: \"지구별 영웅들 책\"\u001b[0m\u001b[36;1m\u001b[1;3m{'query': '지구별 영웅들 책', 'follow_up_questions': None, 'answer': None, 'images': [], 'results': [{'url': 'https://product.kyobobook.co.kr/detail/S000060548679', 'title': '[한국퍼킨스] 지구별 영웅들 (전 66권, 페이퍼북) | - 교보문고', 'content': '... 지구별 영웅들 (전 66권, 페이퍼북) | ... 종이책, 비도서(교보Only)상품: 구매 후 리뷰 e교환권 200원 / 한달 후 리뷰 e', 'score': 0.72278196, 'raw_content': None}, {'url': 'https://m.blog.naver.com/mugero/223051032640', 'title': '지구별 영웅들 인물사전 포함 전집 세트 전 78권 ... - 네이버 블로그', 'content': '지구별 영웅들 인물사전 포함 전집 세트 전 78권 28,900원 한국삐아제 초등 아동 어린이 책 국내 세계 인물 위인전 세계를 빛낸 100인 무게로 헌책방', 'score': 0.6755297, 'raw_content': None}, {'url': 'https://blog.naver.com/pigrella2/223708102442', 'title': \"초등 위인전 한국삐아제 '지구별영웅들' : 위인들의 현재 모습도 봄\", 'content': '책의 내용은 보통의 위인전과 마찬가지로 서사와 대화문이 위주가 된 전개입니다!! \\u200b. 아이들이 관심을 갖고 읽기에는 좋은것 같아요^^.', 'score': 0.63452125, 'raw_content': None}], 'response_time': 0.79}\u001b[0m"
          ]
        },
        {
          "output_type": "stream",
          "name": "stderr",
          "text": [
            "\r카테고리 분류 진행 중:  59%|█████▉    | 59/100 [05:19<04:03,  5.94s/it]"
          ]
        },
        {
          "output_type": "stream",
          "name": "stdout",
          "text": [
            "\u001b[32;1m\u001b[1;3mBased on the search results, \"지구별 영웅들\" appears to be a collection of biographies or stories about notable figures, particularly aimed at children. This suggests that the book is educational in nature, focusing on historical figures and their contributions. \n",
            "\n",
            "Final Answer: 교육\u001b[0m\n",
            "\n",
            "\u001b[1m> Finished chain.\u001b[0m\n",
            "\n",
            "\n",
            "\u001b[1m> Entering new AgentExecutor chain...\u001b[0m\n",
            "\u001b[32;1m\u001b[1;3mThought: I need to categorize a book that is about survival comics and ecological knowledge. This suggests a focus on nature and possibly education about ecological systems. \n",
            "Action: tavily_search\n",
            "Action Input: \"서바이벌 만화 생태상식 책\"\u001b[0m\u001b[36;1m\u001b[1;3m{'query': '서바이벌 만화 생태상식 책', 'follow_up_questions': None, 'answer': None, 'images': [], 'results': [{'url': 'https://m.yes24.com/Goods/Detail/115572506', 'title': '서바이벌 만화 자연생태상식 살아남기시리즈 31권세트 - 예스24', 'content': '서바이벌 만화 자연생태상식 살아남기시리즈 31권세트(전31권) 서바이벌 만화 생태상식 시리즈는 인기 아동 학습 만화 기획자 코믹컴과 작가 네모가 만나,', 'score': 0.77364457, 'raw_content': None}, {'url': 'https://www.aladin.co.kr/shop/wproduct.aspx?ItemId=15146441&srsltid=AfmBOor64HmuWY6SyFyg_kERI7J388WG5fz8y9HaimSnlNzQCkCl9XlE', 'title': '서바이벌 만화 생태상식 시리즈 정글에서 살아남기 10권세트 - 알라딘', 'content': '서바이벌 만화 생태상식 시리즈 정글에서 살아남기 10권세트 ; 정가. 107,000원 ; 판매가. 96,300원 (10% 할인) ; 출고예상일. 통상 72시간 이내 ; 배송료. 무료, 도서/산간', 'score': 0.76888984, 'raw_content': None}, {'url': 'https://www.aladin.co.kr/shop/common/wseriesitem.aspx?SRID=20230&srsltid=AfmBOooCzsvz-7e10dYWyn9VPI4ak9QHhUo2hkKXhTLBjlJay6nZDB2X', 'title': '서바이벌 만화 생태상식 - 알라딘', 'content': '피너츠 투톤 쥬트백(2종 중 택1, 대상도서 1권 포함 어린이 분야 15,000원 이상); 정글에서 살아남기 10 - 완결 - 서바이벌 만화 생태상식 10 · 코믹컴 (지은이),', 'score': 0.7355091, 'raw_content': None}], 'response_time': 0.82}\u001b[0m"
          ]
        },
        {
          "output_type": "stream",
          "name": "stderr",
          "text": [
            "카테고리 분류 진행 중:  60%|██████    | 60/100 [05:24<03:46,  5.67s/it]"
          ]
        },
        {
          "output_type": "stream",
          "name": "stdout",
          "text": [
            "\u001b[32;1m\u001b[1;3mBased on the observation, the book series focuses on survival comics that educate readers about ecological knowledge and nature. This aligns closely with the category of nature, as it deals with ecological systems and survival in natural environments.\n",
            "\n",
            "Final Answer: 자연\u001b[0m\n",
            "\n",
            "\u001b[1m> Finished chain.\u001b[0m\n",
            "--- 중간 결과 저장 완료 (60/100) ---\n",
            "\n",
            "\n",
            "\u001b[1m> Entering new AgentExecutor chain...\u001b[0m\n",
            "\u001b[32;1m\u001b[1;3mThought: I need to determine the appropriate category for the book \"삼국지\" (Romance of the Three Kingdoms), which is a classic work of literature that often includes elements of history and strategy. \n",
            "Action: tavily_search\n",
            "Action Input: \"삼국지 책\" \u001b[0m\u001b[36;1m\u001b[1;3m{'query': '삼국지 책', 'follow_up_questions': None, 'answer': None, 'images': [], 'results': [{'url': 'http://hotdeal.koreadaily.com/product_detail.html?prd_idx=1472', 'title': '삼국지(전10권 세트)', 'content': '삼국지(전10권 세트). 저자:나관중 / 옮긴이:이문열 / 출판사: 알에이치코리아 ... 그러나 이 책을 시험 준비용 책이라고만 한다면 잘못된 평가다. 93년 한국출판', 'score': 0.6638657, 'raw_content': None}, {'url': 'https://namu.wiki/w/%EC%82%BC%EA%B5%AD%EC%A7%80/%EA%B4%80%EB%A0%A8%20%EC%9E%91%ED%92%88', 'title': '삼국지/관련 작품', 'content': '김홍신 평역 삼국지(1997): 국회의원이자 『인간시장』의 작가 김홍신이 엮은 10권짜리 삼국지. 재미 자체는 무난한 편으로, 다른 삼국지를 읽지 않은', 'score': 0.5826579, 'raw_content': None}, {'url': 'https://search.kyobobook.co.kr/search?keyword=%EC%82%BC%EA%B5%AD%EC%A7%80', 'title': '삼국지 검색결과', 'content': '[연재] 삼국지 - 간신전 · [웹소설] [연재] 삼국지 - 간신전 · 삼국지 역대급 재벌. [웹소설] 삼국지 역대급 재벌. · 삼국지: 흑산적 두령네 천재 아들. [웹소설] 삼국지:', 'score': 0.5035894, 'raw_content': None}], 'response_time': 1.18}\u001b[0m"
          ]
        },
        {
          "output_type": "stream",
          "name": "stderr",
          "text": [
            "\r카테고리 분류 진행 중:  61%|██████    | 61/100 [05:29<03:28,  5.34s/it]"
          ]
        },
        {
          "output_type": "stream",
          "name": "stdout",
          "text": [
            "\u001b[32;1m\u001b[1;3mBased on the observation, I see that \"삼국지\" is a well-known literary work that has historical significance and is often categorized under literature. \n",
            "\n",
            "Final Answer: 문학\u001b[0m\n",
            "\n",
            "\u001b[1m> Finished chain.\u001b[0m\n",
            "\n",
            "\n",
            "\u001b[1m> Entering new AgentExecutor chain...\u001b[0m\n",
            "\u001b[32;1m\u001b[1;3mThought: I need to determine the category of the book \"마법의 시간여행\" (Magic Time Travel). This title suggests elements of fantasy or adventure, which may relate to literature. \n",
            "Action: tavily_search\n",
            "Action Input: \"마법의 시간여행 책\"\u001b[0m\u001b[36;1m\u001b[1;3m{'query': '마법의 시간여행 책', 'follow_up_questions': None, 'answer': None, 'images': [], 'results': [{'url': 'https://namu.wiki/w/%EB%A7%88%EB%B2%95%EC%9D%98%20%EC%8B%9C%EA%B0%84%EC%97%AC%ED%96%89', 'title': '마법의 시간여행 - 나무위키', 'content': '메리 포프 오스본이 지은 아동 역사 챕터 북. 미국의 아동용 도서로 주인공은 잭 스미스와 그의 여동생 애니 스미스. 그 외에도 아서 왕 전설에 나오는 인물들[1]', 'score': 0.98597, 'raw_content': None}, {'url': 'https://bir.co.kr/book_series/%EB%A7%88%EB%B2%95%EC%9D%98-%EC%8B%9C%EA%B0%84%EC%97%AC%ED%96%89-%EA%B0%9C%EC%A0%95%ED%8C%90/', 'title': '마법의 시간여행(개정판) | 도서 시리즈 - 비룡소', 'content': '25년간 전 세계 어린이를 사로잡은 어린이 베스트셀러! 어린이를 책의 마법에 빠져 들게 하는 지식 교양 어드벤처 「마법의 시간여행 Magic Tree House」 시리즈의 개정판', 'score': 0.98243, 'raw_content': None}, {'url': 'https://m.blog.naver.com/roqur21/222109391206', 'title': '아이들에게 읽어주기 좋은 <마법의 시간여행>, Magic Tree House ...', 'content': '《뉴욕타임스》 베스트셀러 1위에도 오른 대표 작품 「마법의 시간 여행」 시리즈는 본격 어린이 교양서로, 전 세계 35개국에 출간되었고 25년 동안 어린', 'score': 0.97714, 'raw_content': None}], 'response_time': 1.28}\u001b[0m"
          ]
        },
        {
          "output_type": "stream",
          "name": "stderr",
          "text": [
            "\r카테고리 분류 진행 중:  62%|██████▏   | 62/100 [05:34<03:24,  5.39s/it]"
          ]
        },
        {
          "output_type": "stream",
          "name": "stdout",
          "text": [
            "\u001b[32;1m\u001b[1;3mBased on the observation, \"마법의 시간여행\" is a children's book series that combines elements of adventure and education, specifically focusing on historical themes. It is categorized as a children's educational adventure book. Therefore, the most appropriate category for this book is 문학, as it falls under the broader literary category for children's literature.\n",
            "\n",
            "Final Answer: 문학\u001b[0m\n",
            "\n",
            "\u001b[1m> Finished chain.\u001b[0m\n",
            "\n",
            "\n",
            "\u001b[1m> Entering new AgentExecutor chain...\u001b[0m\n",
            "\u001b[32;1m\u001b[1;3mThought: I need to find information about \"밀레니엄 북스\" to determine its category. \n",
            "Action: tavily_search\n",
            "Action Input: 밀레니엄 북스 책\u001b[0m\u001b[36;1m\u001b[1;3m{'query': '밀레니엄 북스 책', 'follow_up_questions': None, 'answer': None, 'images': [], 'results': [{'url': 'https://www.aladin.co.kr/m/mseriesitem.aspx?SRID=27950&srsltid=AfmBOopfDcx2KQiFEUTaV6Y3Jw-Cq_b5ekmRqLhm-5HGEu67JcEDUnTZ', 'title': '밀레니엄 북스 - 알라딘', 'content': '[전자책] 학문의 진보 - 밀레니엄 북스 98 · 프랜시스 베이컨 (지은이), 이종구 (옮긴이) · 신원문화사 | 2011년 10월 | 2011년 10월 · 6,500원 (320원) 종이책 정가 대비 57%', 'score': 0.63125396, 'raw_content': None}, {'url': 'https://www.yes24.com/24/Category/Series/001001005006?SeriesNumber=247', 'title': '밀레니엄 북스 - 예스24', 'content': '이한음의 과학소설. 신춘문예를 통해 등단한 후 꾸준한 작품활동을 보이고 있는 저자는 과학 전공자 답게 기발한 상상력이 돋보이는 SF추리 콩트물을 선뵈왔다. 이 책의', 'score': 0.6205532, 'raw_content': None}, {'url': 'https://m.yes24.com/goods/detail/6977877', 'title': '밀레니엄북스 세트 - 예스24', 'content': '그래서 고전 작품 읽기는 어릴 적부터 권장되고, 평생을 두고 누구나 꼭 읽어야 할 것으로 여긴다. 밀레니엄 북스는 국내 및 세계적으로 널리 알려졌으며, 반드시 읽어야', 'score': 0.4718322, 'raw_content': None}], 'response_time': 1.58}\u001b[0m"
          ]
        },
        {
          "output_type": "stream",
          "name": "stderr",
          "text": [
            "\r카테고리 분류 진행 중:  63%|██████▎   | 63/100 [05:40<03:18,  5.36s/it]"
          ]
        },
        {
          "output_type": "stream",
          "name": "stdout",
          "text": [
            "\u001b[32;1m\u001b[1;3mBased on the search results, \"밀레니엄 북스\" appears to be a series of books that includes various genres, including science fiction and literature. The references to authors and the nature of the content suggest a focus on literary works and possibly educational themes. \n",
            "\n",
            "Final Answer: 문학\u001b[0m\n",
            "\n",
            "\u001b[1m> Finished chain.\u001b[0m\n",
            "\n",
            "\n",
            "\u001b[1m> Entering new AgentExecutor chain...\u001b[0m\n",
            "\u001b[32;1m\u001b[1;3mThought: I need to determine the appropriate category for the book titled \"(코믹 메이플스토리) 수학 도둑:기본편\". The title suggests a focus on mathematics, possibly in a comic format aimed at making math engaging or accessible. \n",
            "Action: tavily_search\n",
            "Action Input: \"(코믹 메이플스토리) 수학 도둑:기본편 책\"\u001b[0m\u001b[36;1m\u001b[1;3m{'query': '(코믹 메이플스토리) 수학 도둑:기본편 책', 'follow_up_questions': None, 'answer': None, 'images': [], 'results': [{'url': 'https://www.aladin.co.kr/shop/wproduct.aspx?ItemId=180153013&srsltid=AfmBOopv7I6VSJ4EVYCvmeCu5hRkZlpAOxoKlfFtM8MlAEWEa5qt1yN0', 'title': '코믹 메이플 스토리 수학도둑 16~30 기본편 2 세트 - 전15권 - 알라딘', 'content': '코믹 메이플 스토리 수학도둑 16~30 기본편 2 세트 - 전15권 검색 국내 최초 수학논술만화 ; 정가. 108,000원 ; 배송료. 무료 ; 전자책. 전자책 출간알림 신청.', 'score': 0.98559, 'raw_content': None}, {'url': 'https://m.yes24.com/goods/detail/69319087', 'title': '수학도둑1-15번 수학도둑 기본편 15권세트/코믹 메이플스토리+ ...', 'content': '전집 수학도둑1-15번 수학도둑 기본편 15권세트/코믹 메이플스토리+비매품도서. 수학도둑 기본편 15권세트 초등 학습 만화 비매품 도서증정.', 'score': 0.98347, 'raw_content': None}, {'url': 'https://ibookpark.com/product/%EC%BD%94%EB%AF%B9-%EB%A9%94%EC%9D%B4%ED%94%8C-%EC%8A%A4%ED%86%A0%EB%A6%AC-%EC%88%98%ED%95%99%EB%8F%84%EB%91%91-62/', 'title': '코믹 메이플 스토리 수학도둑 62 - IBOOKPARK INC.', 'content': '수학도둑 1~30권의 기본편은 초·중등 교과과정을 종합하여 분류한 수와 연산, 도형, 측정, 확률과 통계, 규칙성, 문자와 식, 함수를 이해하고, 이를 바탕으로 개념이해력,', 'score': 0.9777, 'raw_content': None}], 'response_time': 0.85}\u001b[0m"
          ]
        },
        {
          "output_type": "stream",
          "name": "stderr",
          "text": [
            "\r카테고리 분류 진행 중:  64%|██████▍   | 64/100 [05:45<03:14,  5.41s/it]"
          ]
        },
        {
          "output_type": "stream",
          "name": "stdout",
          "text": [
            "\u001b[32;1m\u001b[1;3mBased on the observation, the book \"(코믹 메이플스토리) 수학 도둑:기본편\" is part of a series that focuses on mathematics in a comic format, aimed at making math engaging for readers, particularly children. This aligns it closely with educational content, specifically in the field of mathematics.\n",
            "\n",
            "Final Answer: 수학\u001b[0m\n",
            "\n",
            "\u001b[1m> Finished chain.\u001b[0m\n",
            "\n",
            "\n",
            "\u001b[1m> Entering new AgentExecutor chain...\u001b[0m\n",
            "\u001b[32;1m\u001b[1;3mThought: I need to determine the appropriate category for the book titled \"수학자가 들려주는 수학 이야기 책,\" which translates to \"A Mathematician Tells a Story about Mathematics.\" This title suggests a focus on mathematics, likely presenting mathematical concepts or stories in an engaging way. \n",
            "Action: I will use the search tool to find more information about this book to confirm its content and category.\n",
            "Action Input: \"수학자가 들려주는 수학 이야기 책\"\u001b[0mI will use the search tool to find more information about this book to confirm its content and category. is not a valid tool, try one of [tavily_search]."
          ]
        },
        {
          "output_type": "stream",
          "name": "stderr",
          "text": [
            "카테고리 분류 진행 중:  65%|██████▌   | 65/100 [05:50<03:04,  5.28s/it]"
          ]
        },
        {
          "output_type": "stream",
          "name": "stdout",
          "text": [
            "\u001b[32;1m\u001b[1;3mThought: I need to determine the appropriate category for the book titled \"수학자가 들려주는 수학 이야기 책,\" which translates to \"A Mathematician Tells a Story about Mathematics.\" This title suggests a focus on mathematics, likely presenting mathematical concepts or stories in an engaging way. \n",
            "Action: I will use the search tool to find more information about this book to confirm its content and category.\n",
            "Action Input: \"수학자가 들려주는 수학 이야기 책\"\u001b[0mI will use the search tool to find more information about this book to confirm its content and category. is not a valid tool, try one of [tavily_search].\u001b[32;1m\u001b[1;3m\u001b[0m\n",
            "\n",
            "\u001b[1m> Finished chain.\u001b[0m\n",
            "⚠️ '수학자가 들려주는 수학 이야기'에 대한 AI 답변이 유효하지 않습니다: 'Agent stopped due to iteration limit or time limit.'. '분류 실패'로 처리합니다.\n",
            "\n",
            "\n",
            "\u001b[1m> Entering new AgentExecutor chain...\u001b[0m\n",
            "\u001b[32;1m\u001b[1;3mThought: I need to determine the category of the book \"달려라 슛돌이\". This title suggests it may be related to sports or children's literature, but I need to confirm its content and context to categorize it accurately.\n",
            "Action: tavily_search\n",
            "Action Input: \"달려라 슛돌이 책 내용\"\u001b[0m\u001b[36;1m\u001b[1;3m{'query': '달려라 슛돌이 책 내용', 'follow_up_questions': None, 'answer': None, 'images': [], 'results': [{'url': 'https://www.aladin.co.kr/shop/wproduct.aspx?ItemId=513787', 'title': '달려라 슛돌이 9 - 공포의 축구화 블랙 스콜피오, 개정판 - 알라딘', 'content': \"섬마을에서 축구에 대한 꿈을 키워가던 오필승은 좋아하는 축구를 하기 위해 봇짐 하나를 달랑 메고 무작정 서울에 올라온다. 유소년 축구팀 레드 클럽에 가입한 필승에게는 자신도 모르는 비밀 무기 공포의 축구화 '블랙 스콜피오'가 있다.\", 'score': 0.9852, 'raw_content': None}, {'url': 'https://m.yes24.com/goods/detail/379302', 'title': '달려라 슛돌이 1 - 예스24', 'content': \"세계적인 축구 선수가 꿈인 소년 오필승. '레드 클럽'이라는 축구 클럽에 가입하고 우연히 손에 넣은 마법의 축구화 블랙 스콜피오의 비밀을 모른채 마냥 꿈에 부풀어 서울\", 'score': 0.98266, 'raw_content': None}, {'url': 'https://www.aladin.co.kr/shop/wproduct.aspx?ItemId=420969&srsltid=AfmBOoqyK0XSfcsr-6-2E2kCp3tDSwrEMBz5sZUK-Vu7gqQmtZJcJsFm', 'title': '달려라 슛돌이 1 - 공포의 축구화 블랙 스콜피오, 개정판 - 알라딘', 'content': '200만부 이상의 단행본 판매를 올린 청소년 만화 의 인기 만화가 박산하의 첫 번째 아동용 창작만화이다. 2003년 발행되었던 의 개정판으로, 2006년 독일 월드컵을', 'score': 0.97935, 'raw_content': None}], 'response_time': 1.01}\u001b[0m"
          ]
        },
        {
          "output_type": "stream",
          "name": "stderr",
          "text": [
            "\r카테고리 분류 진행 중:  66%|██████▌   | 66/100 [05:56<03:00,  5.32s/it]"
          ]
        },
        {
          "output_type": "stream",
          "name": "stdout",
          "text": [
            "\u001b[32;1m\u001b[1;3mBased on the observation, \"달려라 슛돌이\" is a children's comic book that revolves around soccer and the dreams of a young boy aspiring to become a professional player. This indicates that the book falls under children's literature, which is typically categorized as part of the broader literary category.\n",
            "\n",
            "Final Answer: 문학\u001b[0m\n",
            "\n",
            "\u001b[1m> Finished chain.\u001b[0m\n",
            "\n",
            "\n",
            "\u001b[1m> Entering new AgentExecutor chain...\u001b[0m\n",
            "\u001b[32;1m\u001b[1;3mThought: I need to determine the appropriate category for a book titled \"(손쉽게 배우는) 경제동화,\" which suggests it is related to economics and possibly aimed at educating readers about economic concepts in a simplified manner. \n",
            "Action: tavily_search\n",
            "Action Input: \"(손쉽게 배우는) 경제동화 책\"\u001b[0m\u001b[36;1m\u001b[1;3m{'query': '(손쉽게 배우는) 경제동화 책', 'follow_up_questions': None, 'answer': None, 'images': [], 'results': [{'url': 'https://m.yes24.com/Goods/Detail/4271463', 'title': '손쉽게 배우는 경제동화 (전60권) 6~8세 - 예스24', 'content': '상품정보1. 출판사 : 원더랜드2. 구성 : 전 60권3. 연령 : 4-7세4. 종류 : 사회, 문화, 경제◈ 상품설명◁ 전60권, 어린이 경제 경영, 리더십!◁', 'score': 0.9857, 'raw_content': None}, {'url': 'https://m.yes24.com/goods/detail/3618073', 'title': '손쉽게 배우는 경제동화(전60권)최신판!가격조정가능 - 예스24', 'content': '전집 손쉽게 배우는 경제동화(전60권)최신판!가격조정가능 ; YES포인트? ; 결제혜택: 카드/간편결제 혜택을 확인하세요 ; 쪽수, 무게, 크기: 1쪽 | 크기확인중 ; 상품정보안내.', 'score': 0.98306, 'raw_content': None}, {'url': 'https://product.kyobobook.co.kr/detail/S000060315951', 'title': '[원더랜드]손쉽게 배우는 경제동화(전60권) | - 교보문고', 'content': '경제라는 동화도 엄마들이 많이 관심있는 분야이다. 과학이나 위인 등의 책과 마찬가지로 경제라는 동화도 쉽게 그리고 재미나게 읽혀 나가야 할것이다. <<원더랜드>', 'score': 0.98057, 'raw_content': None}], 'response_time': 1.14}\u001b[0m"
          ]
        },
        {
          "output_type": "stream",
          "name": "stderr",
          "text": [
            "\r카테고리 분류 진행 중:  67%|██████▋   | 67/100 [06:01<02:59,  5.43s/it]"
          ]
        },
        {
          "output_type": "stream",
          "name": "stdout",
          "text": [
            "\u001b[32;1m\u001b[1;3mBased on the observation, the book \"(손쉽게 배우는) 경제동화\" is a collection of children's stories aimed at teaching economic concepts in a simplified manner. This indicates that the book is educational in nature, focusing on economics for young readers.\n",
            "\n",
            "Final Answer: 교육\u001b[0m\n",
            "\n",
            "\u001b[1m> Finished chain.\u001b[0m\n",
            "\n",
            "\n",
            "\u001b[1m> Entering new AgentExecutor chain...\u001b[0m\n",
            "\u001b[32;1m\u001b[1;3mThought: I need to determine the appropriate category for the book titled \"(만화로 만나는)20세기의 큰인물,\" which translates to \"Great Figures of the 20th Century through Comics.\" This suggests a focus on historical figures presented in a comic format, which may involve elements of both history and art. \n",
            "Action: I will search for more information about this book to clarify its primary focus.\n",
            "Action Input: \"(만화로 만나는)20세기의 큰인물 책\"\u001b[0mI will search for more information about this book to clarify its primary focus. is not a valid tool, try one of [tavily_search]."
          ]
        },
        {
          "output_type": "stream",
          "name": "stderr",
          "text": [
            "카테고리 분류 진행 중:  68%|██████▊   | 68/100 [06:08<03:01,  5.69s/it]"
          ]
        },
        {
          "output_type": "stream",
          "name": "stdout",
          "text": [
            "\u001b[32;1m\u001b[1;3mThought: I need to determine the appropriate category for the book titled \"(만화로 만나는)20세기의 큰인물,\" which translates to \"Great Figures of the 20th Century through Comics.\" This suggests a focus on historical figures presented in a comic format, which may involve elements of both history and art. \n",
            "Action: I will search for more information about this book to clarify its primary focus.\n",
            "Action Input: \"(만화로 만나는)20세기의 큰인물 책\"\u001b[0mI will search for more information about this book to clarify its primary focus. is not a valid tool, try one of [tavily_search].\u001b[32;1m\u001b[1;3m\u001b[0m\n",
            "\n",
            "\u001b[1m> Finished chain.\u001b[0m\n",
            "⚠️ '(만화로 만나는)20세기의 큰인물'에 대한 AI 답변이 유효하지 않습니다: 'Agent stopped due to iteration limit or time limit.'. '분류 실패'로 처리합니다.\n",
            "\n",
            "\n",
            "\u001b[1m> Entering new AgentExecutor chain...\u001b[0m\n",
            "\u001b[32;1m\u001b[1;3mThought: I need to determine the category of the book \"쿠키런 서바이벌 대작전\". This title suggests it may be related to a game or entertainment, but I need to confirm its content and context to categorize it accurately.\n",
            "Action: tavily_search\n",
            "Action Input: \"쿠키런 서바이벌 대작전 책 내용\"\u001b[0m\u001b[36;1m\u001b[1;3m{'query': '쿠키런 서바이벌 대작전 책 내용', 'follow_up_questions': None, 'answer': None, 'images': [], 'results': [{'url': 'https://blog.naver.com/tjsaudgml123/223292790264', 'title': '(도서리뷰) 쿠키런 서바이벌 대작전-50 모두의 마음이 하나로 편', 'content': '... 책 중에 하나인. 쿠키런 서바이벌 대작전!! \\u200b. 50권이 발간되었다는 기쁜 ... 내다보지 못한 미래가 발생하고! \\u200b. 위기에 처한 용감한 쿠키 일행들에게.', 'score': 0.7559439, 'raw_content': None}, {'url': 'https://namu.wiki/w/%EC%BF%A0%ED%82%A4%EB%9F%B0%20%EC%84%9C%EB%B0%94%EC%9D%B4%EB%B2%8C%20%EB%8C%80%EC%9E%91%EC%A0%84', 'title': '쿠키런 서바이벌 대작전 - 나무위키', 'content': '김강현 글, 김기수 그림.[1] 2015년 2월 26일 첫 출간되었다. 쿠키들이 정글이나 바다 등 온갖 곳을 탐험한다. 원작의 스토리 라인이나 지역을 어느', 'score': 0.6991933, 'raw_content': None}, {'url': 'https://product.kyobobook.co.kr/detail/S000203681800', 'title': '쿠키런 서바이벌 대작전 49: 쿠키들의 반격 편 | 김강현 - 교보문고', 'content': '이상한 점을 눈치챈 용감한 쿠키는 망고스틴맛 쿠키의 비밀을 알게 된다! 친구들과 용안 드래곤 쿠키의 무시무시한 계획을 막기로 하지만 쉽지 않은데', 'score': 0.55565286, 'raw_content': None}], 'response_time': 1.01}\u001b[0m"
          ]
        },
        {
          "output_type": "stream",
          "name": "stderr",
          "text": [
            "\r카테고리 분류 진행 중:  69%|██████▉   | 69/100 [06:14<02:58,  5.76s/it]"
          ]
        },
        {
          "output_type": "stream",
          "name": "stdout",
          "text": [
            "\u001b[32;1m\u001b[1;3mBased on the search results, \"쿠키런 서바이벌 대작전\" appears to be a book series related to the popular game \"Cookie Run,\" featuring adventures and explorations of cookie characters in various settings. The content seems to focus on storytelling and character development, which aligns with literary themes rather than educational or technical subjects.\n",
            "\n",
            "Final Answer: 문학\u001b[0m\n",
            "\n",
            "\u001b[1m> Finished chain.\u001b[0m\n",
            "\n",
            "\n",
            "\u001b[1m> Entering new AgentExecutor chain...\u001b[0m\n",
            "\u001b[32;1m\u001b[1;3mThought: I need to determine the category for the book titled \"새롭게 읽는 좋은 우리고전 책,\" which suggests it may involve classic literature or cultural themes. \n",
            "Action: tavily_search\n",
            "Action Input: \"새롭게 읽는 좋은 우리고전 책\"\u001b[0m\u001b[36;1m\u001b[1;3m{'query': '새롭게 읽는 좋은 우리고전 책', 'follow_up_questions': None, 'answer': None, 'images': [], 'results': [{'url': 'https://product.kyobobook.co.kr/detail/S000001115492', 'title': '삼국사기(새롭게 읽는 좋은 우리고전 11) | 김부식 - 교보문고', 'content': '이 책의 시리즈 (26)', 'score': 0.98585, 'raw_content': None}, {'url': 'https://www.yes24.com/24/Category/Series/001001016015001003?SeriesNumber=951', 'title': '새롭게읽는 좋은우리고전 - 예스24', 'content': '중고등학교 교과 과정에 수록된 고전들을 중심으로, 좀 더 깊이 있고 원본에 충실하게 정리하여 초등학교 저학년 어린이들이 읽기 쉽게 엮은 \"새롭게 읽은 좋은 우리 고전\"', 'score': 0.9811, 'raw_content': None}, {'url': 'https://www.aladin.co.kr/m/mseriesitem.aspx?SRID=95796&srsltid=AfmBOoqeqpcSXVp1rHsYRe4COJ5HTLplbi0gbOyLJnb_CMNFPEYiSl-L', 'title': '새롭게 읽는 좋은 우리 고전 : 알라딘', 'content': '[eBook] 임경업전 - 새롭게 읽는 좋은 우리 고전 19 - 새롭게 읽는 좋은 우리 고전 19 · 하상만 (엮은이), 류승옥 (그림) · 청솔 | 2015년 08월 | 2015년 08월 · 4,900원 (240', 'score': 0.98055, 'raw_content': None}], 'response_time': 0.95}\u001b[0m"
          ]
        },
        {
          "output_type": "stream",
          "name": "stderr",
          "text": [
            "카테고리 분류 진행 중:  70%|███████   | 70/100 [06:24<03:36,  7.21s/it]"
          ]
        },
        {
          "output_type": "stream",
          "name": "stdout",
          "text": [
            "\u001b[32;1m\u001b[1;3mBased on the observation, the book \"새롭게 읽는 좋은 우리고전 책\" is part of a series that focuses on classic literature, particularly those included in school curricula, and aims to present them in a way that is accessible to younger readers. This indicates that the book falls under the category of literature.\n",
            "\n",
            "Final Answer: 문학\u001b[0m\n",
            "\n",
            "\u001b[1m> Finished chain.\u001b[0m\n",
            "--- 중간 결과 저장 완료 (70/100) ---\n",
            "\n",
            "\n",
            "\u001b[1m> Entering new AgentExecutor chain...\u001b[0m\n",
            "\u001b[32;1m\u001b[1;3mThought: I need to determine the appropriate category for the book titled \"(학교 가기 전에 꼭 배워야 할)꼬마 과학 뒤집기.\" This title suggests a focus on science education for children. \n",
            "Action: tavily_search\n",
            "Action Input: \"(학교 가기 전에 꼭 배워야 할)꼬마 과학 뒤집기 책\"\u001b[0m\u001b[36;1m\u001b[1;3m{'query': '(학교 가기 전에 꼭 배워야 할)꼬마 과학 뒤집기 책', 'follow_up_questions': None, 'answer': None, 'images': [], 'results': [{'url': 'https://www.sungwoobook.com/', 'title': '(주)도서출판 성우', 'content': '과학을 처음 만나는 아이들을 위해. 과학 감성을 길러 주는 과학 그림책입니다. 구매후기 이미지. 학교 가기 전에 꼭 배워야 할. 꼬마 뒤집기 시리즈. 꼬마 뒤집기', 'score': 0.8747745, 'raw_content': None}, {'url': 'https://www.gurilib.go.kr/banglib/program/searchResultDetail.do?searchType=POPULAR_MONTH&bookKey=137929830&speciesKey=137929828&isbn=9788958857693&pubFormCode=MO', 'title': '교문방정환도서관 - 통합검색', 'content': '(학교 가기 전에 꼭 배워야 할) 꼬마 과학 뒤집기 : 인체와 건강. 6, 탄생과 성장:꼬물이는 어떻게 아기가 될까?', 'score': 0.85624856, 'raw_content': None}, {'url': 'https://blog.naver.com/2825999/223377890159?viewType=pc', 'title': '학교에 가기전에 꼭 읽어야하는 꼬마과학 뒤집기', 'content': '안녕하세요.. · 꼬마과학 뒤집기 표지와 첫장면지 입니다. · 본문 : 학습과 딱 맞게 어우러진 재미있는 스토리 · 본문 : 학습과 딱 맞게 어우려진 정보 !', 'score': 0.73755574, 'raw_content': None}], 'response_time': 1.71}\u001b[0m"
          ]
        },
        {
          "output_type": "stream",
          "name": "stderr",
          "text": [
            "\r카테고리 분류 진행 중:  71%|███████   | 71/100 [06:32<03:32,  7.33s/it]"
          ]
        },
        {
          "output_type": "stream",
          "name": "stdout",
          "text": [
            "\u001b[32;1m\u001b[1;3mBased on the observation, the book \"(학교 가기 전에 꼭 배워야 할)꼬마 과학 뒤집기\" is focused on introducing science concepts to children, which aligns with educational content in the field of science. \n",
            "\n",
            "Final Answer: 과학\u001b[0m\n",
            "\n",
            "\u001b[1m> Finished chain.\u001b[0m\n",
            "\n",
            "\n",
            "\u001b[1m> Entering new AgentExecutor chain...\u001b[0m\n",
            "\u001b[32;1m\u001b[1;3mThought: I need to determine the appropriate category for the book titled \"세계인물 학습만화=Who? 책\". This title suggests it may involve learning about notable figures or personalities, which could relate to history or education. \n",
            "Action: tavily_search\n",
            "Action Input: \"세계인물 학습만화=Who? 책\"\u001b[0m\u001b[36;1m\u001b[1;3m{'query': '세계인물 학습만화=Who? 책', 'follow_up_questions': None, 'answer': None, 'images': [], 'results': [{'url': 'https://m.yes24.com/Goods/Detail/12554819', 'title': '[최신개정판] 세계인물학습만화 후 who?시리즈 1~50권 세트 - 예스24', 'content': 'NO.1 위인전 브랜드 who? 시리즈!지금까지 없었던 새로운 위인전으로 no.1 브랜드가 되다!위인들의 실패와 고난을 통해 어린이 스스로 꿈을 향해 나아갈 힘을 길러주는', 'score': 0.7352811, 'raw_content': None}, {'url': 'https://product.kyobobook.co.kr/detail/S000000991717', 'title': '세계인물학습만화 WHO(1-30권 세트)(한글판) | 안형모 - 교보문고', 'content': '아이들이 닮고 싶고 되고 싶은 위인의 이야기를 실어낸 『세계인물교양만화 WHO 1-30권 세트』 전30권. 교과서 분석은 물론, 부모와 교사를 포함한 설문 조사 등을', 'score': 0.6628188, 'raw_content': None}, {'url': 'https://namu.wiki/w/who%3F', 'title': 'who? - 나무위키', 'content': '아이들이 가장 만나고 싶고, 닮고 싶어하는 현대 인물 이야기. 각 분야의 최고의 자리에 오른 글로벌 멘토를 소개한다는 취지로 기획되었다.', 'score': 0.50183165, 'raw_content': None}], 'response_time': 0.89}\u001b[0m"
          ]
        },
        {
          "output_type": "stream",
          "name": "stderr",
          "text": [
            "\r카테고리 분류 진행 중:  72%|███████▏  | 72/100 [06:37<03:04,  6.60s/it]"
          ]
        },
        {
          "output_type": "stream",
          "name": "stdout",
          "text": [
            "\u001b[32;1m\u001b[1;3mBased on the Observation, I now know that the book \"세계인물 학습만화=Who? 책\" is a series that focuses on notable figures and their stories, aimed at educating children about these personalities. This aligns closely with the category of education.\n",
            "\n",
            "Final Answer: 교육\u001b[0m\n",
            "\n",
            "\u001b[1m> Finished chain.\u001b[0m\n",
            "\n",
            "\n",
            "\u001b[1m> Entering new AgentExecutor chain...\u001b[0m\n",
            "\u001b[32;1m\u001b[1;3mThought: I need to find information about the book \"내일은 발명왕\" to determine its category. \n",
            "Action: tavily_search\n",
            "Action Input: \"내일은 발명왕 책\"\u001b[0m\u001b[36;1m\u001b[1;3m{'query': '내일은 발명왕 책', 'follow_up_questions': None, 'answer': None, 'images': [], 'results': [{'url': 'https://namu.wiki/w/%EB%82%B4%EC%9D%BC%EC%9D%80%20%EB%B0%9C%EB%AA%85%EC%99%95', 'title': '내일은 발명왕', 'content': '한국의 학습만화 시리즈. 미래엔 아이세움 출판사에서 발간했고, 스토리는 곰돌이Co., 작화는 《내일은 실험왕》을 그린 홍종현[1]이 담당했다.', 'score': 0.87139857, 'raw_content': None}, {'url': 'https://ibookpark.com/product/%EB%82%B4%EC%9D%BC%EC%9D%80-%EB%B0%9C%EB%AA%85%EC%99%95-1-10-%EC%84%B8%ED%8A%B8-%EC%A0%8410%EA%B6%8C/', 'title': '내일은 발명왕 1-10 세트 (전10권)', 'content': '내일은 발명왕 1-10 세트 (전10권) · 영역: 과학학습만화 · 연령: 초등전학년 · 구성: 전 10권-각 권 실험키트 포함 · 배송: 미국내 배송비 무료 · 출판사: 미래엔아이세움.', 'score': 0.7602419, 'raw_content': None}, {'url': 'https://www.aladin.co.kr/m/mseriesitem.aspx?SRID=26004&srsltid=AfmBOoqGUAPU67X_5MW7zXKI7lIF88AStp1UjudsWpCWm51o82c9eF2Y', 'title': '내일은 발명왕', 'content': '피너츠 투톤 쥬트백(택1, 대상도서 15,000원 이상 구매 시); 내일은 발명왕 43 - 비공식 전기 발명 대결 - 내일은 발명왕 43 · 곰돌이 co. (지은이), 홍종현 (그림)', 'score': 0.73868835, 'raw_content': None}], 'response_time': 1.4}\u001b[0m"
          ]
        },
        {
          "output_type": "stream",
          "name": "stderr",
          "text": [
            "\r카테고리 분류 진행 중:  73%|███████▎  | 73/100 [06:42<02:51,  6.34s/it]"
          ]
        },
        {
          "output_type": "stream",
          "name": "stdout",
          "text": [
            "\u001b[32;1m\u001b[1;3mBased on the search results, \"내일은 발명왕\" is a Korean educational comic series published by 미래엔 아이세움, focusing on science and inventions. It is categorized as a science learning comic for elementary school students. \n",
            "\n",
            "Final Answer: 과학\u001b[0m\n",
            "\n",
            "\u001b[1m> Finished chain.\u001b[0m\n",
            "\n",
            "\n",
            "\u001b[1m> Entering new AgentExecutor chain...\u001b[0m\n",
            "\u001b[32;1m\u001b[1;3mThought: I need to determine the category of the book \"코믹 메이플스토리 수학도둑.\" Since it includes \"수학\" in the title, it likely relates to mathematics or educational content. \n",
            "Action: tavily_search\n",
            "Action Input: \"코믹 메이플스토리 수학도둑 책\"\u001b[0m\u001b[36;1m\u001b[1;3m{'query': '코믹 메이플스토리 수학도둑 책', 'follow_up_questions': None, 'answer': None, 'images': [], 'results': [{'url': 'https://page.kakao.com/content/47391946?tab_type=notice', 'title': '수학도둑_코믹 메이플스토리 - 책 - 카카오페이지', 'content': '수학도둑은 수학과 논술을 접목시킨 만화로서 아이들이 좋아하는 메이플스토리의 주인공들이 수학적 계산을 이용하여 사건을 해결해나가는 이야기가 들어 있습니다.', 'score': 0.8312667, 'raw_content': None}, {'url': 'https://www.aladin.co.kr/m/mseriesitem.aspx?SRID=23526', 'title': '코믹 메이플 스토리 수학도둑 - 알라딘', 'content': '코믹 메이플 스토리 수학도둑 81~98 세트 - 전18권 - 국내 최초 수학 논술만화 - 코믹 메이플 스토리 수학도둑', 'score': 0.7898345, 'raw_content': None}, {'url': 'https://namu.wiki/w/%EC%88%98%ED%95%99%EB%8F%84%EB%91%91', 'title': '수학도둑 - 나무위키', 'content': '대한민국의 수학 학습만화. 코믹 메이플스토리를 원작으로 한 서울문화사 도둑시리즈의 첫 번째 주자다. 스토리는 코믹 메이플스토리의 작가인 송도수', 'score': 0.75809944, 'raw_content': None}], 'response_time': 1.45}\u001b[0m"
          ]
        },
        {
          "output_type": "stream",
          "name": "stderr",
          "text": [
            "\r카테고리 분류 진행 중:  74%|███████▍  | 74/100 [06:48<02:38,  6.10s/it]"
          ]
        },
        {
          "output_type": "stream",
          "name": "stdout",
          "text": [
            "\u001b[32;1m\u001b[1;3mBased on the Observation, I now know that \"코믹 메이플스토리 수학도둑\" is a comic that combines mathematics with storytelling, specifically aimed at children. It is categorized as a math learning comic. \n",
            "\n",
            "Final Answer: 수학\u001b[0m\n",
            "\n",
            "\u001b[1m> Finished chain.\u001b[0m\n",
            "\n",
            "\n",
            "\u001b[1m> Entering new AgentExecutor chain...\u001b[0m\n",
            "\u001b[32;1m\u001b[1;3mThought: I need to categorize the book \"영웅문\" (The Legend of the Condor Heroes), which is a novel. \n",
            "Action: tavily_search\n",
            "Action Input: \"영웅문 책\" \u001b[0m\u001b[36;1m\u001b[1;3m{'query': '영웅문 책', 'follow_up_questions': None, 'answer': None, 'images': [], 'results': [{'url': 'https://namu.wiki/w/%EC%98%81%EC%9B%85%EB%AC%B8', 'title': '영웅문', 'content': \"김용의 3부작 무협 소설 사조삼부곡(射鵰三部曲)의 한국 내 별칭. 홍콩의 작가 김용이 쓴 사조삼부곡을 1986년 고려원에서 '영웅문(英雄門)'이라는 제목으로 출판\", 'score': 0.70726365, 'raw_content': None}, {'url': 'https://namu.wiki/w/%EC%98%81%EC%9B%85%EB%AC%B8?uuid=f702db57-de20-4ae7-a93b-1464f43a8072', 'title': '영웅문 (r60 판)', 'content': '홍콩의 소설가 김용의 3부작 무협 소설 사조영웅전, 신조협려, 의천도룡기의 해적판. 1986년 고려원에서 번역 출간했다. 원제는 사조삼부곡(射雕三部曲)이지만,', 'score': 0.63179934, 'raw_content': None}, {'url': 'https://m.blog.naver.com/baram0214hana/221289698385', 'title': \"무협지 추천-김용 '영웅문' - 네이버 블로그\", 'content': '교훈과 재미를 두루 갖춘 고전으로, 시간이 흐를 수록 유명해질 소설이므로 어른들도 꼭 읽어야 한다고 했다. \\u200b. 1부 : 사조영웅전(6권).', 'score': 0.5976789, 'raw_content': None}], 'response_time': 1.32}\u001b[0m"
          ]
        },
        {
          "output_type": "stream",
          "name": "stderr",
          "text": [
            "\r카테고리 분류 진행 중:  75%|███████▌  | 75/100 [06:56<02:45,  6.63s/it]"
          ]
        },
        {
          "output_type": "stream",
          "name": "stdout",
          "text": [
            "\u001b[32;1m\u001b[1;3mBased on the observation, I now know that \"영웅문\" is a novel written by the Hong Kong author Jin Yong, categorized as a martial arts fiction (무협 소설). Therefore, it falls under the category of literature.\n",
            "\n",
            "Final Answer: 문학\u001b[0m\n",
            "\n",
            "\u001b[1m> Finished chain.\u001b[0m\n",
            "\n",
            "\n",
            "\u001b[1m> Entering new AgentExecutor chain...\u001b[0m\n",
            "\u001b[32;1m\u001b[1;3mThought: I need to categorize the book \"로스트! =Lost! :어린이를 위한 신나는 과학 동화 책\" which appears to be a children's science storybook. \n",
            "Action: tavily_search\n",
            "Action Input: \"로스트! =Lost! :어린이를 위한 신나는 과학 동화 책\"\u001b[0m\u001b[36;1m\u001b[1;3m{'query': '로스트! =Lost! :어린이를 위한 신나는 과학 동화 책', 'follow_up_questions': None, 'answer': None, 'images': [], 'results': [{'url': 'http://www.yes24.com/24/Category/Series/001001016001013003?SeriesNumber=111333', 'title': '로스트! 어린이를 위한 신나는 과학', 'content': \"『LOST』시리즈는 미국 랜덤하우스 출판사에서 『마법의 시간여행』에 이어 펴내고 있는 어린이용 과학 동화 시리즈이다. 국내에서도 널리 읽힌 『마법의 시간여행』에서 '\", 'score': 0.98592, 'raw_content': None}, {'url': 'https://www.aladin.co.kr/shop/wproduct.aspx?ItemId=4785547&srsltid=AfmBOooXwwmnlGrQH6qiD9YA3Fv0hRbS25WRRwnnHgT6ECangtETYpug', 'title': '어린이를 위한 신나는 과학 동화 LOST 시리즈 세트 - 전18권', 'content': '어린이를 위한 신나는 과학 동화 LOST 시리즈 세트 - 전18권 검색 · 정가. 144,000원 · 판매가. 129,600원 (10% 할인) + 마일리지 7,200원. 마일리지 적립 · 부록. 아이들과', 'score': 0.9835, 'raw_content': None}, {'url': 'https://www.yes24.com/24/Category/Series/001001016021004?SeriesNumber=111333', 'title': '로스트! 어린이를 위한 신나는 과학', 'content': \"『LOST』시리즈는 미국 랜덤하우스 출판사에서 『마법의 시간여행』에 이어 펴내고 있는 어린이용 과학 동화 시리즈이다. 국내에서도 널리 읽힌 『마법의 시간여행』에서 '\", 'score': 0.97873, 'raw_content': None}], 'response_time': 1.45}\u001b[0m"
          ]
        },
        {
          "output_type": "stream",
          "name": "stderr",
          "text": [
            "\r카테고리 분류 진행 중:  76%|███████▌  | 76/100 [07:02<02:35,  6.46s/it]"
          ]
        },
        {
          "output_type": "stream",
          "name": "stdout",
          "text": [
            "\u001b[32;1m\u001b[1;3mBased on the observation, I can confirm that the book \"로스트! =Lost! :어린이를 위한 신나는 과학 동화 책\" is part of a children's science story series. Therefore, it fits well within the category of science.\n",
            "\n",
            "Final Answer: 과학\u001b[0m\n",
            "\n",
            "\u001b[1m> Finished chain.\u001b[0m\n",
            "\n",
            "\n",
            "\u001b[1m> Entering new AgentExecutor chain...\u001b[0m\n",
            "\u001b[32;1m\u001b[1;3mThought: I need to determine the category of the book \"비밀요원 레너드\" to accurately classify it. \n",
            "Action: tavily_search\n",
            "Action Input: \"비밀요원 레너드 책\"\u001b[0m\u001b[36;1m\u001b[1;3m{'query': '비밀요원 레너드 책', 'follow_up_questions': None, 'answer': None, 'images': [], 'results': [{'url': 'https://www.yes24.com/24/Category/Series/001001016?SeriesNumber=263343', 'title': '비밀요원 레너드 - 예스24', 'content': '『비밀요원 레너드』는 국내 최초로 선보이는 글로벌 인기 캐릭터 라인프렌즈의 미스터리 동화다. 라인프렌즈의 오리지널 캐릭터인 레너드가 미스터리 요원으로 변신해 전', 'score': 0.98586, 'raw_content': None}, {'url': 'https://www.aladin.co.kr/m/mseriesitem.aspx?SRID=849738&srsltid=AfmBOoqdD7YP-sU6B41vCuwbPGZrw4NRLvS64kDA02JqfdCqPIjGN9YU', 'title': '비밀요원 레너드 : 알라딘', 'content': '야코 내열유리컵(대상도서 1만 원 이상 구매 시) · 비밀요원 레너드 11~20 정가 인하 세트B - 전10권 - 비밀요원 레너드 · 박설연 (지은이), 김덕영 (그림) · 아울북 | 2024년', 'score': 0.98169, 'raw_content': None}, {'url': 'http://www.book21.com/book/book_series.html?series_no=315', 'title': '비밀요원 레너드 시리즈 도서 목록 - Book21', 'content': '모바일 페이지용 메뉴. 페이지 타이틀 비밀요원 레너드 23권. 비밀요원 레너드 23 식인 식물을 물리쳐라! 브랜드 : 아울북 저자 : 박설연 발간일 : 2025-04-28', 'score': 0.9795, 'raw_content': None}], 'response_time': 0.98}\u001b[0m"
          ]
        },
        {
          "output_type": "stream",
          "name": "stderr",
          "text": [
            "\r카테고리 분류 진행 중:  77%|███████▋  | 77/100 [07:07<02:16,  5.95s/it]"
          ]
        },
        {
          "output_type": "stream",
          "name": "stdout",
          "text": [
            "\u001b[32;1m\u001b[1;3mBased on the search results, \"비밀요원 레너드\" is described as a mystery children's book featuring a character from the global popular Line Friends series. This indicates that the book falls under the category of literature, specifically children's literature with a mystery theme.\n",
            "\n",
            "Final Answer: 문학\u001b[0m\n",
            "\n",
            "\u001b[1m> Finished chain.\u001b[0m\n",
            "\n",
            "\n",
            "\u001b[1m> Entering new AgentExecutor chain...\u001b[0m\n",
            "\u001b[32;1m\u001b[1;3mThought: I need to determine the appropriate category for the book titled \"(코믹 메이플스토리) 수학도둑:기본편.\" This title suggests a focus on mathematics, possibly in a comic format aimed at making math concepts more accessible or entertaining. \n",
            "Action: tavily_search\n",
            "Action Input: \"(코믹 메이플스토리) 수학도둑:기본편\" 책\u001b[0m\u001b[36;1m\u001b[1;3m{'query': '(코믹 메이플스토리) 수학도둑:기본편\" 책', 'follow_up_questions': None, 'answer': None, 'images': [], 'results': [{'url': 'https://m.yes24.com/Goods/Detail/125648280', 'title': '코믹 메이플스토리 수학도둑 기본편 1~30권세트', 'content': '코믹 메이플스토리 수학도둑 기본편 1~30권세트(전30권) 수학과 논술을 접목시킨 만화로서 아이들이 좋아하는 메이플스토리의 주인공들이 수학적 계산을 이용하여 사건', 'score': 0.83093774, 'raw_content': None}, {'url': 'https://www.aladin.co.kr/shop/wproduct.aspx?ItemId=180153013&srsltid=AfmBOoop5aUT2oFQVZ3KLsXM1RG9I1PghnBWXqxBng6MaCkFUUK9xKLk', 'title': '코믹 메이플 스토리 수학도둑 16~30 기본편 2 세트 - 전15권', 'content': '코믹 메이플 스토리 수학도둑 16~30 기본편 2 세트 - 전15권 검색 국내 최초 수학논술만화 ; 정가. 108,000원 ; 배송료. 무료 ; 전자책. 전자책 출간알림 신청.', 'score': 0.7593865, 'raw_content': None}, {'url': 'https://www.aladin.co.kr/shop/wproduct.aspx?ItemId=192191304&srsltid=AfmBOoqNsY1yCHF-jP33JVz91LaO16rG8cKWqPGLPgZXe9hTmRpRMIV6', 'title': '코믹 메이플 스토리 수학도둑 1~15 세트 - 전15권', 'content': '코믹 메이플 스토리 수학도둑 1~15 세트 - 전15권 국내 최초 수학논술만화 ; 정가. 126,000원 ; 배송료. 무료 ; 전자책. 전자책 출간알림 신청.', 'score': 0.6337056, 'raw_content': None}], 'response_time': 1.04}\u001b[0m"
          ]
        },
        {
          "output_type": "stream",
          "name": "stderr",
          "text": [
            "\r카테고리 분류 진행 중:  78%|███████▊  | 78/100 [07:12<02:09,  5.87s/it]"
          ]
        },
        {
          "output_type": "stream",
          "name": "stdout",
          "text": [
            "\u001b[32;1m\u001b[1;3mBased on the observation, the book \"(코믹 메이플스토리) 수학도둑:기본편\" is a comic series that combines mathematics with storytelling, specifically aimed at children. This indicates a focus on educational content related to mathematics.\n",
            "\n",
            "Final Answer: 수학\u001b[0m\n",
            "\n",
            "\u001b[1m> Finished chain.\u001b[0m\n",
            "\n",
            "\n",
            "\u001b[1m> Entering new AgentExecutor chain...\u001b[0m\n",
            "\u001b[32;1m\u001b[1;3mThought: I need to determine the appropriate category for a book about world exploration, comics, and historical knowledge. This seems to involve elements of history and possibly education or literature. \n",
            "Action: tavily_search\n",
            "Action Input: \"세계 탐험 만화 역사상식 책\"\u001b[0m\u001b[36;1m\u001b[1;3m{'query': '세계 탐험 만화 역사상식 책', 'follow_up_questions': None, 'answer': None, 'images': [], 'results': [{'url': 'https://www.aladin.co.kr/m/mbrowse.aspx?CID=33775&srsltid=AfmBOorTHf7jhxZXSEkBmi63pD3FV6MBc1Bz_oJ7FqkyviTlkhCUAYf1', 'title': '세계 탐험 만화 역사상식 시리즈', 'content': '흔식이 미니 유리컵 (대상도서 1만 원 이상 구매 시) · 멕시코에서 보물찾기 - 세계 탐험 만화 역사상식 18 · 곰돌이 co. (지은이), 강경효 (그림) · 미래엔아이세움 | 2008년', 'score': 0.98559, 'raw_content': None}, {'url': 'https://www.yes24.com/product/category/series/001001016017004005?SeriesNumber=87613', 'title': '세계탐험 만화 역사상식', 'content': '유대교·기독교·이슬람교의 성지가 모여 있는 나라, 이스라엘가상의 숨겨진 보물을 찾는 주인공들의 세계 여행과 모험을 만화로 엮어 그 나라의 역사와 문화를 배울 수', 'score': 0.98105, 'raw_content': None}, {'url': 'https://ibookpark.com/product/%EB%AF%B8%EA%B5%AD%EC%97%90%EC%84%9C-%EB%B3%B4%EB%AC%BC%EC%B0%BE%EA%B8%B0-%EC%84%B8%EA%B3%84-%ED%83%90%ED%97%98-%EB%A7%8C%ED%99%94-%EC%97%AD%EC%82%AC%EC%83%81%EC%8B%9D-6/', 'title': '미국에서 보물찾기- 세계 탐험 만화 역사상식 6', 'content': '영역: 세계 탐험/ 만화 역사상식 연령: 초등전학년 구성: 반양장본 | 190쪽 | 257*188mm 배송: 단행본 두권이상 미국내 무료배송 출판사: 아이세움.', 'score': 0.98058, 'raw_content': None}], 'response_time': 1.56}\u001b[0m"
          ]
        },
        {
          "output_type": "stream",
          "name": "stderr",
          "text": [
            "\r카테고리 분류 진행 중:  79%|███████▉  | 79/100 [07:18<02:02,  5.85s/it]"
          ]
        },
        {
          "output_type": "stream",
          "name": "stdout",
          "text": [
            "\u001b[32;1m\u001b[1;3mBased on the Observation, I now know the final answer.\n",
            "Final Answer: 역사\u001b[0m\n",
            "\n",
            "\u001b[1m> Finished chain.\u001b[0m\n",
            "\n",
            "\n",
            "\u001b[1m> Entering new AgentExecutor chain...\u001b[0m\n",
            "\u001b[32;1m\u001b[1;3mThought: I need to determine the category of the book titled \"곤충대전\" (Bugs Bugs). This title suggests a focus on insects, which may relate to nature or science. To categorize it accurately, I will search for more information about the book.\n",
            "Action: tavily_search\n",
            "Action Input: \"곤충대전 벅스벅스 책\"\u001b[0m\u001b[36;1m\u001b[1;3m{'query': '곤충대전 벅스벅스 책', 'follow_up_questions': None, 'answer': None, 'images': [], 'results': [{'url': 'https://page.kakao.com/content/48260559?tab_type=about', 'title': '곤충대전 벅스벅스 - 책', 'content': '환상과 모험이 가득한 곤충소환 판타지 곤충을 소환해 대결을 벌이는 흥미진진한 곤충 판타지 만화. 귀여운 캐 릭터와 실감 나는 곤충 그림으로 인기가 높다.', 'score': 0.79637206, 'raw_content': None}, {'url': 'https://m.yes24.com/Goods/Detail/2592970', 'title': '곤충대전 벅스벅스 3', 'content': '단순한 만화와 학습 페이지로 구성된 기존의 책들과 차별화를 선언하고 있는 『곤충대전 벅스벅스』제3편으로, 재미난 만화, 유익한 학습 콘텐츠와 더불어 실감나는 곤충', 'score': 0.75377536, 'raw_content': None}, {'url': 'https://product.kyobobook.co.kr/detail/S000001502968', 'title': '곤충대전 벅스벅스 8: 탄생 그랜드 벅스마스터 | 엄진섭 - 교보문고', 'content': '곤충대전 벅스벅스 8: 탄생 그랜드 벅스마스터 · 책 소개 · 작가정보 · 목차 · 기본정보 · 교환/반품/품절 안내.', 'score': 0.67988104, 'raw_content': None}], 'response_time': 1.32}\u001b[0m"
          ]
        },
        {
          "output_type": "stream",
          "name": "stderr",
          "text": [
            "카테고리 분류 진행 중:  80%|████████  | 80/100 [07:24<01:57,  5.87s/it]"
          ]
        },
        {
          "output_type": "stream",
          "name": "stdout",
          "text": [
            "\u001b[32;1m\u001b[1;3mBased on the observation, \"곤충대전 벅스벅스\" is described as a fantasy comic involving insects, which suggests a focus on nature and possibly educational content about insects. Given the context of the book, it aligns more closely with the category of nature.\n",
            "\n",
            "Final Answer: 자연\u001b[0m\n",
            "\n",
            "\u001b[1m> Finished chain.\u001b[0m\n",
            "--- 중간 결과 저장 완료 (80/100) ---\n",
            "\n",
            "\n",
            "\u001b[1m> Entering new AgentExecutor chain...\u001b[0m\n",
            "\u001b[32;1m\u001b[1;3mThought: I need to find information about the book \"드래곤라자\" to determine its appropriate category. \n",
            "Action: tavily_search\n",
            "Action Input: \"드래곤라자 책\"\u001b[0m\u001b[36;1m\u001b[1;3m{'query': '드래곤라자 책', 'follow_up_questions': None, 'answer': None, 'images': [], 'results': [{'url': 'https://product.kyobobook.co.kr/detail/S000000919850', 'title': '드래곤 라자 세트 | 이영도 - 국내도서 - 교보문고', 'content': \"이영도 판타지 장편소설『드래곤 라자』세트(전8권). 인간을 비롯한 일곱 종족이 어울려 사는환상 세계에서 17세 소년이 '드래곤 라자'라는 구원의 존재를 찾아 떠나는\", 'score': 0.735737, 'raw_content': None}, {'url': 'https://m.yes24.com/goods/detail/3261748', 'title': '드래곤 라자 양장 세트 - 예스24', 'content': '폴라리스 랩소디 5. 10% 13,500원 ; 책소개 · 무한한 상상력, 깊이 있는 세계관과 뛰어난 작품성으로 한국의 대표적 환상 문학으로 자리잡은 『드래곤 라자』는 1998년 출간', 'score': 0.70702106, 'raw_content': None}, {'url': 'https://namu.wiki/w/%EB%93%9C%EB%9E%98%EA%B3%A4%20%EB%9D%BC%EC%9E%90', 'title': '드래곤 라자 - 나무위키', 'content': '장르소설로서의 몰입감이나 주제 전달에서도 높은 평가를 받는 작품인데, 특유의 유머감각과 긴장감 있는 연출로 시종 책을 놓을 수 없게 만드는 솜씨와 서사 전개 도중', 'score': 0.5694942, 'raw_content': None}], 'response_time': 1.04}\u001b[0m"
          ]
        },
        {
          "output_type": "stream",
          "name": "stderr",
          "text": [
            "\r카테고리 분류 진행 중:  81%|████████  | 81/100 [07:32<02:02,  6.44s/it]"
          ]
        },
        {
          "output_type": "stream",
          "name": "stdout",
          "text": [
            "\u001b[32;1m\u001b[1;3mBased on the information retrieved, \"드래곤라자\" is a fantasy novel that is recognized as a significant work in Korean literature, particularly in the genre of fantasy. It features a rich world and deep storytelling, which aligns it closely with literary works.\n",
            "\n",
            "Final Answer: 문학\u001b[0m\n",
            "\n",
            "\u001b[1m> Finished chain.\u001b[0m\n",
            "\n",
            "\n",
            "\u001b[1m> Entering new AgentExecutor chain...\u001b[0m\n",
            "\u001b[32;1m\u001b[1;3mThought: I need to find information about the book \"심야식당\" to determine its appropriate category. \n",
            "Action: tavily_search\n",
            "Action Input: \"심야식당 책\"\u001b[0m\u001b[36;1m\u001b[1;3m{'query': '심야식당 책', 'follow_up_questions': None, 'answer': None, 'images': [], 'results': [{'url': 'https://m.yes24.com/goods/detail/93304674', 'title': '[전자책] 심야식당', 'content': '밤 12시에 문을 여는 도심 한구석의 작은 밥집 『심야식당』 제1권. 메뉴라고는 돼지고기국 정식과 술 정도가 전부이지만 손님이 원하는 음식은 재료만 있으면 만들 수', 'score': 0.783542, 'raw_content': None}, {'url': 'https://m.blog.naver.com/graymarket/222300475841', 'title': '요리만화책추천 . 드라마 심야식당의 원작 - 네이버 블로그', 'content': '이 책 <심야식당>을 추천드려요. 여자분들이 읽어도,. 나이드신 분들이 읽어도. 재미있는 만화입니다^^. #요리만화 · #만화책추천 · #심야식당; +9. 공감', 'score': 0.7213709, 'raw_content': None}, {'url': 'https://product.kyobobook.co.kr/detail/S000001713250', 'title': '심야식당 24 | Abe Yaro - 교보문고', 'content': '울면서 들어와 웃으며 돌아가는 신비한 식당으로 스트레스에 지친 모든 사람에게 한 알의 피로회복제가 되어준다. 이 책의 시리즈 (44).', 'score': 0.60245985, 'raw_content': None}], 'response_time': 1.02}\u001b[0m"
          ]
        },
        {
          "output_type": "stream",
          "name": "stderr",
          "text": [
            "\r카테고리 분류 진행 중:  82%|████████▏ | 82/100 [07:37<01:48,  6.01s/it]"
          ]
        },
        {
          "output_type": "stream",
          "name": "stdout",
          "text": [
            "\u001b[32;1m\u001b[1;3mBased on the search results, \"심야식당\" appears to be a book that revolves around a late-night restaurant and includes elements of cooking and storytelling. It is categorized as a manga that combines culinary themes with narrative elements, appealing to a wide audience. Given its focus on food and the experiences of the characters, it aligns best with the category of literature.\n",
            "\n",
            "Final Answer: 문학\u001b[0m\n",
            "\n",
            "\u001b[1m> Finished chain.\u001b[0m\n",
            "\n",
            "\n",
            "\u001b[1m> Entering new AgentExecutor chain...\u001b[0m\n",
            "\u001b[32;1m\u001b[1;3mThought: I need to determine the content and subject matter of the book titled \"왜 그런지 정말 궁금해요\" to categorize it accurately. \n",
            "Action: tavily_search\n",
            "Action Input: \"왜 그런지 정말 궁금해요 책 내용\"\u001b[0m\u001b[36;1m\u001b[1;3m{'query': '왜 그런지 정말 궁금해요 책 내용', 'follow_up_questions': None, 'answer': None, 'images': [], 'results': [{'url': 'https://product.kyobobook.co.kr/detail/S000001164663', 'title': '왜 그런지 정말 궁금해요 | 전호태 - 국내도서 - 교보문고', 'content': '왜 그런지 정말 궁금해요 시리즈는 세상에 대한 호기심에 가득 찬 아이들이 이것저것 물어 올 때 명쾌한 답과 지식을 알려 주는 책입니다. 『건물에도 뿌리가 있나요?』 『', 'score': 0.82186085, 'raw_content': None}, {'url': 'https://www.aladin.co.kr/shop/wproduct.aspx?ItemId=1021286&srsltid=AfmBOoogb3_xdlZnuhlP3MXJSId7UuF9MElfI13Y5GgXhCB8qHl_LWIi', 'title': '왜 그런지 정말 궁금해요 한국 역사 편 세트 - 전3권', 'content': '왜 그런지 정말 궁금해요 시리즈는 세상에 대한 호기심에 가득 찬 아이들이 이것저것 물어 올 때 명쾌한 답과 지식을 알려 주는 책입니다. 각 분야의 전문가들이 쓴 꼼꼼', 'score': 0.81489426, 'raw_content': None}, {'url': 'https://www.yes24.com/product/goods/3418411', 'title': '[다섯수레] 왜 그런지 정말 궁금해요 시리즈 (전40권)', 'content': '시리즈 소개, 왜 그런지 정말 궁금해요 시리즈는 세상에 대한 호기심에 가득 찬 아이들이 이것저것 물어 올 때 명쾌한 답과 지식을 알려 주는 책입니다. [건물에도 뿌리가', 'score': 0.80698997, 'raw_content': None}], 'response_time': 1.19}\u001b[0m"
          ]
        },
        {
          "output_type": "stream",
          "name": "stderr",
          "text": [
            "\r카테고리 분류 진행 중:  83%|████████▎ | 83/100 [07:42<01:38,  5.79s/it]"
          ]
        },
        {
          "output_type": "stream",
          "name": "stdout",
          "text": [
            "\u001b[32;1m\u001b[1;3mBased on the observation, the book \"왜 그런지 정말 궁금해요\" is part of a series aimed at answering children's questions about the world, providing knowledge and insights across various topics. This indicates that the book is educational in nature, focusing on curiosity and learning.\n",
            "\n",
            "Final Answer: 교육\u001b[0m\n",
            "\n",
            "\u001b[1m> Finished chain.\u001b[0m\n",
            "\n",
            "\n",
            "\u001b[1m> Entering new AgentExecutor chain...\u001b[0m\n",
            "\u001b[32;1m\u001b[1;3mThought: I need to find information about the book related to \"데프콘\" to determine its appropriate category. \n",
            "Action: tavily_search\n",
            "Action Input: \"데프콘 책\"\u001b[0m\u001b[36;1m\u001b[1;3m{'query': '데프콘 책', 'follow_up_questions': None, 'answer': None, 'images': [], 'results': [{'url': 'https://www.aladin.co.kr/shop/wproduct.aspx?ItemId=7926287&srsltid=AfmBOooLbGKyskCZBX0834p7rQXi8CZ8-hojgNlTlBIYOyguZCEf1Deu', 'title': '[전자책] 데프콘 제1부 1', 'content': '한국식 군사물의 한 전형을 만들어낸 작가 김경진의 전쟁소설. 한번쯤은 들어봤음직한 각종 무기, 전략, 전투 용어가 스토리 전개와 함께 종횡무진으로 등장하며 실감', 'score': 0.65173227, 'raw_content': None}, {'url': 'https://m.yes24.com/Goods/Detail/17841', 'title': '데프콘 한중전쟁 (제1부 1)', 'content': '책소개 · 데프콘 한일전쟁 - 전진하라! 도쿄 황궁에 태극기가 휘날릴 때까지 · 데프콘 한중전쟁 - 한반도를 노리는 중국의 야욕을 분쇄하라! 보수파와 개방파의 권력다툼으로', 'score': 0.65146625, 'raw_content': None}, {'url': 'https://namu.wiki/w/%EB%8D%B0%ED%94%84%EC%BD%98(%EC%86%8C%EC%84%A4)', 'title': '데프콘(소설)', 'content': '인물 각 개인을 조명하며 스토리라인을 전개해나가는 성격이 강한데다, 인력소모가 큰 전쟁소설이다 보니 책 한 권에 소개되고 같은 권에 죽는 경우가', 'score': 0.4687669, 'raw_content': None}], 'response_time': 1.42}\u001b[0m"
          ]
        },
        {
          "output_type": "stream",
          "name": "stderr",
          "text": [
            "\r카테고리 분류 진행 중:  84%|████████▍ | 84/100 [07:47<01:27,  5.47s/it]"
          ]
        },
        {
          "output_type": "stream",
          "name": "stdout",
          "text": [
            "\u001b[32;1m\u001b[1;3mBased on the search results, the book \"데프콘\" appears to be a war novel that involves military themes, strategies, and conflicts, particularly focusing on Korean and Chinese relations. This aligns with historical narratives and military fiction.\n",
            "\n",
            "Final Answer: 역사\u001b[0m\n",
            "\n",
            "\u001b[1m> Finished chain.\u001b[0m\n",
            "\n",
            "\n",
            "\u001b[1m> Entering new AgentExecutor chain...\u001b[0m\n",
            "\u001b[32;1m\u001b[1;3mThought: I need to determine the category for the book titled \"인류를 감동시킨 세계명작 책,\" which translates to \"World Masterpieces that Moved Humanity.\" This title suggests a focus on significant literary works that have had a profound impact on people. \n",
            "Action: I will use the tavily_search tool to find more information about this book and its themes.\n",
            "Action Input: \"인류를 감동시킨 세계명작 책\"\u001b[0mI will use the tavily_search tool to find more information about this book and its themes. is not a valid tool, try one of [tavily_search]."
          ]
        },
        {
          "output_type": "stream",
          "name": "stderr",
          "text": [
            "카테고리 분류 진행 중:  85%|████████▌ | 85/100 [07:55<01:32,  6.15s/it]"
          ]
        },
        {
          "output_type": "stream",
          "name": "stdout",
          "text": [
            "\u001b[32;1m\u001b[1;3mThought: I need to determine the category for the book titled \"인류를 감동시킨 세계명작 책,\" which translates to \"World Masterpieces that Moved Humanity.\" This title suggests a focus on significant literary works that have had a profound impact on people. \n",
            "Action: I will use the tavily_search tool to find more information about this book and its themes.\n",
            "Action Input: \"인류를 감동시킨 세계명작 책\"\u001b[0mI will use the tavily_search tool to find more information about this book and its themes. is not a valid tool, try one of [tavily_search].\u001b[32;1m\u001b[1;3m\u001b[0m\n",
            "\n",
            "\u001b[1m> Finished chain.\u001b[0m\n",
            "⚠️ '인류를 감동시킨 세계명작'에 대한 AI 답변이 유효하지 않습니다: 'Agent stopped due to iteration limit or time limit.'. '분류 실패'로 처리합니다.\n",
            "\n",
            "\n",
            "\u001b[1m> Entering new AgentExecutor chain...\u001b[0m\n",
            "\u001b[32;1m\u001b[1;3mThought: I need to find information about the book \"맹꽁이서당\" to determine its appropriate category. \n",
            "Action: tavily_search\n",
            "Action Input: \"맹꽁이서당 책\"\u001b[0m\u001b[36;1m\u001b[1;3m{'query': '맹꽁이서당 책', 'follow_up_questions': None, 'answer': None, 'images': [], 'results': [{'url': 'https://www.aladin.co.kr/shop/wproduct.aspx?ItemId=893017&srsltid=AfmBOorwHpjpnIKON3K_XAGi72uQoNCo_yUgFfQAUbQMWHXxfWpTBj_S', 'title': '맹꽁이 서당 세트 - 알라딘', 'content': '윤승운의 대표작 <맹꽁이 서당>은 제도와 정책 중심의 역사에서 조금은 벗어나 인물과 생활에 초점을 맞추어 이야기를 풀어나간다. 수록하는 이야기들은 수준 높은 한문학', 'score': 0.7593865, 'raw_content': None}, {'url': 'https://m.yes24.com/goods/detail/3040072', 'title': '맹꽁이 서당 15권 세트 - 예스24', 'content': '조선시대 10권과 고려시대 5권, 총 15권으로 구성되어 있다. 공부하기 싫어하는 맹꽁이 서당 학동들과 도망다니는 학동들을 붙잡아 어떻게든 공부를 시키려는 훈장님의 모', 'score': 0.67706895, 'raw_content': None}, {'url': 'https://namu.wiki/w/%EB%A7%B9%EA%BD%81%EC%9D%B4%20%EC%84%9C%EB%8B%B9', 'title': '맹꽁이 서당 - 나무위키', 'content': '조선시대편부터 고려시대편까지 15권이 모두 나와 있다. 어플 자체는 0.99달러며 어플 내 결제 방식으로 한권씩 다운로드 가능하다. 1권은 기본제공이고 2', 'score': 0.60750073, 'raw_content': None}], 'response_time': 0.77}\u001b[0m"
          ]
        },
        {
          "output_type": "stream",
          "name": "stderr",
          "text": [
            "\r카테고리 분류 진행 중:  86%|████████▌ | 86/100 [07:59<01:19,  5.70s/it]"
          ]
        },
        {
          "output_type": "stream",
          "name": "stdout",
          "text": [
            "\u001b[32;1m\u001b[1;3mBased on the observation, \"맹꽁이서당\" is a work that focuses on historical narratives, particularly set in the context of the Joseon and Goryeo dynasties. It emphasizes characters and their lives rather than just historical events or policies. This suggests that the book is primarily historical in nature.\n",
            "\n",
            "Final Answer: 역사\u001b[0m\n",
            "\n",
            "\u001b[1m> Finished chain.\u001b[0m\n",
            "\n",
            "\n",
            "\u001b[1m> Entering new AgentExecutor chain...\u001b[0m\n",
            "\u001b[32;1m\u001b[1;3mThought: I need to determine the category of the book \"놓지 마 과학!\" to accurately classify it. \n",
            "Action: tavily_search\n",
            "Action Input: \"놓지 마 과학! 책\"\u001b[0m\u001b[36;1m\u001b[1;3m{'query': '놓지 마 과학! 책', 'follow_up_questions': None, 'answer': None, 'images': [], 'results': [{'url': 'https://www.aladin.co.kr/shop/wproduct.aspx?ItemId=258590291&srsltid=AfmBOorX3ej5gIrsWXgsE3Nf1IlKGv4tbscPIB1UcBv0TYDSjc4LGU2y', 'title': '놓지 마 과학! 1 - 알라딘', 'content': '<놓지 마 과학!>은 과학의 기본인 호기심과 관찰을 바탕으로 세상을 바라보게 만드는 책이다. 아이들에게 인기 있는 정신이네 가족들이 일상 속의 궁금증을 엉뚱하고 기발', 'score': 0.8851659, 'raw_content': None}, {'url': 'https://ibookpark.com/product/%EB%86%93%EC%A7%80-%EB%A7%88-%EA%B3%BC%ED%95%99-1-19%EA%B6%8C-%EC%84%B8%ED%8A%B8-%EC%A0%84-19%EA%B6%8C/', 'title': '놓지 마 과학! 1-19권 세트 (전 19권) - IBOOKPARK INC.', 'content': \"이번 〈놓지 마 과학!〉 개정판은 새로운 과학 교과서의 체계에 맞추어 교과 단원을 정리한 '교과 연계표', 심화 학습인 과학자의 인물 탐구와 상식을 담은\", 'score': 0.7837407, 'raw_content': None}, {'url': 'https://namu.wiki/w/%EB%86%93%EC%A7%80%20%EB%A7%88%20%EA%B3%BC%ED%95%99!', 'title': '놓지 마 과학! - 나무위키', 'content': '전작과 달리 웹툰이 아니라 학습만화 시리즈로 현재 19권까지 나왔다. 시즌 2에서 그림만 갖다 말풍선만 건전하게 바꾸는 경우가 많다.', 'score': 0.60805947, 'raw_content': None}], 'response_time': 1.33}\u001b[0m"
          ]
        },
        {
          "output_type": "stream",
          "name": "stderr",
          "text": [
            "\r카테고리 분류 진행 중:  87%|████████▋ | 87/100 [08:04<01:11,  5.52s/it]"
          ]
        },
        {
          "output_type": "stream",
          "name": "stdout",
          "text": [
            "\u001b[32;1m\u001b[1;3mBased on the observation, \"놓지 마 과학!\" is a book that focuses on science, encouraging curiosity and observation about the world. It is categorized as a learning comic series related to science education. \n",
            "\n",
            "Final Answer: 과학\u001b[0m\n",
            "\n",
            "\u001b[1m> Finished chain.\u001b[0m\n",
            "\n",
            "\n",
            "\u001b[1m> Entering new AgentExecutor chain...\u001b[0m\n",
            "\u001b[32;1m\u001b[1;3mThought: I need to find information about the book \"푸른아이\" to determine its appropriate category.\n",
            "Action: tavily_search\n",
            "Action Input: \"푸른아이 책\"\u001b[0m\u001b[36;1m\u001b[1;3m{'query': '푸른아이 책', 'follow_up_questions': None, 'answer': None, 'images': [], 'results': [{'url': 'https://ibookpark.com/product/%EC%9B%85%EC%A7%84-%ED%91%B8%EB%A5%B8%EC%95%84%EC%9D%B4/', 'title': '웅진 푸른아이 - IBOOKPARK INC.', 'content': '웅진 푸른아이 · 영역: 자연/과학 · 연령: 7세 ~ 초등2 · 구성: 본책 60권 · 배송: 배송료별도 · 출판사: 웅진다책.', 'score': 0.64182705, 'raw_content': None}, {'url': 'https://chingchanmall.com/product/%EC%9B%85%EC%A7%84-%ED%91%B8%EB%A5%B8%EC%95%84%EC%9D%B4-%EC%A0%84-60%EA%B6%8C-%EC%B5%9C%EC%8B%A0%ED%8C%90-%EA%B0%95%EB%A0%A5%EC%B6%94%EC%B2%9C%EB%8F%84%EC%84%9C/48419/?srsltid=AfmBOorlM51uprQO98OIBXYqav7qQd0dIXfXR7lBYYXxOl0kDvwptnIM', 'title': '[웅진] 푸른아이 (전 60권)-최신판 강력추천도서', 'content': '[웅진] 푸른아이 (전 60권)-최신판 ☆강력추천도서☆ · 1. 사자 · 2. 코끼리 · 3. 기린 · 4. 곰 · 5. 늑대 · 6. 원숭이 · 7. 사슴 · 8. 캥거루.', 'score': 0.6271529, 'raw_content': None}, {'url': 'https://www.yes24.com/product/goods/15407306', 'title': '푸른 아이 - 예스24', 'content': '성규가 만난 신비로운 푸른 아이는, 아니 푸른 용은 비금도에 비를 내려 주었을까요? 책 속에서 신비롭고 수상한 푸른 아이를 만나 보세요. 펼쳐보기', 'score': 0.5617203, 'raw_content': None}], 'response_time': 0.99}\u001b[0m"
          ]
        },
        {
          "output_type": "stream",
          "name": "stderr",
          "text": [
            "\r카테고리 분류 진행 중:  88%|████████▊ | 88/100 [08:09<01:03,  5.27s/it]"
          ]
        },
        {
          "output_type": "stream",
          "name": "stdout",
          "text": [
            "\u001b[32;1m\u001b[1;3mBased on the search results, \"푸른아이\" appears to be a series of educational books aimed at children, focusing on nature and science topics. The content suggests that it is designed for young readers, likely in an educational context.\n",
            "\n",
            "Final Answer: 교육\u001b[0m\n",
            "\n",
            "\u001b[1m> Finished chain.\u001b[0m\n",
            "\n",
            "\n",
            "\u001b[1m> Entering new AgentExecutor chain...\u001b[0m\n",
            "\u001b[32;1m\u001b[1;3mThought: I need to find information about the book \"룬의 아이들\" to determine its appropriate category. \n",
            "Action: tavily_search\n",
            "Action Input: \"룬의 아이들 책\"\u001b[0m\u001b[36;1m\u001b[1;3m{'query': '룬의 아이들 책', 'follow_up_questions': None, 'answer': None, 'images': [], 'results': [{'url': 'https://www.yes24.com/product/goods/74597912', 'title': '룬의 아이들 - 윈터러 완전판 1~7 세트 - 예스24', 'content': '『룬의 아이들 - 윈터러』는 시리즈의 시작을 알리는 첫 번째 작품으로, 갑자기 가족을 잃고 검 하나에 의지한 채 혹독한 세상과 맞닥뜨리게 된 소년', 'score': 0.7355091, 'raw_content': None}, {'url': 'https://namu.wiki/w/%EB%A3%AC%EC%9D%98%20%EC%95%84%EC%9D%B4%EB%93%A4', 'title': '룬의 아이들 - 나무위키', 'content': \"대한민국의 소설가 전민희가 집필한 판타지 소설 시리즈. 1, 2, 3부를 묶어서《룬의 아이들 시리즈》라고 부르기도 하며, 팬덤에서는 줄여서 '룬아' 라고\", 'score': 0.7216064, 'raw_content': None}, {'url': 'https://search.kyobobook.co.kr/search?keyword=%EB%A3%AC%EC%9D%98%EC%95%84%EC%9D%B4%EB%93%A4', 'title': '룬의아이들 검색결과 - 교보문고', 'content': '룬의 아이들 블러디드 8 · 10.0 ; 룬의 아이들 블러디드 7 · 9.76 ; 열네 살의 인턴십 · 9.62 ; 룬의 아이들 블러디드 6 · 9.78 ; 룬의 아이들 블러디드 2 · 9.89', 'score': 0.53531766, 'raw_content': None}], 'response_time': 1.15}\u001b[0m"
          ]
        },
        {
          "output_type": "stream",
          "name": "stderr",
          "text": [
            "\r카테고리 분류 진행 중:  89%|████████▉ | 89/100 [08:15<00:59,  5.38s/it]"
          ]
        },
        {
          "output_type": "stream",
          "name": "stdout",
          "text": [
            "\u001b[32;1m\u001b[1;3mBased on the search results, \"룬의 아이들\" is a fantasy novel series written by the South Korean author Jeon Min-hee. It is categorized as a work of fiction, specifically in the fantasy genre. However, since the available categories are limited to literature, history, science, mathematics, nature, art, education, and technology, the most appropriate category for this book is 문학 (literature).\n",
            "\n",
            "Final Answer: 문학\u001b[0m\n",
            "\n",
            "\u001b[1m> Finished chain.\u001b[0m\n",
            "\n",
            "\n",
            "\u001b[1m> Entering new AgentExecutor chain...\u001b[0m\n",
            "\u001b[32;1m\u001b[1;3mThought: I need to determine the category for the book \"코믹 테일즈런너 고고씽\". This title suggests it may be related to comics or graphic novels, which could fall under literature or art. However, I will search for more specific information about the book to categorize it accurately.  \n",
            "Action: tavily_search  \n",
            "Action Input: \"코믹 테일즈런너 고고씽 책\"  \u001b[0m\u001b[36;1m\u001b[1;3m{'query': '코믹 테일즈런너 고고씽 책', 'follow_up_questions': None, 'answer': None, 'images': [], 'results': [{'url': 'https://product.kyobobook.co.kr/detail/S000000595331', 'title': '코믹 테일즈런너 고고씽 1: 불꽃 튀는 예선전 | 스토리이펙트 - 교보문고', 'content': '인기 게임 테일즈런너를 어린이들이 좋아하는 올컬러 만화로 꾸민 책입니다. 테일즈런너의 주인공 초원이와 테일즈런너 대회의 도전자들의 흥미진진한 모험이 펼쳐집니다.', 'score': 0.98506, 'raw_content': None}, {'url': 'https://m.yes24.com/goods/detail/3474000', 'title': '코믹 테일즈런너 고고씽 1 - 예스24', 'content': '『코믹 테일즈런너 고고씽』은 역경을 이겨내며 거침없이 달리는 테일즈런너들을 통해 어린이들에게 꼭 필요한 우정과 의리, 지혜와 용기를 일깨워 줍니다.', 'score': 0.98156, 'raw_content': None}, {'url': 'https://www.aladin.co.kr/shop/wproduct.aspx?ItemId=111514315&srsltid=AfmBOop-r_g5WogwlwXMlqyN1h4-_IlqBjR49sRrRCT1tVoOVXbschQX', 'title': '[전자책] 코믹 테일즈런너 고고씽 15 (완결) - 알라딘', 'content': \"ISBN · 9788934974192 ; 책소개. 역경을 이겨내며 거침없이 달리는 테일즈런너들을 통해 우정과 의리, 지혜와 용기를 일깨워주고자 한 '코믹 테일즈런너 고고씽'시리즈. 반전\", 'score': 0.97868, 'raw_content': None}], 'response_time': 1.01}\u001b[0m"
          ]
        },
        {
          "output_type": "stream",
          "name": "stderr",
          "text": [
            "카테고리 분류 진행 중:  90%|█████████ | 90/100 [08:20<00:53,  5.37s/it]"
          ]
        },
        {
          "output_type": "stream",
          "name": "stdout",
          "text": [
            "\u001b[32;1m\u001b[1;3mBased on the observation, \"코믹 테일즈런너 고고씽\" is a comic book that adapts the popular game Tales Runner into a colorful comic format aimed at children. The content emphasizes themes of friendship, loyalty, wisdom, and courage, which are often found in literature aimed at younger audiences. Therefore, it fits best under the category of literature.\n",
            "\n",
            "Final Answer: 문학\u001b[0m\n",
            "\n",
            "\u001b[1m> Finished chain.\u001b[0m\n",
            "--- 중간 결과 저장 완료 (90/100) ---\n",
            "\n",
            "\n",
            "\u001b[1m> Entering new AgentExecutor chain...\u001b[0m\n",
            "\u001b[32;1m\u001b[1;3mThought: I need to determine the category of the \"아스테릭스\" books, which are comic books featuring the adventures of a small Gaul and his friends. \n",
            "Action: tavily_search\n",
            "Action Input: \"아스테릭스 책 카테고리\"\u001b[0m\u001b[36;1m\u001b[1;3m{'query': '아스테릭스 책 카테고리', 'follow_up_questions': None, 'answer': None, 'images': [], 'results': [{'url': 'https://moonji.com/book_category/%EC%95%84%EC%8A%A4%ED%85%8C%EB%A6%AD%EC%8A%A4/?book-p=1', 'title': '도서 분류|아스테릭스', 'content': '도서 카테고리: 아스테릭스 ; 아스테릭스, 생일 축하해! 르네 고시니 지음 | 알베르 우데르조 그림 | 오영주 옮김 · 9788932023229 ; 아스테릭스, 오벨릭스의 수난. 알베르 우 ...See more', 'score': 0.852752, 'raw_content': None}, {'url': 'https://moonji.com/book_category/%EC%95%84%EC%8A%A4%ED%85%8C%EB%A6%AD%EC%8A%A4/?bpg=2', 'title': '도서 분류|아스테릭스', 'content': '도서 카테고리: 아스테릭스 ; 아스테릭스와 카이사르의 선물 · 2005년 12월 16일 · 9788932016580 ; 오벨릭스 선돌 판매 회사 · 2005년 12월 16일 · 9788932016597 ; 아스테릭스 ...See more', 'score': 0.8455478, 'raw_content': None}, {'url': 'https://namu.wiki/w/%EC%95%84%EC%8A%A4%ED%85%8C%EB%A6%AD%EC%8A%A4', 'title': '아스테릭스', 'content': '1. 개요2. 인기3. 줄거리4. 발매 현황5. · 1. 개요[편집] · 1959년 10월 29일부터 나오기 시작한 프랑스 만화. 주로 르네 고시니(René Goscinny, 1926년 8월 ...See more', 'score': 0.2094377, 'raw_content': None}], 'response_time': 1.28}\u001b[0m"
          ]
        },
        {
          "output_type": "stream",
          "name": "stderr",
          "text": [
            "\r카테고리 분류 진행 중:  91%|█████████ | 91/100 [08:25<00:46,  5.20s/it]"
          ]
        },
        {
          "output_type": "stream",
          "name": "stdout",
          "text": [
            "\u001b[32;1m\u001b[1;3mBased on the observation, I found that \"아스테릭스\" books are categorized under comic books, which typically fall under the broader category of \"예술\" (art). \n",
            "\n",
            "Final Answer: 예술\u001b[0m\n",
            "\n",
            "\u001b[1m> Finished chain.\u001b[0m\n",
            "\n",
            "\n",
            "\u001b[1m> Entering new AgentExecutor chain...\u001b[0m\n",
            "\u001b[32;1m\u001b[1;3mThought: I need to determine the category for the book \"위대한 유산:전통문화그림책\". This title suggests a focus on traditional culture, which may relate to literature or art. \n",
            "Action: I will search for more information about the book to understand its content better.\n",
            "Action Input: \"위대한 유산:전통문화그림책\"\u001b[0mI will search for more information about the book to understand its content better. is not a valid tool, try one of [tavily_search]."
          ]
        },
        {
          "output_type": "stream",
          "name": "stderr",
          "text": [
            "카테고리 분류 진행 중:  92%|█████████▏| 92/100 [08:29<00:38,  4.77s/it]"
          ]
        },
        {
          "output_type": "stream",
          "name": "stdout",
          "text": [
            "\u001b[32;1m\u001b[1;3mThought: I need to determine the category for the book \"위대한 유산:전통문화그림책\". This title suggests a focus on traditional culture, which may relate to literature or art. \n",
            "Action: I will search for more information about the book to understand its content better.\n",
            "Action Input: \"위대한 유산:전통문화그림책\"\u001b[0mI will search for more information about the book to understand its content better. is not a valid tool, try one of [tavily_search].\u001b[32;1m\u001b[1;3m\u001b[0m\n",
            "\n",
            "\u001b[1m> Finished chain.\u001b[0m\n",
            "⚠️ '위대한 유산:전통문화그림책'에 대한 AI 답변이 유효하지 않습니다: 'Agent stopped due to iteration limit or time limit.'. '분류 실패'로 처리합니다.\n",
            "\n",
            "\n",
            "\u001b[1m> Entering new AgentExecutor chain...\u001b[0m\n"
          ]
        },
        {
          "output_type": "stream",
          "name": "stderr",
          "text": [
            "\r카테고리 분류 진행 중:  93%|█████████▎| 93/100 [08:32<00:30,  4.35s/it]"
          ]
        },
        {
          "output_type": "stream",
          "name": "stdout",
          "text": [
            "\u001b[32;1m\u001b[1;3mThought: The title \"에그박사:자연 생물 관찰 만화\" suggests that the book is about observing nature and biology, likely in a comic format. This indicates a focus on natural sciences and biological observation. \n",
            "Action: I will categorize this book under the most relevant category based on its content.\n",
            "Final Answer: 자연\u001b[0m\n",
            "\n",
            "\u001b[1m> Finished chain.\u001b[0m\n",
            "\n",
            "\n",
            "\u001b[1m> Entering new AgentExecutor chain...\u001b[0m\n",
            "\u001b[32;1m\u001b[1;3mThought: I need to find information about books related to artists, which may fall under the category of art or possibly education if they are instructional. \n",
            "Action: tavily_search\n",
            "Action Input: \"books about artists\" \u001b[0m\u001b[36;1m\u001b[1;3m{'query': 'books about artists', 'follow_up_questions': None, 'answer': None, 'images': [], 'results': [{'url': 'https://www.goodreads.com/list/show/200.Art_Artists_in_Fiction', 'title': 'Art & Artists in Fiction (919 books) - Goodreads', 'content': '919 books — This list was created and voted on by Goodreads members. Works of fiction about art, paintings, artists, sculptors, painters, etc.', 'score': 0.7570233, 'raw_content': None}, {'url': 'https://electricliterature.com/10-novels-about-art-and-artists/', 'title': '10 Novels About Art and Artists - Electric Literature', 'content': 'As both a writer and artist, I knew of the little-known art term fugitive pigment, paint that fades over time due to light and atmospheric conditions. Chevalier’s reimagining of the story behind Vermeer’s most recognizable painting is a joy to read and offers a look into the art and social structures of the Baroque period. Winner of the 2013 Pulitzer Prize for Fiction, The Goldfinch is primarily a coming-of-age story about 13-year-old Theodore Decker whose mother is killed in a terrorist bombing at the Metropolitan Museum of Art, which he survives. Peter Heller tells the story of successful fictional painter Jim Stegner, whose life takes a turn when he shoots a man in a bar for making lewd comments about his daughter, a scene which he later paints in an “explosion of colors.” His marriage has also ended.', 'score': 0.7018975, 'raw_content': None}, {'url': 'https://www.reddit.com/r/ArtHistory/comments/1j1atqc/books_that_engage_with_art_but_arent_dry_history/', 'title': \"Books That Engage With Art (But Aren't Dry History or Biography)?\", 'content': 'The Moon and Sixpence by Somersets Maugham is about a Gaugin-like artist and his milieu. Ways of Seeing by John Berger will change the way you', 'score': 0.650934, 'raw_content': None}], 'response_time': 4.74}\u001b[0m"
          ]
        },
        {
          "output_type": "stream",
          "name": "stderr",
          "text": [
            "\r카테고리 분류 진행 중:  94%|█████████▍| 94/100 [08:40<00:31,  5.33s/it]"
          ]
        },
        {
          "output_type": "stream",
          "name": "stdout",
          "text": [
            "\u001b[32;1m\u001b[1;3mBased on the Observation, I now know the final answer. \n",
            "Final Answer: 예술\u001b[0m\n",
            "\n",
            "\u001b[1m> Finished chain.\u001b[0m\n",
            "\n",
            "\n",
            "\u001b[1m> Entering new AgentExecutor chain...\u001b[0m\n",
            "\u001b[32;1m\u001b[1;3mThought: I need to determine the appropriate category for the book titled \"어린이 과학 형사대 CSI 책,\" which seems to involve children's science and possibly investigative themes. \n",
            "Action: tavily_search\n",
            "Action Input: \"어린이 과학 형사대 CSI 책\"\u001b[0m\u001b[36;1m\u001b[1;3m{'query': '어린이 과학 형사대 CSI 책', 'follow_up_questions': None, 'answer': None, 'images': [], 'results': [{'url': 'https://namu.wiki/w/%EC%96%B4%EB%A6%B0%EC%9D%B4%20%EA%B3%BC%ED%95%99%20%ED%98%95%EC%82%AC%EB%8C%80%20CSI', 'title': '어린이 과학 형사대 CSI - 나무위키', 'content': '현재는 <어린이 과학 형사대 CSI>가 30권으로 완결되었으며, 1기 등장인물과 사건을 일부 발췌해 만든 <과학추리만화 어린이 과학 형사대 CSI>는 7권으로', 'score': 0.98565, 'raw_content': None}, {'url': 'https://www.aladin.co.kr/m/mseriesitem.aspx?SRID=75646&srsltid=AfmBOooCPxRGZnVzcpPadYlHDLqKBySwSkc8t3uDDZeCJ7sR_2Ks1if8', 'title': '과학 추리만화 어린이 과학 형사대 CSI - 알라딘', 'content': '어린이 과학 형사대 CSI 세트 - 전37권 - 어린이 과학 형사대 CSI 1~30권 + 과학 추리만화 어린이 과학 형사대 CSI 1~7권 - 어린이 과학 형사대 CSI · 고희정 (지은이)', 'score': 0.98426, 'raw_content': None}, {'url': 'https://page.kakao.com/home/%EC%96%B4%EB%A6%B0%EC%9D%B4-%EA%B3%BC%ED%95%99-%ED%98%95%EC%82%AC%EB%8C%80-csi/48017957', 'title': '어린이 과학 형사대 CSI - 책 - 카카오페이지', 'content': '출동! 어린이과학수사대, 철저한 과학수사로 범인을 찾아라!수많은 인간이 모여 사는 우리 사회에는 원하지 않지만 수많은 범죄가 넘쳐 나기도 한다.', 'score': 0.97853, 'raw_content': None}], 'response_time': 1.03}\u001b[0m"
          ]
        },
        {
          "output_type": "stream",
          "name": "stderr",
          "text": [
            "\r카테고리 분류 진행 중:  95%|█████████▌| 95/100 [08:47<00:29,  5.85s/it]"
          ]
        },
        {
          "output_type": "stream",
          "name": "stdout",
          "text": [
            "\u001b[32;1m\u001b[1;3mBased on the observation, the book \"어린이 과학 형사대 CSI\" is a children's series that combines elements of science and investigation, focusing on scientific methods to solve crimes. This indicates a strong connection to the field of science, particularly in a way that is accessible and engaging for children.\n",
            "\n",
            "Final Answer: 과학\u001b[0m\n",
            "\n",
            "\u001b[1m> Finished chain.\u001b[0m\n",
            "\n",
            "\n",
            "\u001b[1m> Entering new AgentExecutor chain...\u001b[0m\n",
            "\u001b[32;1m\u001b[1;3mThought: I need to determine the category of the book \"서유기\" (Journey to the West), which is a classic Chinese novel. \n",
            "Action: tavily_search\n",
            "Action Input: \"서유기 책\" \u001b[0m\u001b[36;1m\u001b[1;3m{'query': '서유기 책', 'follow_up_questions': None, 'answer': None, 'images': [], 'results': [{'url': 'https://product.kyobobook.co.kr/detail/S000001753449', 'title': '서유기 | 오승은 - 국내도서 - 교보문고', 'content': '『서유기』는 당나라 황제의 명을 받은 삼장법사가 천축국으로 불경을 구하러 가는 과정을 담은 이야기이다. 중국에서 천축국까지 오가는 데 걸린 시간은', 'score': 0.7803451, 'raw_content': None}, {'url': 'https://namu.wiki/w/%EC%84%9C%EC%9C%A0%EA%B8%B0', 'title': '서유기 - 나무위키', 'content': '중국의 민간 종교, 신화, 철학, 특히 도교, 유교, 불교 등의 영향이 그대로 드러나 있는 민간 설화를 바탕으로 하는 『서유기』는 중국 문학의 4대 고전 중 하나로 꼽히고', 'score': 0.6356076, 'raw_content': None}, {'url': 'https://www.aladin.co.kr/shop/wproduct.aspx?ItemId=214403630&srsltid=AfmBOorKI2l96XRJ4hKh_yH79TIQ6eRDRbaZ2p54LQTUpMqg7BSShI6O', 'title': '서유기 1~10 세트 - 전10권 : 알라딘', 'content': '원전에 가장 충실한 정본 완역본. 이야기하듯 풀어낸 삼장 일행의 기상천외한 여행기. 중국문학 연구와 대중화에 앞장서온 홍상훈 교수와 공동 번역자들은 풍부한 자료', 'score': 0.62852204, 'raw_content': None}], 'response_time': 1.18}\u001b[0m"
          ]
        },
        {
          "output_type": "stream",
          "name": "stderr",
          "text": [
            "\r카테고리 분류 진행 중:  96%|█████████▌| 96/100 [08:52<00:22,  5.74s/it]"
          ]
        },
        {
          "output_type": "stream",
          "name": "stdout",
          "text": [
            "\u001b[32;1m\u001b[1;3mBased on the observation, \"서유기\" (Journey to the West) is a classic work of Chinese literature that incorporates elements of mythology, religion, and philosophy. It is recognized as one of the four great classical novels of Chinese literature, which places it firmly within the realm of literary works.\n",
            "\n",
            "Final Answer: 문학\u001b[0m\n",
            "\n",
            "\u001b[1m> Finished chain.\u001b[0m\n",
            "\n",
            "\n",
            "\u001b[1m> Entering new AgentExecutor chain...\u001b[0m\n",
            "\u001b[32;1m\u001b[1;3mThought: I need to categorize the book \"수학도둑:코믹 메이플 스토리:사고력과 이해력을 향상시켜주는 국내 최초 수학논술만화 책\" based on its content and focus. The title suggests it is a comic book aimed at enhancing mathematical thinking and understanding, which indicates a strong connection to mathematics. \n",
            "Action: I will categorize this book under the mathematics category.\u001b[0mInvalid Format: Missing 'Action Input:' after 'Action:'"
          ]
        },
        {
          "output_type": "stream",
          "name": "stderr",
          "text": [
            "카테고리 분류 진행 중:  97%|█████████▋| 97/100 [09:01<00:19,  6.60s/it]"
          ]
        },
        {
          "output_type": "stream",
          "name": "stdout",
          "text": [
            "\u001b[32;1m\u001b[1;3mThought: I need to categorize the book \"수학도둑:코믹 메이플 스토리:사고력과 이해력을 향상시켜주는 국내 최초 수학논술만화 책\" based on its content and focus. The title suggests it is a comic book aimed at enhancing mathematical thinking and understanding, which indicates a strong connection to mathematics. \n",
            "Action: I will categorize this book under the mathematics category.\n",
            "Action Input: 수학도둑:코믹 메이플 스토리:사고력과 이해력을 향상시켜주는 국내 최초 수학논술만화 책\u001b[0mI will categorize this book under the mathematics category. is not a valid tool, try one of [tavily_search].\u001b[32;1m\u001b[1;3m\u001b[0m\n",
            "\n",
            "\u001b[1m> Finished chain.\u001b[0m\n",
            "⚠️ '수학도둑:코믹 메이플 스토리:사고력과 이해력을 향상시켜주는 국내 최초 수학논술만화'에 대한 AI 답변이 유효하지 않습니다: 'Agent stopped due to iteration limit or time limit.'. '분류 실패'로 처리합니다.\n",
            "\n",
            "\n",
            "\u001b[1m> Entering new AgentExecutor chain...\u001b[0m\n",
            "\u001b[32;1m\u001b[1;3mThought: I need to find information about the book \"엽기 과학자\" by 프래니 to determine its appropriate category.\n",
            "Action: tavily_search\n",
            "Action Input: \"엽기 과학자 프래니 책\"\u001b[0m\u001b[36;1m\u001b[1;3m{'query': '엽기 과학자 프래니 책', 'follow_up_questions': None, 'answer': None, 'images': [], 'results': [{'url': 'https://namu.wiki/w/%EC%97%BD%EA%B8%B0%20%EA%B3%BC%ED%95%99%EC%9E%90%20%ED%94%84%EB%9E%98%EB%8B%88', 'title': '엽기 과학자 프래니 - 나무위키', 'content': '미국 만화가 짐 벤튼(Jim Benton)의 동화. 본 시리즈는 10권까지 있다. 일본에는 <キョーレツ科学者・フラニー>(강렬한 과학자 프래니)로 정발되었다. 아', 'score': 0.74807674, 'raw_content': None}, {'url': 'https://www.aladin.co.kr/shop/wproduct.aspx?ItemId=294636749', 'title': '엽기 과학자 프래니 1 - 알라딘', 'content': '엽기 과학자 프래니 (총 24권)', 'score': 0.643173, 'raw_content': None}, {'url': 'https://search.kyobobook.co.kr/search?keyword=%EC%97%BD%EA%B8%B0%EA%B3%BC%ED%95%99%EC%9E%90%ED%94%84%EB%A0%88%EB%8B%88', 'title': '엽기과학자프레니 검색결과 - 교보문고', 'content': '짐 벤튼 저자(글) | 노은정 번역 | 짐 벤튼 그림/만화 외 | 사파리. 10,800 원 10% (600p). 10.0 / 잘읽어요. 8/5(화) 도착 팝업 열기. 관심 등록 0 장바구니 담기.', 'score': 0.5749443, 'raw_content': None}], 'response_time': 0.89}\u001b[0m"
          ]
        },
        {
          "output_type": "stream",
          "name": "stderr",
          "text": [
            "\r카테고리 분류 진행 중:  98%|█████████▊| 98/100 [09:07<00:12,  6.48s/it]"
          ]
        },
        {
          "output_type": "stream",
          "name": "stdout",
          "text": [
            "\u001b[32;1m\u001b[1;3mBased on the search results, \"엽기 과학자\" by 프래니 is a children's book series illustrated by Jim Benton, which focuses on science in a humorous and engaging way. This indicates that the book is educational in nature, particularly in the field of science.\n",
            "\n",
            "Final Answer: 교육\u001b[0m\n",
            "\n",
            "\u001b[1m> Finished chain.\u001b[0m\n",
            "\n",
            "\n",
            "\u001b[1m> Entering new AgentExecutor chain...\u001b[0m\n",
            "\u001b[32;1m\u001b[1;3mThought: I need to determine the appropriate category for a book about the Talmud and its logical fables. This involves understanding the content and themes of the book.\n",
            "Action: tavily_search\n",
            "Action Input: 탈무드 논리동화 책\u001b[0m\u001b[36;1m\u001b[1;3m{'query': '탈무드 논리동화 책', 'follow_up_questions': None, 'answer': None, 'images': [], 'results': [{'url': 'https://www.yes24.com/Product/goods/16413323', 'title': '[중고샵] 탈무드 논리동화-스승의 눈물', 'content': '오상규,이경란. 도서출판 홍문서관. 판매가 1000원(89% 할인). 홍문서관의 탈무드 논리동화 전집(30권)중 한 권입니다.낙서나 찢어짐은 없지만 사용감이 많은 책입니다', 'score': 0.8282873, 'raw_content': None}, {'url': 'https://product.kyobobook.co.kr/detail/S000000678984', 'title': '탈무드 논술 동화 | 신혜순 - 교보문고', 'content': \"『탈무드 논술 동화』는 기존에 잘 알려진 '탈무드'를 동화의 형식으로 새롭게 풀어냈습니다. 여섯 편의 이야기는 아이들이 이해하기 쉽도록 단문장\", 'score': 0.7498395, 'raw_content': None}, {'url': 'https://www.aladin.co.kr/shop/wproduct.aspx?ItemId=82379718&srsltid=AfmBOop-XX0Dw3YsdsaPw3aIqJ1PKOWQwgOTUmxbOYfnyuSwEjyjdylv', 'title': '[중고] 래더교육)논리형 탈무드 그림동화/아주깨끗/ㅊ33', 'content': '중고상품 소개 및 구매 유의사항. 래더교육)논리형 탈무드 그림동화 1998년 21권/구성부족,한권내용찢겨나감,일곱권표지약간씩흠외 아주깨끗/ㅊ33/깨끗하게 닦아서 보내', 'score': 0.7125728, 'raw_content': None}], 'response_time': 1.69}\u001b[0m"
          ]
        },
        {
          "output_type": "stream",
          "name": "stderr",
          "text": [
            "\r카테고리 분류 진행 중:  99%|█████████▉| 99/100 [09:13<00:06,  6.31s/it]"
          ]
        },
        {
          "output_type": "stream",
          "name": "stdout",
          "text": [
            "\u001b[32;1m\u001b[1;3mBased on the search results, the book \"탈무드 논리동화\" appears to be a collection of stories derived from the Talmud, presented in a way that is accessible to children. This suggests that the book focuses on educational themes, particularly in the context of moral and logical reasoning. \n",
            "\n",
            "Final Answer: 교육\u001b[0m\n",
            "\n",
            "\u001b[1m> Finished chain.\u001b[0m\n",
            "\n",
            "\n",
            "\u001b[1m> Entering new AgentExecutor chain...\u001b[0m\n",
            "\u001b[32;1m\u001b[1;3mThought: I need to determine the appropriate category for a book titled \"세계명작 논술만화\" which translates to \"World Masterpieces Essay Comics.\" This title suggests a focus on literature and possibly art, as it involves classic literary works presented in a comic format. \n",
            "Action: I will search for more information about this book to confirm its content and category.\n",
            "Action Input: \"세계명작 논술만화 책\"\u001b[0mI will search for more information about this book to confirm its content and category. is not a valid tool, try one of [tavily_search]."
          ]
        },
        {
          "output_type": "stream",
          "name": "stderr",
          "text": [
            "카테고리 분류 진행 중: 100%|██████████| 100/100 [09:19<00:00,  5.59s/it]"
          ]
        },
        {
          "output_type": "stream",
          "name": "stdout",
          "text": [
            "\u001b[32;1m\u001b[1;3mThought: I need to determine the appropriate category for a book titled \"세계명작 논술만화\" which translates to \"World Masterpieces Essay Comics.\" This title suggests a focus on literature and possibly art, as it involves classic literary works presented in a comic format. \n",
            "Action: I will search for more information about this book to confirm its content and category.\n",
            "Action Input: \"세계명작 논술만화 책\"\u001b[0mI will search for more information about this book to confirm its content and category. is not a valid tool, try one of [tavily_search].\u001b[32;1m\u001b[1;3m\u001b[0m\n",
            "\n",
            "\u001b[1m> Finished chain.\u001b[0m\n",
            "⚠️ '세계명작 논술만화'에 대한 AI 답변이 유효하지 않습니다: 'Agent stopped due to iteration limit or time limit.'. '분류 실패'로 처리합니다.\n",
            "--- 중간 결과 저장 완료 (100/100) ---\n",
            "\n",
            "\n",
            "--- [ 🏆 최종 분석 결과 ] ---\n",
            "인기 도서 TOP 100 목록 및 AI 자동 분류 결과입니다.\n",
            "     순위                                            도서명  총 대출건수 AI 분류 카테고리\n",
            "0     1                                             식객   11026         예술\n",
            "1     2                                       마법의 시간여행    8322         교육\n",
            "2     3                                       퀴즈! 과학상식    7856         과학\n",
            "3     4                                           수학도둑    6451         교육\n",
            "4     5                               (세계의 명작 그림동화)오페라    5969         문학\n",
            "5     6                                       위기탈출 넘버원    5453         교육\n",
            "6     7                                            삼국지    5373         역사\n",
            "7     8                                             토지    5235         문학\n",
            "8     9                                       엄마는 단짝친구    5173         문학\n",
            "9    10                                   서바이벌 만화 과학상식    5100         과학\n",
            "10   11                                          흔한남매.    5082         교육\n",
            "11   12                                      쿠키런 어드벤처.    5044         교육\n",
            "12   13                                      (판타지)수학대전    4604         수학\n",
            "13   14                                  쿠키런 서바이벌 대작전.    4528         예술\n",
            "14   15                                         쾌걸 조로리    4483         문학\n",
            "15   16                                  설민석의 한국사 대모험.    4399         역사\n",
            "16   17                                            비뢰도    4348         문학\n",
            "17   18                                        내일은 실험왕    4305         과학\n",
            "18   19                                             묵향    4260         문학\n",
            "19   20                                   영재로 키우는 원리수학    4251         수학\n",
            "20   21                                      엄마는 단짝친구.    4216         문학\n",
            "21   22                                            아리랑    4208         역사\n",
            "22   23                                            퇴마록    4130         문학\n",
            "23   24                                           Why?    4083         과학\n",
            "24   25                                명품 플래티늄 테마 위인동화    4047         교육\n",
            "25   26                                      놓지 마 과학!.    3895         과학\n",
            "26   27                          내일은 실험왕:본격 대결 과학실험 만화    3764         과학\n",
            "27   28                                       이야기 꽃할망.    3707         문학\n",
            "28   29                        (참 좋은 성격을 길러주는)테마 세계 명작    3693      분류 실패\n",
            "29   30                                우리나라 옛이야기 옛날옛적에    3484         문학\n",
            "30   31                                    처음 만나는 그림동화    3440      분류 실패\n",
            "31   32                                      퀴즈! 과학상식.    3381         과학\n",
            "32   33                                   해리포터와 불사조기사단    3314      분류 실패\n",
            "33   34                                    신기한 스쿨버스 키즈    3254         과학\n",
            "34   35                                (21세기) 먼나라 이웃나라    3204         교육\n",
            "35   36                                        달팽이과학동화    3192         과학\n",
            "36   37                 (코믹 크레이지레이싱) 카트라이더:고대문명 역사 탐험기    3186         역사\n",
            "37   38                    신의 물방울=(Les)gouttes de dieu    3153         예술\n",
            "38   39                                        내일은 발명왕    3143         교육\n",
            "39   40                                  (뿌까의)신나는 세계모험    3081         교육\n",
            "40   41                                          가즈나이트    3058         문학\n",
            "41   42                                        (만화)삼국지    3048         문학\n",
            "42   43                                           과학도둑    3021         과학\n",
            "43   44                                       내일은 실험왕.    2968         과학\n",
            "44   45                                             동천    2899         문학\n",
            "45   46                                   (옛이야기) 요술항아리    2898         문학\n",
            "46   47                                 이상한 과자 가게 전천당.    2888         문학\n",
            "47   48             수학도둑:사고력과 이해력을 향상시켜주는 국내 최초 수학논술만화    2886         수학\n",
            "48   49                                   원더랜드 팝콘 수학동화    2885         수학\n",
            "49   50                                           태백산맥    2808         문학\n",
            "50   51                                      아이세움 논술명작    2808         문학\n",
            "51   52                                       (만화)태백산맥    2792         문학\n",
            "52   53                                       에디슨 원리과학    2757         과학\n",
            "53   54                                   (만화)한국사 바로보기    2753         역사\n",
            "54   55                                      해리포터와 불의잔    2664      분류 실패\n",
            "55   56                              용선생이 간다:세계 문화 여행.    2658         교육\n",
            "56   57                                            수호지    2643         문학\n",
            "57   58                                (설민석의) 세계사 대모험.    2622      분류 실패\n",
            "58   59                                       지구별 영웅들.    2608         교육\n",
            "59   60                                   서바이벌 만화 생태상식    2556         자연\n",
            "60   61                                       (만화) 삼국지    2548         문학\n",
            "61   62                                      마법의 시간여행.    2529         문학\n",
            "62   63                                        밀레니엄 북스    2442         문학\n",
            "63   64                          (코믹 메이플스토리) 수학 도둑:기본편    2441         수학\n",
            "64   65                               수학자가 들려주는 수학 이야기    2424      분류 실패\n",
            "65   66                                        달려라 슛돌이    2361         문학\n",
            "66   67                                 (손쉽게 배우는) 경제동화    2333         교육\n",
            "67   68                             (만화로 만나는)20세기의 큰인물    2310      분류 실패\n",
            "68   69                                   쿠키런 서바이벌 대작전    2274         문학\n",
            "69   70                                 새롭게 읽는 좋은 우리고전    2273         문학\n",
            "70   71                   (학교 가기 전에 꼭 배워야 할)꼬마 과학 뒤집기.    2270         과학\n",
            "71   72                                 세계인물 학습만화=Who?    2265         교육\n",
            "72   73                                       내일은 발명왕.    2263         과학\n",
            "73   74                              (코믹 메이플스토리) 수학도둑.    2243         수학\n",
            "74   75                                        (소설)영웅문    2229         문학\n",
            "75   76                 로스트! =Lost! :어린이를 위한 신나는 과학 동화    2180         과학\n",
            "76   77                                      비밀요원 레너드.    2169         문학\n",
            "77   78                          (코믹 메이플스토리) 수학도둑:기본편.    2162         수학\n",
            "78   79                                  세계 탐험 만화 역사상식    2115         역사\n",
            "79   80                                    (곤충대전) 벅스벅스    2114         자연\n",
            "80   81                                          드래곤라자    2103         문학\n",
            "81   82                                           심야식당    2102         문학\n",
            "82   83                                  왜 그런지 정말 궁금해요    2046         교육\n",
            "83   84                                            데프콘    2042         역사\n",
            "84   85                                  인류를 감동시킨 세계명작    2040      분류 실패\n",
            "85   86                                          맹꽁이서당    2030         역사\n",
            "86   87                                       놓지 마 과학!    2021         과학\n",
            "87   88                                           푸른아이    2012         교육\n",
            "88   89                                         룬의 아이들    2009         문학\n",
            "89   90                                   코믹 테일즈런너 고고씽    2001         문학\n",
            "90   91                                          아스테릭스    1998         예술\n",
            "91   92                                 위대한 유산:전통문화그림책    1995      분류 실패\n",
            "92   93                              에그박사:자연 생물 관찰 만화.    1993         자연\n",
            "93   94                                     Who? 아티스트.    1991         예술\n",
            "94   95                                 어린이 과학 형사대 CSI    1982         과학\n",
            "95   96                                            서유기    1969         문학\n",
            "96   97  수학도둑:코믹 메이플 스토리:사고력과 이해력을 향상시켜주는 국내 최초 수학논술만화    1872      분류 실패\n",
            "97   98                                    (엽기 과학자)프래니    1846         교육\n",
            "98   99                                       탈무드 논리동화    1842         교육\n",
            "99  100                                      세계명작 논술만화    1838      분류 실패\n"
          ]
        },
        {
          "output_type": "stream",
          "name": "stderr",
          "text": [
            "\n"
          ]
        }
      ]
    }
  ]
}